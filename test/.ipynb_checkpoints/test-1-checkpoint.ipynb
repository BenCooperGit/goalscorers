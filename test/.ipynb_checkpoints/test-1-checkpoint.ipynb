{
 "cells": [
  {
   "cell_type": "code",
   "execution_count": 1,
   "id": "cdad09a4-4e8c-47ff-abd2-f948cbcea765",
   "metadata": {},
   "outputs": [
    {
     "name": "stdout",
     "output_type": "stream",
     "text": [
      "Running on PyMC v5.6.1\n",
      "Running on Az v0.16.0\n"
     ]
    }
   ],
   "source": [
    "package_paths = [r\"C:\\Users\\benja\\Documents\\projects\\goalscorers\"]\n",
    "import sys\n",
    "for path in package_paths:\n",
    "    sys.path.append(path)\n",
    "import goalscorer_package.constants as c\n",
    "import goalscorer_package.data_cleaning as dc\n",
    "import goalscorer_package.modelling as m\n",
    "import datetime as dt\n",
    "import pandas as pd\n",
    "import numpy as np\n",
    "import pymc as pm\n",
    "print(f\"Running on PyMC v{pm.__version__}\")\n",
    "import arviz as az\n",
    "print(f\"Running on Az v{az.__version__}\")\n",
    "import pytensor.tensor as pt\n",
    "import matplotlib.pyplot as plt\n",
    "import seaborn as sns\n",
    "import scipy\n",
    "import glob\n",
    "from statistics import mode\n",
    "pd.set_option(\"display.max_columns\", None)\n",
    "pd.set_option(\"display.max_rows\", 1000)\n",
    "pd.set_option(\"display.max_colwidth\", 100)\n",
    "pd.options.display.float_format = \"{: ,.3f}\".format\n",
    "%matplotlib inline\n",
    "plt.rcParams[\"figure.figsize\"] = (10, 6)\n",
    "%config InlineBackend.figure_formats = [\"retina\"]"
   ]
  },
  {
   "cell_type": "code",
   "execution_count": 2,
   "id": "aa146b2f-9318-4d6a-aede-250f13c454d4",
   "metadata": {},
   "outputs": [],
   "source": [
    "seasons = [\"2020-2021\"]\n",
    "comp_ids = [9, 10, 11]\n",
    "# seasons = [\"2021-2022\"]\n",
    "# comp_ids = [9]"
   ]
  },
  {
   "cell_type": "code",
   "execution_count": 3,
   "id": "b0effacc-9959-478b-83e0-d08deded2070",
   "metadata": {},
   "outputs": [],
   "source": [
    "def data(seasons: list[str], comp_ids: list[int]) -> pd.DataFrame:\n",
    "    seasons_leagues = dc.get_seasons_leagues_from_str(seasons, comp_ids)\n",
    "    df = dc.load_seasons_leagues_files(\"summary\", True, seasons_leagues)\n",
    "    df = dc.split_positions(df)\n",
    "    # df = dc.position_to_generic_position(df)\n",
    "    df = dc.add_frac_90(df)\n",
    "    df = dc.add_home(df)\n",
    "    df = dc.add_opp_team(df)\n",
    "    df = dc.drop_gk(df)\n",
    "    df = dc.drop_na_npxg(df)\n",
    "    df = dc.drop_na_frac_90(df)\n",
    "    df = dc.add_league(df)\n",
    "    df[\"league_10\"] = np.where((df.league == 10), 1, 0)    \n",
    "    return df"
   ]
  },
  {
   "cell_type": "code",
   "execution_count": 4,
   "id": "601bcfe9-dcf8-4b09-8ed0-23cac9804a8e",
   "metadata": {},
   "outputs": [],
   "source": [
    "df = data(seasons, comp_ids)"
   ]
  },
  {
   "cell_type": "code",
   "execution_count": 5,
   "id": "c7cfacdf-287e-4d1d-bb31-0e3e1463c7a6",
   "metadata": {},
   "outputs": [
    {
     "data": {
      "text/html": [
       "<div>\n",
       "<style scoped>\n",
       "    .dataframe tbody tr th:only-of-type {\n",
       "        vertical-align: middle;\n",
       "    }\n",
       "\n",
       "    .dataframe tbody tr th {\n",
       "        vertical-align: top;\n",
       "    }\n",
       "\n",
       "    .dataframe thead th {\n",
       "        text-align: right;\n",
       "    }\n",
       "</style>\n",
       "<table border=\"1\" class=\"dataframe\">\n",
       "  <thead>\n",
       "    <tr style=\"text-align: right;\">\n",
       "      <th></th>\n",
       "      <th>npxg</th>\n",
       "      <th>home</th>\n",
       "      <th>player</th>\n",
       "      <th>opposition_team</th>\n",
       "      <th>frac_90</th>\n",
       "      <th>position</th>\n",
       "      <th>league_10</th>\n",
       "    </tr>\n",
       "  </thead>\n",
       "  <tbody>\n",
       "    <tr>\n",
       "      <th>0</th>\n",
       "      <td>0.000</td>\n",
       "      <td>1</td>\n",
       "      <td>Aboubakar Kamara</td>\n",
       "      <td>Arsenal</td>\n",
       "      <td>0.689</td>\n",
       "      <td>FW</td>\n",
       "      <td>0</td>\n",
       "    </tr>\n",
       "    <tr>\n",
       "      <th>1</th>\n",
       "      <td>0.000</td>\n",
       "      <td>1</td>\n",
       "      <td>Aleksandar Mitrović</td>\n",
       "      <td>Arsenal</td>\n",
       "      <td>0.311</td>\n",
       "      <td>FW</td>\n",
       "      <td>0</td>\n",
       "    </tr>\n",
       "    <tr>\n",
       "      <th>2</th>\n",
       "      <td>0.000</td>\n",
       "      <td>1</td>\n",
       "      <td>Ivan Cavaleiro</td>\n",
       "      <td>Arsenal</td>\n",
       "      <td>1.000</td>\n",
       "      <td>LW</td>\n",
       "      <td>0</td>\n",
       "    </tr>\n",
       "    <tr>\n",
       "      <th>3</th>\n",
       "      <td>0.000</td>\n",
       "      <td>1</td>\n",
       "      <td>Neeskens Kebano</td>\n",
       "      <td>Arsenal</td>\n",
       "      <td>0.689</td>\n",
       "      <td>RW</td>\n",
       "      <td>0</td>\n",
       "    </tr>\n",
       "    <tr>\n",
       "      <th>4</th>\n",
       "      <td>0.000</td>\n",
       "      <td>1</td>\n",
       "      <td>Andre-Frank Zambo Anguissa</td>\n",
       "      <td>Arsenal</td>\n",
       "      <td>0.311</td>\n",
       "      <td>RW</td>\n",
       "      <td>0</td>\n",
       "    </tr>\n",
       "  </tbody>\n",
       "</table>\n",
       "</div>"
      ],
      "text/plain": [
       "    npxg  home                      player opposition_team  frac_90 position  \\\n",
       "0  0.000     1            Aboubakar Kamara         Arsenal    0.689       FW   \n",
       "1  0.000     1         Aleksandar Mitrović         Arsenal    0.311       FW   \n",
       "2  0.000     1              Ivan Cavaleiro         Arsenal    1.000       LW   \n",
       "3  0.000     1             Neeskens Kebano         Arsenal    0.689       RW   \n",
       "4  0.000     1  Andre-Frank Zambo Anguissa         Arsenal    0.311       RW   \n",
       "\n",
       "   league_10  \n",
       "0          0  \n",
       "1          0  \n",
       "2          0  \n",
       "3          0  \n",
       "4          0  "
      ]
     },
     "execution_count": 5,
     "metadata": {},
     "output_type": "execute_result"
    }
   ],
   "source": [
    "df_model = df[[\"npxg\", \"home\", \"player\", \"opposition_team\", \"frac_90\", \"position\", \"league_10\"]].copy()\n",
    "df_model.head()"
   ]
  },
  {
   "cell_type": "code",
   "execution_count": 6,
   "id": "e989aa59-e983-479c-b0ae-b11cde95bf95",
   "metadata": {},
   "outputs": [],
   "source": [
    "player_codes, players = pd.factorize(df_model.loc[:, \"player\"], sort=True)\n",
    "team_codes, teams = pd.factorize(df_model.loc[:, \"opposition_team\"], sort=True)\n",
    "\n",
    "coords = {\"players\": players, \"teams\": teams}"
   ]
  },
  {
   "cell_type": "code",
   "execution_count": 7,
   "id": "a430e76a-ee15-447c-a12a-8e3193145f3f",
   "metadata": {},
   "outputs": [],
   "source": [
    "df_players = df.copy()\n",
    "df_players.position = df_players.position.str.split(\",\", expand=True)[0]\n",
    "df_player_positions = df_players.groupby([\"player\", \"position\"], as_index=False)[\"home_team\"].count().rename(columns={\"home_team\": \"position_count\"})\n",
    "df_player_positions[\"position_count_max\"] = df_player_positions.groupby(\"player\")[\"position_count\"].transform(\"max\")\n",
    "df_player_positions = df_player_positions[df_player_positions.position_count == df_player_positions.position_count_max].reset_index(drop=True)\n",
    "df_player_positions = df_player_positions.groupby([\"player\"], as_index=False)[\"position\"].first()\n",
    "df_player_positions.index = df_player_positions.player\n",
    "df_player_positions = df_player_positions.loc[players]"
   ]
  },
  {
   "cell_type": "code",
   "execution_count": 8,
   "id": "7480c912-5cf0-4785-a1aa-7acbbb47a470",
   "metadata": {},
   "outputs": [],
   "source": [
    "position_mapping = {\n",
    "    \"LB\": (-4.07, 0.04),\n",
    "    \"CB\": (-3.29, 1.41),\n",
    "    \"RB\": (-4.08, 0.72),\n",
    "    \"WB\": (-2.51, 1.1),\n",
    "    \"DM\": (-3.33, 0.77),\n",
    "    \"LM\": (-2.25, 0.71),\n",
    "    \"CM\": (-3.28, 0.79),\n",
    "    \"RM\": (-2.31, 0.98),\n",
    "    \"AM\": (-1.63, 0.79),\n",
    "    \"LW\": (-1.24, 0.98),\n",
    "    \"FW\": (-1.1, 0.32),\n",
    "    \"RW\": (-1.54, 0.79),\n",
    "}\n",
    "\n",
    "positions = list(position_mapping.keys())\n",
    "conditions = [(df_player_positions.position.values == position) for position in positions]\n",
    "mus = [position_mapping[position][0] for position in positions]\n",
    "sigmas = [position_mapping[position][1] for position in positions]\n",
    "\n",
    "df_player_positions[\"mu\"] = np.select(conditions, mus)\n",
    "df_player_positions[\"sigma\"] = np.select(conditions, sigmas)"
   ]
  },
  {
   "cell_type": "code",
   "execution_count": 9,
   "id": "436789dc-f9d7-479e-9b1d-2c552e10bf57",
   "metadata": {},
   "outputs": [],
   "source": [
    "# Weighted Exponential\n",
    "def logp(value: pt.TensorVariable, lam: pt.TensorVariable, w: pt.TensorVariable) -> pt.TensorVariable:\n",
    "    log_prob = w * (np.log(lam) - lam * value)\n",
    "    return log_prob\n",
    "\n",
    "def random(lam, w, rng=None, size=None):\n",
    "    return scipy.stats.expon.rvs(scale=1.0/lam, size=size)"
   ]
  },
  {
   "cell_type": "code",
   "execution_count": 10,
   "id": "c8d7b809-3276-4eb9-b325-8bf05ba7855e",
   "metadata": {},
   "outputs": [],
   "source": [
    "with pm.Model(coords=coords) as model:\n",
    "    # Priors\n",
    "    λ = pm.Normal(\"λ\", mu=0.0, sigma=0.5)\n",
    "    Δ = pm.Normal(\"Δ\", mu=df_player_positions.mu.values, sigma=df_player_positions.sigma.values, dims=\"players\")\n",
    "    β_ = pm.Normal(\"β_\", mu=0.0, sigma=0.35, dims=\"teams\")\n",
    "\n",
    "    # Deterministic transform\n",
    "    β = pm.Deterministic(\"β\", β_ - β_.mean(), dims=\"teams\")\n",
    "\n",
    "    η = pm.Deterministic(\"η\", pt.exp(λ * df_model[\"home\"].values + Δ[player_codes] - β[team_codes] + 0.4*df_model.league_10.values))\n",
    "    τ = pm.MutableData(\"τ\", df_model[\"frac_90\"].values)\n",
    "\n",
    "    exp = pm.Deterministic(\"exp\", 1/(η * τ))\n",
    "\n",
    "    # Likelihood\n",
    "    # x = pm.Exponential(\"x\", lam=exp, observed=df_model[\"npxg\"].values)\n",
    "    x = pm.CustomDist(\n",
    "        \"x\",\n",
    "        exp, df_model.frac_90.values,\n",
    "        logp=logp,\n",
    "        random=random,\n",
    "        observed=df_model.npxg.values\n",
    "    )"
   ]
  },
  {
   "cell_type": "code",
   "execution_count": 11,
   "id": "d4ae36d4-5951-4a3d-8430-e02f0bf38b9d",
   "metadata": {},
   "outputs": [
    {
     "name": "stderr",
     "output_type": "stream",
     "text": [
      "Sampling: [x, Δ, β_, λ]\n"
     ]
    }
   ],
   "source": [
    "with model:\n",
    "    prior = pm.sample_prior_predictive(samples=1000)"
   ]
  },
  {
   "cell_type": "code",
   "execution_count": 12,
   "id": "cec4bc58-f551-4a72-8d84-5213e74a38db",
   "metadata": {},
   "outputs": [
    {
     "data": {
      "image/png": "[encoded data removed]",
      "text/plain": [
       "<Figure size 1000x600 with 1 Axes>"
      ]
     },
     "metadata": {
      "image/png": {
       "height": 546,
       "width": 868
      }
     },
     "output_type": "display_data"
    }
   ],
   "source": [
    "# sample of all eta's form a single sim\n",
    "\n",
    "plt.hist(prior.prior.η.sel(chain=0, draw=0).data)\n",
    "plt.title(f\"Sample of all {len(df_model): ,} eta's from a single sample\")\n",
    "plt.xlabel(\"η\")\n",
    "plt.ylabel(f\"count out of {len(df_model): ,}\");"
   ]
  },
  {
   "cell_type": "code",
   "execution_count": null,
   "id": "f49d5d53-9587-41fa-9168-17fb7a814297",
   "metadata": {},
   "outputs": [
    {
     "name": "stderr",
     "output_type": "stream",
     "text": [
      "Auto-assigning NUTS sampler...\n",
      "Initializing NUTS using jitter+adapt_diag...\n"
     ]
    }
   ],
   "source": [
    "with model:\n",
    "    idata = pm.sample()"
   ]
  },
  {
   "cell_type": "code",
   "execution_count": null,
   "id": "41c45126-72b2-412b-8f50-0367f9fd21d5",
   "metadata": {},
   "outputs": [],
   "source": [
    "az.summary(idata, var_names=[\"λ\", \"Δ\", \"β\"])"
   ]
  },
  {
   "cell_type": "code",
   "execution_count": null,
   "id": "77937002-85fc-4759-8fce-4803a0c81ea3",
   "metadata": {},
   "outputs": [],
   "source": [
    "az.plot_trace(idata, var_names=[\"λ\", \"Δ\", \"β\"])"
   ]
  },
  {
   "cell_type": "code",
   "execution_count": null,
   "id": "93736ef2-efb4-4810-833b-5a44d5eb871d",
   "metadata": {},
   "outputs": [],
   "source": [
    "az.plot_energy(idata);"
   ]
  },
  {
   "cell_type": "code",
   "execution_count": null,
   "id": "9fb6d413-f9cc-4d03-aef4-a5349663f1c8",
   "metadata": {},
   "outputs": [],
   "source": [
    "az.plot_posterior(idata, var_names=[\"λ\", \"Δ\", \"β\"])"
   ]
  },
  {
   "cell_type": "code",
   "execution_count": null,
   "id": "1e3221fa-3b83-4c77-be02-06a5023a96bb",
   "metadata": {},
   "outputs": [],
   "source": [
    "az.plot_forest(idata, var_names=[\"λ\", \"Δ\", \"β\"])"
   ]
  },
  {
   "cell_type": "code",
   "execution_count": null,
   "id": "e12d8f3a-a698-4ba4-8208-b5ec5a1dce71",
   "metadata": {},
   "outputs": [],
   "source": []
  },
  {
   "cell_type": "code",
   "execution_count": null,
   "id": "f0682602-f493-4faf-adc0-f136faefc6a1",
   "metadata": {},
   "outputs": [],
   "source": []
  },
  {
   "cell_type": "code",
   "execution_count": null,
   "id": "ba3c0bad-d5d1-444e-8853-bd97f5457db4",
   "metadata": {},
   "outputs": [],
   "source": []
  },
  {
   "cell_type": "code",
   "execution_count": null,
   "id": "571a7523-8d27-44ce-8b47-7128187e063f",
   "metadata": {},
   "outputs": [],
   "source": []
  }
 ],
 "metadata": {
  "kernelspec": {
   "display_name": "pymc_env_2",
   "language": "python",
   "name": "pymc_env_2"
  },
  "language_info": {
   "codemirror_mode": {
    "name": "ipython",
    "version": 3
   },
   "file_extension": ".py",
   "mimetype": "text/x-python",
   "name": "python",
   "nbconvert_exporter": "python",
   "pygments_lexer": "ipython3",
   "version": "3.11.4"
  }
 },
 "nbformat": 4,
 "nbformat_minor": 5
}
