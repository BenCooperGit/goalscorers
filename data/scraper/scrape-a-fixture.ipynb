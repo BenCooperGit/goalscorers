{
 "cells": [
  {
   "cell_type": "code",
   "execution_count": 4,
   "id": "4526a6cf-9795-4458-9cb2-a3b722cec4cf",
   "metadata": {},
   "outputs": [],
   "source": [
    "import httpx\n",
    "import bs4\n",
    "from dataclasses import dataclass, asdict\n",
    "import unicodedata\n",
    "import datetime as dt\n",
    "import pandas as pd\n",
    "import numpy as np\n",
    "import time\n",
    "\n",
    "pd.set_option(\"display.max_columns\", 1000)\n",
    "pd.set_option(\"display.max_rows\", 1000)\n",
    "pd.set_option(\"max_colwidth\", 100)"
   ]
  },
  {
   "cell_type": "code",
   "execution_count": 12,
   "id": "2ae5bf27-09a8-4747-be50-547f49fdb2ac",
   "metadata": {},
   "outputs": [],
   "source": [
    "season_league = (\"2018-2019\", 9, \"Premier-League\")"
   ]
  },
  {
   "cell_type": "code",
   "execution_count": 13,
   "id": "c86d27fc-2a78-4b15-bd4c-a97cbeb7696d",
   "metadata": {},
   "outputs": [],
   "source": [
    "@dataclass\n",
    "class Fixture:\n",
    "    url: str = None\n",
    "    home_team: str = None\n",
    "    away_team: str = None\n",
    "    datetime: int = None\n",
    "    home_team_manager: str = None\n",
    "    away_team_manager: str = None\n",
    "    stadium: str = None\n",
    "    attendance: int = None"
   ]
  },
  {
   "cell_type": "code",
   "execution_count": 17,
   "id": "1538c54b-d587-4d8c-a19b-ef26c02917ab",
   "metadata": {},
   "outputs": [
    {
     "data": {
      "text/plain": [
       "'https://fbref.com/en/comps/9/2018-2019/schedule/2018-2019-Premier-League-Scores-and-Fixtures'"
      ]
     },
     "execution_count": 17,
     "metadata": {},
     "output_type": "execute_result"
    }
   ],
   "source": [
    "season, comp_id, comp_name = season_league\n",
    "url = f\"https://fbref.com/en/comps/{comp_id}/{season}/schedule/{season}-{comp_name}-Scores-and-Fixtures\"\n",
    "url"
   ]
  },
  {
   "cell_type": "code",
   "execution_count": 15,
   "id": "01ea6112-eb7e-4ebb-91be-31d07083c242",
   "metadata": {},
   "outputs": [],
   "source": [
    "with httpx.Client() as client:\n",
    "    resp = client.get(url)\n",
    "soup = bs4.BeautifulSoup(resp, \"html.parser\")"
   ]
  },
  {
   "cell_type": "code",
   "execution_count": 19,
   "id": "3e5e1cc8-975d-42f7-906d-4d3b0c7310ca",
   "metadata": {},
   "outputs": [],
   "source": [
    "soup_table = soup.select(\"div.table_container\")[0]\n",
    "soups_score = soup_table.find_all(\"td\", attrs={\"data-stat\": \"score\"})\n",
    "soups_away_xg = soup_table.find_all(\"td\", attrs={\"data-stat\": \"away_xg\"})"
   ]
  },
  {
   "cell_type": "code",
   "execution_count": 20,
   "id": "c8d11bab-3f3c-47ff-ba82-877d48c516d0",
   "metadata": {},
   "outputs": [
    {
     "data": {
      "text/plain": [
       "[]"
      ]
     },
     "execution_count": 20,
     "metadata": {},
     "output_type": "execute_result"
    }
   ],
   "source": [
    "soups_away_xg"
   ]
  },
  {
   "cell_type": "code",
   "execution_count": null,
   "id": "7ee81502-4408-408c-b290-ba9bf5b3cf5f",
   "metadata": {},
   "outputs": [],
   "source": []
  },
  {
   "cell_type": "code",
   "execution_count": null,
   "id": "568895a6-5bf7-44e9-a2b4-9fd5f37ffd27",
   "metadata": {},
   "outputs": [],
   "source": []
  }
 ],
 "metadata": {
  "kernelspec": {
   "display_name": "Python 3 (ipykernel)",
   "language": "python",
   "name": "python3"
  },
  "language_info": {
   "codemirror_mode": {
    "name": "ipython",
    "version": 3
   },
   "file_extension": ".py",
   "mimetype": "text/x-python",
   "name": "python",
   "nbconvert_exporter": "python",
   "pygments_lexer": "ipython3",
   "version": "3.11.4"
  }
 },
 "nbformat": 4,
 "nbformat_minor": 5
}
