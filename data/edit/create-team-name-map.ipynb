{
 "cells": [
  {
   "cell_type": "code",
   "execution_count": 1,
   "id": "b6f17922-2aa0-4a6d-88f9-6f0ccd289ea6",
   "metadata": {},
   "outputs": [],
   "source": [
    "package_paths = [r\"C:\\Users\\benja\\Documents\\projects\\goalscorers\"]\n",
    "import sys\n",
    "for path in package_paths:\n",
    "    sys.path.append(path)\n",
    "import goalscorer_package.constants as c\n",
    "import pandas as pd\n",
    "import numpy as np\n",
    "import glob\n",
    "pd.set_option(\"display.max_columns\", None)\n",
    "pd.set_option(\"display.max_rows\", 1000)\n",
    "pd.set_option(\"display.max_colwidth\", 100)\n",
    "pd.options.display.float_format = \"{: ,.3f}\".format"
   ]
  },
  {
   "cell_type": "code",
   "execution_count": 2,
   "id": "66656810-a3e0-4aa7-905a-c46dfbbe56cd",
   "metadata": {},
   "outputs": [],
   "source": [
    "league_id = 20"
   ]
  },
  {
   "cell_type": "code",
   "execution_count": 3,
   "id": "3fe05647-8c92-4bb8-89c6-c7c34f8da0ec",
   "metadata": {},
   "outputs": [],
   "source": [
    "files_football_data = glob.glob(c.FilePath.FOOTBALL_DATA_RAW + f\"*-league-{league_id}-*.csv\")\n",
    "files_fbref = glob.glob(c.FilePath.FBREF_RAW + f\"*-league-{league_id}-summary*.csv\")"
   ]
  },
  {
   "cell_type": "code",
   "execution_count": 4,
   "id": "78218a94-def7-41b5-a652-fcf22b7a0b62",
   "metadata": {},
   "outputs": [],
   "source": [
    "df_football_data = pd.concat([pd.read_csv(file) for file in files_football_data], ignore_index=True)\n",
    "df_fbref = pd.concat([pd.read_csv(file) for file in files_fbref], ignore_index=True)"
   ]
  },
  {
   "cell_type": "code",
   "execution_count": 5,
   "id": "189f7c91-b17d-4c33-9b62-e8df2847b719",
   "metadata": {},
   "outputs": [],
   "source": [
    "# date\n",
    "df_fbref.datetime = pd.to_datetime(df_fbref.datetime, unit=\"s\")\n",
    "df_fbref[\"date\"] = pd.to_datetime(df_fbref.datetime.dt.date).dt.strftime(\"%d/%m/%Y\")\n",
    "\n",
    "# rename columns\n",
    "df_football_data = df_football_data.rename(columns={\"HomeTeam\": \"home_team\", \"AwayTeam\": \"away_team\", \"Date\": \"date\"})"
   ]
  },
  {
   "cell_type": "code",
   "execution_count": 6,
   "id": "890860e7-494d-4e3e-9a44-0563d76523ea",
   "metadata": {},
   "outputs": [],
   "source": [
    "teams_football_data = np.sort(df_football_data.home_team.unique())\n",
    "teams_fbref = np.sort(df_fbref.home_team.unique())"
   ]
  },
  {
   "cell_type": "code",
   "execution_count": 7,
   "id": "4355ea0c-fab3-4bce-bfca-bb08c7c83f89",
   "metadata": {},
   "outputs": [
    {
     "data": {
      "text/plain": [
       "['Bielefeld',\n",
       " 'Ein Frankfurt',\n",
       " 'FC Koln',\n",
       " 'Fortuna Dusseldorf',\n",
       " 'Greuther Furth',\n",
       " 'Hamburg',\n",
       " 'Hannover',\n",
       " 'Hertha',\n",
       " 'Leverkusen',\n",
       " \"M'gladbach\",\n",
       " 'Mainz',\n",
       " 'Nurnberg',\n",
       " 'Paderborn']"
      ]
     },
     "execution_count": 7,
     "metadata": {},
     "output_type": "execute_result"
    }
   ],
   "source": [
    "[team for team in teams_football_data if team not in teams_fbref]"
   ]
  },
  {
   "cell_type": "code",
   "execution_count": 8,
   "id": "08b81be1-cf5c-4818-b925-2e50ae65738e",
   "metadata": {},
   "outputs": [
    {
     "data": {
      "text/plain": [
       "['Arminia',\n",
       " 'Bayer Leverkusen',\n",
       " 'Düsseldorf',\n",
       " 'Eintracht Frankfurt',\n",
       " 'Greuther Fürth',\n",
       " 'Hamburger SV',\n",
       " 'Hannover 96',\n",
       " 'Hertha BSC',\n",
       " 'Köln',\n",
       " 'Mainz 05',\n",
       " 'Mönchengladbach',\n",
       " 'Nürnberg',\n",
       " 'Paderborn 07']"
      ]
     },
     "execution_count": 8,
     "metadata": {},
     "output_type": "execute_result"
    }
   ],
   "source": [
    "[team for team in teams_fbref if team not in teams_football_data]"
   ]
  },
  {
   "cell_type": "markdown",
   "id": "1c9915e2-6029-4662-95e4-15cc1e53e9d3",
   "metadata": {},
   "source": [
    "  "
   ]
  }
 ],
 "metadata": {
  "kernelspec": {
   "display_name": "Python 3 (ipykernel)",
   "language": "python",
   "name": "python3"
  },
  "language_info": {
   "codemirror_mode": {
    "name": "ipython",
    "version": 3
   },
   "file_extension": ".py",
   "mimetype": "text/x-python",
   "name": "python",
   "nbconvert_exporter": "python",
   "pygments_lexer": "ipython3",
   "version": "3.11.4"
  }
 },
 "nbformat": 4,
 "nbformat_minor": 5
}
