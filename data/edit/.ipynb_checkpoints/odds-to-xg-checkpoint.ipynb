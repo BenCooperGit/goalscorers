{
 "cells": [
  {
   "cell_type": "code",
   "execution_count": 8,
   "id": "82e42db2-cfe3-4e15-857b-4ba65c349ce7",
   "metadata": {},
   "outputs": [],
   "source": [
    "package_paths = [r\"C:\\Users\\benja\\Documents\\projects\\goalscorers\"]\n",
    "import sys\n",
    "\n",
    "for path in package_paths:\n",
    "    sys.path.append(path)\n",
    "from goalscorer_package.constants import *\n",
    "import goalscorer_package.data_cleaning as dc\n",
    "import datetime as dt\n",
    "import pandas as pd\n",
    "import numpy as np\n",
    "import scipy\n",
    "import glob\n",
    "\n",
    "pd.set_option(\"display.max_columns\", None)\n",
    "pd.set_option(\"display.max_rows\", 1000)\n",
    "pd.set_option(\"display.max_colwidth\", 100)\n",
    "pd.options.display.float_format = \"{: ,.3f}\".format"
   ]
  },
  {
   "cell_type": "markdown",
   "id": "bad9bc27-04ef-4d77-b98c-f85a5d54b49c",
   "metadata": {},
   "source": [
    "  "
   ]
  },
  {
   "cell_type": "markdown",
   "id": "c150da04-c627-4e82-9feb-9a526793a143",
   "metadata": {},
   "source": [
    "# Input"
   ]
  },
  {
   "cell_type": "code",
   "execution_count": 9,
   "id": "e4af11b2-1fec-49ad-ad05-31333c8f779f",
   "metadata": {},
   "outputs": [],
   "source": [
    "season_league = SeasonLeague(SEASON_20_21, GERMAN_BUNDESLIGA, xg_league_bool=True)"
   ]
  },
  {
   "cell_type": "code",
   "execution_count": 10,
   "id": "5979ff0e-d7e6-4cb7-8bbe-411c43182793",
   "metadata": {},
   "outputs": [],
   "source": [
    "def add_datetime(df: pd.DataFrame) -> pd.DataFrame:\n",
    "    return df.assign(\n",
    "        # Convert \"date\" and \"time\" columns to datetime format\n",
    "        date=lambda x: pd.to_datetime(x.Date, format=\"%d/%m/%Y\"),\n",
    "        time=lambda x: pd.to_datetime(x.Time, format=\"%H:%M\").dt.time,\n",
    "        # Combine \"date\" and \"time\" columns to create \"datetime\" columns\n",
    "        datetime=lambda x: pd.to_datetime(\n",
    "            x.date.astype(str) + \" \" + x.time.astype(str)\n",
    "        ),\n",
    "    )\n",
    "\n",
    "\n",
    "def add_fbref_team_names(df: pd.DataFrame) -> pd.DataFrame:\n",
    "    df_home_team_name_map = pd.DataFrame(\n",
    "        {\n",
    "            \"team_home\": FOOTBALL_DATA_TO_FBREF_TEAM_NAME_MAP.keys(),\n",
    "            \"home_team\": FOOTBALL_DATA_TO_FBREF_TEAM_NAME_MAP.values(),\n",
    "        }\n",
    "    )\n",
    "    df_away_team_name_map = pd.DataFrame(\n",
    "        {\n",
    "            \"team_away\": FOOTBALL_DATA_TO_FBREF_TEAM_NAME_MAP.keys(),\n",
    "            \"away_team\": FOOTBALL_DATA_TO_FBREF_TEAM_NAME_MAP.values(),\n",
    "        }\n",
    "    )\n",
    "    return (\n",
    "        df.merge(df_home_team_name_map, how=\"left\", on=[\"team_home\"], validate=\"m:1\")\n",
    "        .merge(df_away_team_name_map, how=\"left\", on=[\"team_away\"], validate=\"m:1\")\n",
    "        .assign(\n",
    "            home_team=lambda x: x.home_team.fillna(x.team_home),\n",
    "            away_team=lambda x: x.away_team.fillna(x.team_away),\n",
    "        )\n",
    "    )"
   ]
  },
  {
   "cell_type": "code",
   "execution_count": 11,
   "id": "2e85d796-0ac8-4bcf-b644-f8d1d4d9bef6",
   "metadata": {},
   "outputs": [],
   "source": [
    "def data(season_league: SeasonLeague) -> pd.DataFrame:\n",
    "    season, comp_id = season_league.season.season_str, season_league.league.league_id\n",
    "\n",
    "    file_path = (\n",
    "        FilePath.FOOTBALL_DATA_RAW + f\"{season}-league-{comp_id}-historic-odds.csv\"\n",
    "    )\n",
    "    # file_path = FilePath.FOOTBALL_DATA_RAW + \"2020-20201-league-9-historic-odds.csv\"\n",
    "\n",
    "    df = pd.read_csv(file_path)\n",
    "    df = add_datetime(df)\n",
    "    return df"
   ]
  },
  {
   "cell_type": "code",
   "execution_count": 12,
   "id": "c0693fe9-ee08-4c54-9f09-4523d50cf2c3",
   "metadata": {},
   "outputs": [],
   "source": [
    "df = data(season_league)"
   ]
  },
  {
   "cell_type": "code",
   "execution_count": 23,
   "id": "d74e207c-a437-4d44-aa37-2a7b95227347",
   "metadata": {},
   "outputs": [
    {
     "data": {
      "text/plain": [
       "True"
      ]
     },
     "execution_count": 23,
     "metadata": {},
     "output_type": "execute_result"
    }
   ],
   "source": [
    "home_team = \"Bayern Munich\"\n",
    "away_team = \"Augsburg\"\n",
    "np.isnan(df.query(\"(HomeTeam == @home_team) & (AwayTeam == @away_team)\")[\"P>2.5\"].values[0])"
   ]
  },
  {
   "cell_type": "code",
   "execution_count": null,
   "id": "9596726e-0ff3-4eae-bbeb-46b7437dd267",
   "metadata": {},
   "outputs": [],
   "source": []
  },
  {
   "cell_type": "code",
   "execution_count": null,
   "id": "9d2fbf6c-96f8-4d79-b29b-d72752e0b132",
   "metadata": {},
   "outputs": [],
   "source": []
  },
  {
   "cell_type": "code",
   "execution_count": null,
   "id": "fe768bb6-e9e8-424f-abd7-22f6f2a41c60",
   "metadata": {},
   "outputs": [],
   "source": []
  },
  {
   "cell_type": "code",
   "execution_count": null,
   "id": "f30b44c2-686b-4057-a310-8a1601ceca3c",
   "metadata": {},
   "outputs": [],
   "source": []
  },
  {
   "cell_type": "code",
   "execution_count": null,
   "id": "d61e7a9f-1728-4d8c-985f-a01329daa52d",
   "metadata": {},
   "outputs": [],
   "source": []
  },
  {
   "cell_type": "code",
   "execution_count": null,
   "id": "8f294a10-736b-4b26-bbae-cddca13ded75",
   "metadata": {},
   "outputs": [],
   "source": []
  },
  {
   "cell_type": "code",
   "execution_count": null,
   "id": "223df103-8845-4c61-886d-0d127a1c863d",
   "metadata": {},
   "outputs": [],
   "source": []
  },
  {
   "cell_type": "code",
   "execution_count": null,
   "id": "4567d2e5-642c-4898-9eee-484db9168e32",
   "metadata": {},
   "outputs": [],
   "source": []
  },
  {
   "cell_type": "code",
   "execution_count": null,
   "id": "66eab3be-1456-45bc-8841-379959e7b87f",
   "metadata": {},
   "outputs": [],
   "source": []
  },
  {
   "cell_type": "code",
   "execution_count": null,
   "id": "9f5a80c4-37ef-4a57-a98d-3ad76771ae00",
   "metadata": {},
   "outputs": [],
   "source": []
  },
  {
   "cell_type": "code",
   "execution_count": null,
   "id": "fba75cab-6d78-481b-8710-0b9767fdf81a",
   "metadata": {},
   "outputs": [],
   "source": []
  },
  {
   "cell_type": "code",
   "execution_count": null,
   "id": "5ff87af7-8dd6-4d54-9f31-0f5ef4dba88b",
   "metadata": {},
   "outputs": [],
   "source": []
  },
  {
   "cell_type": "code",
   "execution_count": null,
   "id": "15f16253-02a0-4c08-94bf-0d22b59855b6",
   "metadata": {},
   "outputs": [],
   "source": []
  },
  {
   "cell_type": "code",
   "execution_count": null,
   "id": "9ef5b646-9bd3-4d31-a7a1-fb1a727210d4",
   "metadata": {},
   "outputs": [],
   "source": []
  },
  {
   "cell_type": "code",
   "execution_count": null,
   "id": "b26405e1-80f5-4b07-b8e5-2ecd4f083463",
   "metadata": {},
   "outputs": [],
   "source": []
  }
 ],
 "metadata": {
  "kernelspec": {
   "display_name": "Python 3 (ipykernel)",
   "language": "python",
   "name": "python3"
  },
  "language_info": {
   "codemirror_mode": {
    "name": "ipython",
    "version": 3
   },
   "file_extension": ".py",
   "mimetype": "text/x-python",
   "name": "python",
   "nbconvert_exporter": "python",
   "pygments_lexer": "ipython3",
   "version": "3.11.4"
  }
 },
 "nbformat": 4,
 "nbformat_minor": 5
}
