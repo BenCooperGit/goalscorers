{
 "cells": [
  {
   "cell_type": "code",
   "execution_count": 1,
   "id": "b09565ce-5baf-40e2-9063-deeafe388c94",
   "metadata": {},
   "outputs": [],
   "source": [
    "package_paths = [r\"C:\\Users\\benja\\Documents\\projects\\goalscorers\"]\n",
    "import sys\n",
    "for path in package_paths:\n",
    "    sys.path.append(path)\n",
    "import goalscorer_package.constants as c\n",
    "import goalscorer_package.data_cleaning as dc\n",
    "import goalscorer_package.modelling as m\n",
    "import datetime as dt\n",
    "import pandas as pd\n",
    "import numpy as np\n",
    "# import pymc as pm\n",
    "# print(f\"Running on PyMC v{pm.__version__}\")\n",
    "# import arviz as az\n",
    "# print(f\"Running on Az v{az.__version__}\")\n",
    "# import pytensor.tensor as pt\n",
    "import matplotlib.pyplot as plt\n",
    "import seaborn as sns\n",
    "import scipy\n",
    "import glob\n",
    "from statistics import mode\n",
    "pd.set_option(\"display.max_columns\", None)\n",
    "pd.set_option(\"display.max_rows\", 1000)\n",
    "pd.set_option(\"display.max_colwidth\", 100)\n",
    "pd.options.display.float_format = \"{: ,.3f}\".format\n",
    "%matplotlib inline\n",
    "plt.rcParams[\"figure.figsize\"] = (10, 6)\n",
    "%config InlineBackend.figure_formats = [\"retina\"]"
   ]
  },
  {
   "cell_type": "code",
   "execution_count": 2,
   "id": "d3ebb3ae-4e67-4c72-9db0-3fef66ce285c",
   "metadata": {},
   "outputs": [],
   "source": [
    "SCALE_BY_MATCH_EXPECTANCY = False\n",
    "FINSHING_SKILL = True\n",
    "SAMPLE_NPXG_DISTRIBUTION = False"
   ]
  },
  {
   "cell_type": "code",
   "execution_count": 3,
   "id": "708e114d-ae6e-49f6-b609-7865f9c827e4",
   "metadata": {},
   "outputs": [],
   "source": [
    "season = \"2020-2021\"\n",
    "comp_ids = [9, 11, 12, 20]"
   ]
  },
  {
   "cell_type": "code",
   "execution_count": 4,
   "id": "5efadb3c-b3cf-4192-a0b1-840a1c554e57",
   "metadata": {},
   "outputs": [],
   "source": [
    "NUM_CHAINS = 4"
   ]
  },
  {
   "cell_type": "markdown",
   "id": "0cd8ab8d-b6b4-4cd5-9515-6a79420318da",
   "metadata": {},
   "source": [
    "# Data"
   ]
  },
  {
   "cell_type": "code",
   "execution_count": 5,
   "id": "99020ac4-adaf-4c40-ada9-903adcaa5ebe",
   "metadata": {},
   "outputs": [],
   "source": [
    "seasons_leagues = dc.get_seasons_leagues_from_str([season], comp_ids)"
   ]
  },
  {
   "cell_type": "code",
   "execution_count": 6,
   "id": "b6525f4e-0f12-42dd-9210-47fd1235430e",
   "metadata": {},
   "outputs": [],
   "source": [
    "df_exp = dc.load_match_expectancies_df(seasons_leagues)"
   ]
  },
  {
   "cell_type": "code",
   "execution_count": 7,
   "id": "bf7c6ada-63ff-422a-8872-62a005a4bc3d",
   "metadata": {},
   "outputs": [],
   "source": [
    "df_test_npxg = pd.read_pickle(r\"..\\npxg\\cache\\df_test.pickle\")\n",
    "df_test_npg = pd.read_pickle(r\"..\\npg\\cache\\df_test.pickle\")"
   ]
  },
  {
   "cell_type": "code",
   "execution_count": 8,
   "id": "70f0614c-33a6-4f43-9120-74508fb8597c",
   "metadata": {},
   "outputs": [],
   "source": [
    "merge_on_columns = [\"datetime\", \"home_team\", \"away_team\", \"player_id\", \"player\"]\n",
    "\n",
    "df_test = df_test_npxg.merge(\n",
    "    df_test_npg[merge_on_columns + [f\"F_{c}\" for c in range(NUM_CHAINS)] + [\"pred_F\"]],\n",
    "    how=\"left\",\n",
    "    on=merge_on_columns,\n",
    "    validate=\"1:1\"\n",
    ")\n",
    "\n",
    "df_test = dc.add_expectancies(df_test, df_exp)"
   ]
  },
  {
   "cell_type": "code",
   "execution_count": 9,
   "id": "a25da831-87b7-4b5c-94cb-ed0dc5072f42",
   "metadata": {},
   "outputs": [],
   "source": [
    "df = df_test[\n",
    "    [\n",
    "        \"player_id\", \"player\", \"position\", \"squad\", \"start\", \"season\", \"home\", \"opposition_team\", \"frac_90\", \"home_team\", \"away_team\", \"datetime\",\n",
    "        \"t\", \"age\", \"league\", \"npxg\", \"npg\", ] + [f\"pred_npxg_{c}\" for c in range(NUM_CHAINS)] + [f\"F_{c}\" for c in range(NUM_CHAINS)] + [\n",
    "            \"pred_npxg\", \"pred_F\", \"team_exp\", \"opp_team_exp\"\n",
    "        ]\n",
    "]"
   ]
  },
  {
   "cell_type": "markdown",
   "id": "dcecb29d-4892-49c0-a402-4616159ff0e1",
   "metadata": {},
   "source": [
    "  "
   ]
  },
  {
   "cell_type": "markdown",
   "id": "410fc09e-e5ad-4654-ada3-e4ddb718344f",
   "metadata": {},
   "source": [
    "# Eval"
   ]
  },
  {
   "cell_type": "code",
   "execution_count": 10,
   "id": "15b478f9-c021-4305-8fa6-ac07413e28f2",
   "metadata": {},
   "outputs": [],
   "source": [
    "def cap_pred_npg(df: pd.DataFrame, max_npg=2.4) -> pd.DataFrame:\n",
    "    # df.pred_npg_all = df.pred_npg_all.apply(lambda arr: np.where(arr < max_npg, arr, 0.6))\n",
    "    # df.pred_npg_all = df.pred_npg_all.apply(lambda arr: np.where(arr < 0.07, 0.0, arr))\n",
    "    return df"
   ]
  },
  {
   "cell_type": "code",
   "execution_count": 11,
   "id": "85f20ee8-ec17-4046-bf2b-5f51fbba2eae",
   "metadata": {},
   "outputs": [],
   "source": [
    "def probs(lambda_array: list[float], goals=[0, 1, 2, 3, 4, 5]) -> list[float]:  # length = len(goals)\n",
    "    if SAMPLE_NPXG_DISTRIBUTION:\n",
    "        return [scipy.stats.poisson.pmf(goal, mu=lambda_array).mean() for goal in goals]\n",
    "    else:\n",
    "        return [scipy.stats.poisson.pmf(goal, mu=lambda_array.mean()) for goal in goals]"
   ]
  },
  {
   "cell_type": "code",
   "execution_count": 12,
   "id": "76896200-2eca-4e59-aa77-aec57d931a77",
   "metadata": {},
   "outputs": [],
   "source": [
    "def calc_goal_probs(df: pd.DataFrame, pred_col_name=\"pred_npg_all\") -> pd.DataFrame:\n",
    "    goals = np.sort(df.npg.unique())\n",
    "    df[\"probs\"] = df[pred_col_name].apply(lambda x: probs(x, goals))\n",
    "\n",
    "    df_probs = pd.DataFrame(df.probs.tolist(), columns=[f\"prob_npg_{goal}\" for goal in goals])\n",
    "\n",
    "    return df_probs"
   ]
  },
  {
   "cell_type": "code",
   "execution_count": 13,
   "id": "11f03052-992b-4679-a2a5-8b850f8e69ce",
   "metadata": {},
   "outputs": [],
   "source": [
    "def add_ll_to_df(df: pd.DataFrame) -> pd.DataFrame:\n",
    "    df[\"log_likelihood\"] = np.log(scipy.stats.poisson.pmf(df.npg, mu=df[\"pred_npg\"]))\n",
    "    return df"
   ]
  },
  {
   "cell_type": "code",
   "execution_count": 14,
   "id": "50041df6-cb02-474d-89bc-57d306fd2d69",
   "metadata": {},
   "outputs": [],
   "source": [
    "def create_predicted_npg_distribution(df: pd.DataFrame) -> pd.DataFrame:\n",
    "\n",
    "    for c in range(NUM_CHAINS):\n",
    "        if not FINSHING_SKILL:\n",
    "            df[f\"F_{c}\"] = 0.0\n",
    "        df[f\"pred_npg_{c}\"] = df[f\"pred_npxg_{c}\"] * df[f\"F_{c}\"].apply(lambda x: np.exp(x))\n",
    "\n",
    "    df[\"pred_npg_all\"] = df.apply(lambda x: np.concatenate((x.pred_npg_0, x.pred_npg_1)), axis=1)\n",
    "    for c in range(2, NUM_CHAINS):\n",
    "        df.pred_npg_all = df.apply(lambda x: np.concatenate((x.pred_npg_all, x[f\"pred_npg_{c}\"])), axis=1)\n",
    "    \n",
    "    return df"
   ]
  },
  {
   "cell_type": "code",
   "execution_count": 15,
   "id": "efd787a4-2e32-4c90-b26c-5c9cee004c45",
   "metadata": {},
   "outputs": [],
   "source": [
    "def calc_goal_outcomes(df: pd.DataFrame, goals=[0, 1, 2, 3, 4, 5]) -> pd.DataFrame:\n",
    "    goals = np.sort(df.npg.unique())\n",
    "    df_npgs = pd.get_dummies(df.npg)\n",
    "    for goal in goals:\n",
    "        if goal not in df_npgs.columns:\n",
    "            df_npgs[goal] = False\n",
    "    df_npgs = df_npgs[goals]\n",
    "\n",
    "    return df_npgs"
   ]
  },
  {
   "cell_type": "code",
   "execution_count": 16,
   "id": "45809b4e-48b4-43df-a97c-feaba6554f65",
   "metadata": {},
   "outputs": [],
   "source": [
    "def add_match_expectancy_correction(df: pd.DataFrame) -> pd.DataFrame:\n",
    "    df_matches = (\n",
    "        df\n",
    "        .query(\"start\")\n",
    "        .groupby([\"home_team\", \"away_team\", \"datetime\", \"home\"], as_index=False)\n",
    "        .agg(\n",
    "            pred_npg_total=(\"pred_npg90\", sum),\n",
    "            team_exp=(\"team_exp\", \"first\"),\n",
    "        )\n",
    "        .sort_values([\"datetime\", \"home\"], ignore_index=True)\n",
    "        .assign(\n",
    "            match_exp_npg_total=lambda x: x.team_exp * (1.0 - 0.092),\n",
    "            correction=lambda x: (x.match_exp_npg_total / x.pred_npg_total)\n",
    "        )\n",
    "    )\n",
    "    return (\n",
    "        df\n",
    "        .merge(\n",
    "            df_matches[[\"home_team\", \"away_team\", \"datetime\", \"home\", \"correction\"]], \n",
    "            how=\"left\", \n",
    "            on=[\"home_team\", \"away_team\", \"datetime\", \"home\"],\n",
    "            validate=\"m:1\"\n",
    "        )\n",
    "    )"
   ]
  },
  {
   "cell_type": "code",
   "execution_count": 17,
   "id": "e007315e-ccdc-43dc-a511-c276a44b7cd4",
   "metadata": {},
   "outputs": [],
   "source": [
    "df_eval = df.copy()\n",
    "df_eval = create_predicted_npg_distribution(df_eval)\n",
    "df_eval[\"pred_npg\"] = df_eval.pred_npg_all.apply(lambda x: x.mean())\n",
    "df_eval = cap_pred_npg(df_eval, max_npg=1.4)\n",
    "if SCALE_BY_MATCH_EXPECTANCY:\n",
    "    df_eval[\"pred_npg90\"] = df_eval.pred_npg / df_eval.frac_90\n",
    "    df_eval = add_match_expectancy_correction(df_eval)\n",
    "    df_eval[\"pred_npg_all\"] = df_eval.pred_npg_all * df_eval.correction\n",
    "    df_eval = cap_pred_npg(df_eval)\n",
    "    df_eval[\"pred_npg\"] = df_eval.pred_npg_all.apply(lambda x: x.mean())\n",
    "    \n",
    "df_probs = calc_goal_probs(df_eval)\n",
    "df_npgs = calc_goal_outcomes(df_eval)\n",
    "df_eval = df_eval.join(df_probs)\n",
    "\n",
    "df_eval[\"likelihood\"] = pd.DataFrame(df_npgs.values * df_probs.values).sum(axis=1)\n",
    "df_eval[\"log_likelihood\"] = np.log(df_eval.likelihood)\n",
    "df_eval[\"mse\"] = (df_eval.pred_npg - df_eval.npg) ** 2"
   ]
  },
  {
   "cell_type": "markdown",
   "id": "f76852aa-6669-486a-a204-d4cec735c6e1",
   "metadata": {},
   "source": [
    "### Performance"
   ]
  },
  {
   "cell_type": "code",
   "execution_count": 18,
   "id": "ded21122-48b0-4cf1-acf3-be7be9efc980",
   "metadata": {},
   "outputs": [],
   "source": [
    "df_test_set = df_eval.query(\"start\").reset_index(drop=True)"
   ]
  },
  {
   "cell_type": "code",
   "execution_count": 19,
   "id": "39167703-b0e0-4560-b1d8-9f7a00862ef4",
   "metadata": {},
   "outputs": [
    {
     "name": "stdout",
     "output_type": "stream",
     "text": [
      "Number of predictions =  28,078\n",
      "Leagues:  12 9 11 20\n",
      "Dates (inclusive):  2020-09-20 16:30:00  to  2021-05-23 19:00:00 \n",
      "\n",
      "Log likelihood = -8,091.10\n",
      "MSE =  0.10068\n",
      "Average likelihood =  0.750\n"
     ]
    }
   ],
   "source": [
    "print(f\"Number of predictions = {len(df_test_set): ,}\")\n",
    "print(\"Leagues: \", *df_test_set.league.unique())\n",
    "print(\"Dates (inclusive): \", df_test_set.datetime.min(), \" to \", df_test_set.datetime.max(), \"\\n\")\n",
    "\n",
    "print(f\"Log likelihood = {df_test_set['log_likelihood'].sum(): ,.2f}\")\n",
    "print(f\"MSE = {df_test_set['mse'].mean(): .5f}\")\n",
    "print(f\"Average likelihood = {np.exp(df_test_set.log_likelihood.mean()): .3f}\")"
   ]
  },
  {
   "cell_type": "code",
   "execution_count": 20,
   "id": "4d4c21a7-7bbc-4966-955d-77cd78c6a5e4",
   "metadata": {},
   "outputs": [
    {
     "name": "stdout",
     "output_type": "stream",
     "text": [
      "Number of predictions =  4,059\n",
      "Log likelihood = -2,565.96\n",
      "MSE =  0.27637\n",
      "Average likelihood =  0.531\n"
     ]
    }
   ],
   "source": [
    "position = \"FW\"\n",
    "df_position = df_test_set.query(\"position == @position\").reset_index(drop=True)\n",
    "print(f\"Number of predictions = {len(df_position): ,}\")\n",
    "print(f\"Log likelihood = {df_position['log_likelihood'].sum(): ,.2f}\")\n",
    "print(f\"MSE = {df_position['mse'].mean(): .5f}\")\n",
    "print(f\"Average likelihood = {np.exp(df_position.log_likelihood.mean()): .3f}\")"
   ]
  },
  {
   "cell_type": "code",
   "execution_count": 21,
   "id": "b14c4d3f-a017-4474-aeb8-7cd563d383cd",
   "metadata": {},
   "outputs": [
    {
     "name": "stdout",
     "output_type": "stream",
     "text": [
      "Number of predictions = 2\n",
      "Log likelihood = -0.04\n",
      "MSE =  0.00070\n",
      "Average likelihood =  0.981\n"
     ]
    }
   ],
   "source": [
    "player_id = \"87935cf3\"\n",
    "df_player = df_test_set.query(\"player_id == @player_id\").reset_index(drop=True)\n",
    "print(f\"Number of predictions = {len(df_player)}\")\n",
    "print(f\"Log likelihood = {df_player['log_likelihood'].sum(): ,.2f}\")\n",
    "print(f\"MSE = {df_player['mse'].mean(): .5f}\")\n",
    "print(f\"Average likelihood = {np.exp(df_player.log_likelihood.mean()): .3f}\")"
   ]
  },
  {
   "cell_type": "code",
   "execution_count": 22,
   "id": "74295d7e-b1a4-46b0-82a2-12027fee4455",
   "metadata": {},
   "outputs": [
    {
     "name": "stdout",
     "output_type": "stream",
     "text": [
      "Number of predictions = 10\n",
      "Log likelihood = -2.59\n",
      "MSE =  0.06666\n",
      "Average likelihood =  0.772\n"
     ]
    }
   ],
   "source": [
    "home_team = \"Manchester City\"\n",
    "away_team = \"Brighton & Hove Albion\"\n",
    "home = 1\n",
    "df_test_match = df_test_set.query(\"(home_team == @home_team) & (away_team == @away_team) & (home == @home)\").reset_index(drop=True)\n",
    "print(f\"Number of predictions = {len(df_test_match)}\")\n",
    "print(f\"Log likelihood = {df_test_match['log_likelihood'].sum(): ,.2f}\")\n",
    "print(f\"MSE = {df_test_match['mse'].mean(): .5f}\")\n",
    "print(f\"Average likelihood = {np.exp(df_test_match.log_likelihood.mean()): .3f}\")"
   ]
  },
  {
   "cell_type": "code",
   "execution_count": 23,
   "id": "fb08a379-d679-4b64-b74f-49605c839334",
   "metadata": {},
   "outputs": [
    {
     "data": {
      "text/html": [
       "<div>\n",
       "<style scoped>\n",
       "    .dataframe tbody tr th:only-of-type {\n",
       "        vertical-align: middle;\n",
       "    }\n",
       "\n",
       "    .dataframe tbody tr th {\n",
       "        vertical-align: top;\n",
       "    }\n",
       "\n",
       "    .dataframe thead th {\n",
       "        text-align: right;\n",
       "    }\n",
       "</style>\n",
       "<table border=\"1\" class=\"dataframe\">\n",
       "  <thead>\n",
       "    <tr style=\"text-align: right;\">\n",
       "      <th></th>\n",
       "      <th>player</th>\n",
       "      <th>player_id</th>\n",
       "      <th>t</th>\n",
       "      <th>position</th>\n",
       "      <th>home</th>\n",
       "      <th>home_team</th>\n",
       "      <th>away_team</th>\n",
       "      <th>frac_90</th>\n",
       "      <th>pred_npg</th>\n",
       "      <th>npg</th>\n",
       "    </tr>\n",
       "  </thead>\n",
       "  <tbody>\n",
       "    <tr>\n",
       "      <th>0</th>\n",
       "      <td>Florian Lejeune</td>\n",
       "      <td>6eaed4eb</td>\n",
       "      <td>2</td>\n",
       "      <td>CB</td>\n",
       "      <td>0</td>\n",
       "      <td>Granada</td>\n",
       "      <td>Alavés</td>\n",
       "      <td>1.000</td>\n",
       "      <td>0.027</td>\n",
       "      <td>0</td>\n",
       "    </tr>\n",
       "    <tr>\n",
       "      <th>1</th>\n",
       "      <td>Rodrigo Ely</td>\n",
       "      <td>fd47b4f2</td>\n",
       "      <td>2</td>\n",
       "      <td>CB</td>\n",
       "      <td>0</td>\n",
       "      <td>Granada</td>\n",
       "      <td>Alavés</td>\n",
       "      <td>0.500</td>\n",
       "      <td>0.026</td>\n",
       "      <td>0</td>\n",
       "    </tr>\n",
       "    <tr>\n",
       "      <th>2</th>\n",
       "      <td>Víctor Laguardia</td>\n",
       "      <td>b7c99b9b</td>\n",
       "      <td>2</td>\n",
       "      <td>CB</td>\n",
       "      <td>0</td>\n",
       "      <td>Granada</td>\n",
       "      <td>Alavés</td>\n",
       "      <td>1.000</td>\n",
       "      <td>0.094</td>\n",
       "      <td>0</td>\n",
       "    </tr>\n",
       "    <tr>\n",
       "      <th>3</th>\n",
       "      <td>Pere Pons</td>\n",
       "      <td>29b61deb</td>\n",
       "      <td>2</td>\n",
       "      <td>CM</td>\n",
       "      <td>0</td>\n",
       "      <td>Granada</td>\n",
       "      <td>Alavés</td>\n",
       "      <td>1.000</td>\n",
       "      <td>0.011</td>\n",
       "      <td>0</td>\n",
       "    </tr>\n",
       "    <tr>\n",
       "      <th>4</th>\n",
       "      <td>Rodrigo Battaglia</td>\n",
       "      <td>d637fc22</td>\n",
       "      <td>2</td>\n",
       "      <td>CM</td>\n",
       "      <td>0</td>\n",
       "      <td>Granada</td>\n",
       "      <td>Alavés</td>\n",
       "      <td>1.000</td>\n",
       "      <td>0.056</td>\n",
       "      <td>0</td>\n",
       "    </tr>\n",
       "    <tr>\n",
       "      <th>...</th>\n",
       "      <td>...</td>\n",
       "      <td>...</td>\n",
       "      <td>...</td>\n",
       "      <td>...</td>\n",
       "      <td>...</td>\n",
       "      <td>...</td>\n",
       "      <td>...</td>\n",
       "      <td>...</td>\n",
       "      <td>...</td>\n",
       "      <td>...</td>\n",
       "    </tr>\n",
       "    <tr>\n",
       "      <th>28073</th>\n",
       "      <td>Youssef En-Nesyri</td>\n",
       "      <td>04e17fd5</td>\n",
       "      <td>38</td>\n",
       "      <td>FW</td>\n",
       "      <td>1</td>\n",
       "      <td>Sevilla</td>\n",
       "      <td>Alavés</td>\n",
       "      <td>1.000</td>\n",
       "      <td>0.642</td>\n",
       "      <td>0</td>\n",
       "    </tr>\n",
       "    <tr>\n",
       "      <th>28074</th>\n",
       "      <td>Lucas Ocampos</td>\n",
       "      <td>a08b974a</td>\n",
       "      <td>38</td>\n",
       "      <td>W</td>\n",
       "      <td>1</td>\n",
       "      <td>Sevilla</td>\n",
       "      <td>Alavés</td>\n",
       "      <td>0.611</td>\n",
       "      <td>0.195</td>\n",
       "      <td>0</td>\n",
       "    </tr>\n",
       "    <tr>\n",
       "      <th>28075</th>\n",
       "      <td>Suso</td>\n",
       "      <td>4e219ad2</td>\n",
       "      <td>38</td>\n",
       "      <td>W</td>\n",
       "      <td>1</td>\n",
       "      <td>Sevilla</td>\n",
       "      <td>Alavés</td>\n",
       "      <td>0.811</td>\n",
       "      <td>0.079</td>\n",
       "      <td>0</td>\n",
       "    </tr>\n",
       "    <tr>\n",
       "      <th>28076</th>\n",
       "      <td>Franco Vázquez</td>\n",
       "      <td>467bae22</td>\n",
       "      <td>38</td>\n",
       "      <td>WM</td>\n",
       "      <td>1</td>\n",
       "      <td>Sevilla</td>\n",
       "      <td>Alavés</td>\n",
       "      <td>0.611</td>\n",
       "      <td>0.064</td>\n",
       "      <td>0</td>\n",
       "    </tr>\n",
       "    <tr>\n",
       "      <th>28077</th>\n",
       "      <td>Joan Jordán</td>\n",
       "      <td>2a0c8ba4</td>\n",
       "      <td>38</td>\n",
       "      <td>WM</td>\n",
       "      <td>1</td>\n",
       "      <td>Sevilla</td>\n",
       "      <td>Alavés</td>\n",
       "      <td>0.611</td>\n",
       "      <td>0.060</td>\n",
       "      <td>0</td>\n",
       "    </tr>\n",
       "  </tbody>\n",
       "</table>\n",
       "<p>28078 rows × 10 columns</p>\n",
       "</div>"
      ],
      "text/plain": [
       "                  player player_id   t position  home home_team away_team  \\\n",
       "0        Florian Lejeune  6eaed4eb   2       CB     0   Granada    Alavés   \n",
       "1            Rodrigo Ely  fd47b4f2   2       CB     0   Granada    Alavés   \n",
       "2       Víctor Laguardia  b7c99b9b   2       CB     0   Granada    Alavés   \n",
       "3              Pere Pons  29b61deb   2       CM     0   Granada    Alavés   \n",
       "4      Rodrigo Battaglia  d637fc22   2       CM     0   Granada    Alavés   \n",
       "...                  ...       ...  ..      ...   ...       ...       ...   \n",
       "28073  Youssef En-Nesyri  04e17fd5  38       FW     1   Sevilla    Alavés   \n",
       "28074      Lucas Ocampos  a08b974a  38        W     1   Sevilla    Alavés   \n",
       "28075               Suso  4e219ad2  38        W     1   Sevilla    Alavés   \n",
       "28076     Franco Vázquez  467bae22  38       WM     1   Sevilla    Alavés   \n",
       "28077        Joan Jordán  2a0c8ba4  38       WM     1   Sevilla    Alavés   \n",
       "\n",
       "       frac_90  pred_npg  npg  \n",
       "0        1.000     0.027    0  \n",
       "1        0.500     0.026    0  \n",
       "2        1.000     0.094    0  \n",
       "3        1.000     0.011    0  \n",
       "4        1.000     0.056    0  \n",
       "...        ...       ...  ...  \n",
       "28073    1.000     0.642    0  \n",
       "28074    0.611     0.195    0  \n",
       "28075    0.811     0.079    0  \n",
       "28076    0.611     0.064    0  \n",
       "28077    0.611     0.060    0  \n",
       "\n",
       "[28078 rows x 10 columns]"
      ]
     },
     "execution_count": 23,
     "metadata": {},
     "output_type": "execute_result"
    }
   ],
   "source": [
    "df_test_set[[\"player\", \"player_id\", \"t\", \"position\", \"home\", \"home_team\", \"away_team\", \"frac_90\", \"pred_npg\", \"npg\"]]"
   ]
  },
  {
   "cell_type": "code",
   "execution_count": 24,
   "id": "059b90d7-16c7-4c8a-9336-35be726e7a3e",
   "metadata": {},
   "outputs": [
    {
     "name": "stdout",
     "output_type": "stream",
     "text": [
      "Chi-Squared test p-value:  0.00017\n"
     ]
    },
    {
     "data": {
      "text/html": [
       "<div>\n",
       "<style scoped>\n",
       "    .dataframe tbody tr th:only-of-type {\n",
       "        vertical-align: middle;\n",
       "    }\n",
       "\n",
       "    .dataframe tbody tr th {\n",
       "        vertical-align: top;\n",
       "    }\n",
       "\n",
       "    .dataframe thead th {\n",
       "        text-align: right;\n",
       "    }\n",
       "</style>\n",
       "<table border=\"1\" class=\"dataframe\">\n",
       "  <thead>\n",
       "    <tr style=\"text-align: right;\">\n",
       "      <th></th>\n",
       "      <th>goals</th>\n",
       "      <th>mean_obs</th>\n",
       "      <th>mean_exp</th>\n",
       "      <th>obs</th>\n",
       "      <th>exp</th>\n",
       "      <th>t_stat</th>\n",
       "    </tr>\n",
       "  </thead>\n",
       "  <tbody>\n",
       "    <tr>\n",
       "      <th>0</th>\n",
       "      <td>0</td>\n",
       "      <td>0.905</td>\n",
       "      <td>0.898</td>\n",
       "      <td>25414</td>\n",
       "      <td>25,221.561</td>\n",
       "      <td>1.468</td>\n",
       "    </tr>\n",
       "    <tr>\n",
       "      <th>1</th>\n",
       "      <td>1</td>\n",
       "      <td>0.085</td>\n",
       "      <td>0.090</td>\n",
       "      <td>2394</td>\n",
       "      <td>2,527.604</td>\n",
       "      <td>7.062</td>\n",
       "    </tr>\n",
       "    <tr>\n",
       "      <th>2</th>\n",
       "      <td>2</td>\n",
       "      <td>0.009</td>\n",
       "      <td>0.010</td>\n",
       "      <td>244</td>\n",
       "      <td>288.884</td>\n",
       "      <td>6.974</td>\n",
       "    </tr>\n",
       "    <tr>\n",
       "      <th>3</th>\n",
       "      <td>3</td>\n",
       "      <td>0.001</td>\n",
       "      <td>0.001</td>\n",
       "      <td>26</td>\n",
       "      <td>39.374</td>\n",
       "      <td>4.543</td>\n",
       "    </tr>\n",
       "  </tbody>\n",
       "</table>\n",
       "</div>"
      ],
      "text/plain": [
       "   goals  mean_obs  mean_exp    obs         exp  t_stat\n",
       "0      0     0.905     0.898  25414  25,221.561   1.468\n",
       "1      1     0.085     0.090   2394   2,527.604   7.062\n",
       "2      2     0.009     0.010    244     288.884   6.974\n",
       "3      3     0.001     0.001     26      39.374   4.543"
      ]
     },
     "execution_count": 24,
     "metadata": {},
     "output_type": "execute_result"
    }
   ],
   "source": [
    "df_test_table = df_test_set.copy()#.query(\"position == 'FW'\")\n",
    "\n",
    "goals = np.sort(df_test_table.npg.unique())\n",
    "\n",
    "df_npgs_test_table =  calc_goal_outcomes(df_test_table)\n",
    "df_probs_test_table =  calc_goal_probs(df_test_table)\n",
    "\n",
    "df_table = (\n",
    "    pd.DataFrame({\"goals\": goals, \n",
    "                  \"obs\": df_npgs_test_table.sum().values, \n",
    "                  \"exp\": df_probs_test_table.sum().values})\n",
    ")\n",
    "\n",
    "# Cap the chi-squared table s.t. most extreme category has at least 5 obs \n",
    "idx = df_table.index.max()\n",
    "while (df_table.loc[idx, \"obs\"] < 5):\n",
    "    df_table.loc[idx - 1, :] += df_table.loc[idx, :]\n",
    "    df_table = df_table.iloc[: idx]\n",
    "    idx = df_table.index.max()\n",
    "\n",
    "df_table = (\n",
    "    df_table\n",
    "    .assign(\n",
    "        goals=lambda x: x.index,\n",
    "        mean_obs=lambda x: x.obs / x.obs.sum(),\n",
    "        mean_exp=lambda x: x.exp / x.obs.sum(),\n",
    "        t_stat=lambda x: (x.obs - x.exp) ** 2 / x.exp\n",
    "    )\n",
    "    [[\"goals\", \"mean_obs\", \"mean_exp\", \"obs\", \"exp\", \"t_stat\"]]\n",
    ")\n",
    "t_stat = df_table.t_stat.sum()\n",
    "p_val = 1 - scipy.stats.chi2.cdf(t_stat, len(df_table) - 1)\n",
    "print(f\"Chi-Squared test p-value: {p_val: .5f}\")\n",
    "df_table"
   ]
  },
  {
   "cell_type": "code",
   "execution_count": 25,
   "id": "6b1bcd50-dce2-4af4-90a6-e866f2219915",
   "metadata": {},
   "outputs": [
    {
     "data": {
      "image/png": "[encoded data removed]",
      "text/plain": [
       "<Figure size 1000x600 with 1 Axes>"
      ]
     },
     "metadata": {
      "image/png": {
       "height": 525,
       "width": 844
      }
     },
     "output_type": "display_data"
    }
   ],
   "source": [
    "# Expectancies vs observed expectancies\n",
    "\n",
    "df_test_plot = df_test_set#.query(\"position == 'WM'\")\n",
    "\n",
    "plt.xticks(np.arange(0, 3.2, 0.4))\n",
    "plt.xlim(0.0, 2.0)\n",
    "sns.kdeplot(df_test_plot.npxg)\n",
    "pred_npg_sample = np.array([])\n",
    "for player_match in df_test_plot.pred_npg_all.values:\n",
    "    pred_npg_sample = np.concatenate((pred_npg_sample, np.random.choice(player_match, 1, True)))\n",
    "sns.kdeplot(pred_npg_sample)\n",
    "plt.legend([\"Empirical\", \"Pred\"])\n",
    "plt.show()"
   ]
  },
  {
   "cell_type": "markdown",
   "id": "068cd4e4-d5d4-43b4-afe2-3e8229bfaeb5",
   "metadata": {},
   "source": [
    "  "
   ]
  }
 ],
 "metadata": {
  "kernelspec": {
   "display_name": "Python 3 (ipykernel)",
   "language": "python",
   "name": "python3"
  },
  "language_info": {
   "codemirror_mode": {
    "name": "ipython",
    "version": 3
   },
   "file_extension": ".py",
   "mimetype": "text/x-python",
   "name": "python",
   "nbconvert_exporter": "python",
   "pygments_lexer": "ipython3",
   "version": "3.11.4"
  }
 },
 "nbformat": 4,
 "nbformat_minor": 5
}
