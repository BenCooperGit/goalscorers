{
 "cells": [
  {
   "cell_type": "code",
   "execution_count": 1,
   "id": "dcd57a97-ab7e-44ae-afb3-9a23f8635b49",
   "metadata": {},
   "outputs": [],
   "source": [
    "CACHED_TRAIN = False\n",
    "CACHED_VAL = False"
   ]
  },
  {
   "cell_type": "code",
   "execution_count": 2,
   "id": "64bf4898-1a04-4c18-a221-0b6a81134361",
   "metadata": {},
   "outputs": [
    {
     "name": "stdout",
     "output_type": "stream",
     "text": [
      "Running on PyMC v5.6.1\n",
      "Running on Az v0.16.0\n"
     ]
    }
   ],
   "source": [
    "package_paths = [r\"C:\\Users\\benja\\Documents\\projects\\goalscorers\"]\n",
    "import sys\n",
    "for path in package_paths:\n",
    "    sys.path.append(path)\n",
    "import goalscorer_package.constants as c\n",
    "import goalscorer_package.data_cleaning as dc\n",
    "import goalscorer_package.modelling as m\n",
    "import datetime as dt\n",
    "import pandas as pd\n",
    "import numpy as np\n",
    "import pymc as pm\n",
    "print(f\"Running on PyMC v{pm.__version__}\")\n",
    "import arviz as az\n",
    "print(f\"Running on Az v{az.__version__}\")\n",
    "import pytensor.tensor as pt\n",
    "import matplotlib.pyplot as plt\n",
    "import seaborn as sns\n",
    "import scipy\n",
    "import glob\n",
    "from statistics import mode\n",
    "pd.set_option(\"display.max_columns\", None)\n",
    "pd.set_option(\"display.max_rows\", 1000)\n",
    "pd.set_option(\"display.max_colwidth\", 100)\n",
    "pd.options.display.float_format = \"{: ,.3f}\".format\n",
    "%matplotlib inline\n",
    "plt.rcParams[\"figure.figsize\"] = (10, 6)\n",
    "%config InlineBackend.figure_formats = [\"retina\"]"
   ]
  },
  {
   "cell_type": "markdown",
   "id": "723e95d2-e8b0-4304-9436-f3734f740c1e",
   "metadata": {},
   "source": [
    "  "
   ]
  },
  {
   "cell_type": "markdown",
   "id": "3743dd30-4a38-4c72-a0a7-249b768cd02d",
   "metadata": {},
   "source": [
    "# Hyper-Parameters"
   ]
  },
  {
   "cell_type": "code",
   "execution_count": 3,
   "id": "a3d964ce-8458-46dc-ba18-794b950e1460",
   "metadata": {},
   "outputs": [],
   "source": [
    "DICT_PLAYER_POSITION_BASED_PRIORS = {\n",
    "    \"FB\": (-3.32, 0.86),\n",
    "    \"CB\": (-2.75, 0.74),\n",
    "    \"WB\": (-3.08, 0.73),\n",
    "    \"DM\": (-3.13, 0.82),\n",
    "    \"CM\": (-3.04, 0.86),\n",
    "    \"WM\": (-2.55, 0.68),\n",
    "    \"AM\": (-2.20, 0.56),\n",
    "    \"W\": (-2.06, 0.50),\n",
    "    \"FW\": (-1.70, 0.38),\n",
    "}\n",
    "DICT_PLAYER_POSITION_BASED_MINS = {\n",
    "    \"FB\": -4.02,\n",
    "    \"CB\": -3.98,\n",
    "    \"WB\": -4.68,\n",
    "    \"DM\": -4.51,\n",
    "    \"CM\": -4.52,\n",
    "    \"WM\": -4.81,\n",
    "    \"AM\": -4.99,\n",
    "    \"W\": -4.96,\n",
    "    \"FW\": -5.05,\n",
    "}\n",
    "DICT_HOME_PRIOR = {\n",
    "    \"home\": (0.2,  0.064),\n",
    "}\n",
    "DICT_POSITION_PRIORS = {\n",
    "    \"FB\": (-0.59, 0.037),\n",
    "    \"CB\": (-0.63, 0.043),\n",
    "    \"WB\": (0.076, 0.044),\n",
    "    \"DM\": (-0.098, 0.032),\n",
    "    \"CM\": (-0.089, 0.027),\n",
    "    \"WM\": (0.20, 0.025),\n",
    "    \"AM\": (0.38, 0.036),\n",
    "    \"W\": (0.30, 0.029),\n",
    "    \"FW\": (0.45, 0.040),\n",
    "}"
   ]
  },
  {
   "cell_type": "code",
   "execution_count": 4,
   "id": "ef640814-b9cf-491a-877e-6b00d2720e49",
   "metadata": {},
   "outputs": [],
   "source": [
    "DICT_PROM_PLAYER_POSITION_BASED_PRIORS = {\n",
    "    \"FB\": (-3.53, 0.86),\n",
    "    \"CB\": (-2.85, 0.74),\n",
    "    \"WB\": (-3.28, 0.73),\n",
    "    \"DM\": (-3.30, 0.82),\n",
    "    \"CM\": (-3.22, 0.86),\n",
    "    \"WM\": (-2.65, 0.68),\n",
    "    \"AM\": (-2.32, 0.56),\n",
    "    \"W\": (-2.24, 0.50),\n",
    "    \"FW\": (-1.80, 0.38),\n",
    "}"
   ]
  },
  {
   "cell_type": "code",
   "execution_count": 5,
   "id": "4bef86fe-c50e-4d1a-a0a8-d8e9fda2133f",
   "metadata": {},
   "outputs": [],
   "source": [
    "PLAYER_COEF, SQUAD_POS_COEF = 0.56, 0.4\n",
    "CHANGE_TEAM_VARIANCE_INCREASE = 1.2"
   ]
  },
  {
   "cell_type": "code",
   "execution_count": null,
   "id": "1831d135-c4b2-4b50-880a-8b1ac4953dfe",
   "metadata": {},
   "outputs": [],
   "source": [
    "NUM_CHAINS = 4"
   ]
  },
  {
   "cell_type": "markdown",
   "id": "24b45606-266c-42b0-bec7-01f0aabe2966",
   "metadata": {},
   "source": [
    "  "
   ]
  },
  {
   "cell_type": "markdown",
   "id": "fc6b9a1f-c674-4a6c-82e4-66f697701af4",
   "metadata": {},
   "source": [
    "# Functions"
   ]
  },
  {
   "cell_type": "markdown",
   "id": "15caa0f5-cc7b-47c3-80ce-dc09ce709175",
   "metadata": {},
   "source": [
    "## Data"
   ]
  },
  {
   "cell_type": "code",
   "execution_count": 6,
   "id": "6a733ac9-336a-4cce-ad5a-6691e67a7f61",
   "metadata": {},
   "outputs": [],
   "source": [
    "def load_season(seasons: list[str], comp_ids: list[int]) -> pd.DataFrame:\n",
    "    seasons_leagues = dc.get_seasons_leagues_from_str(seasons, comp_ids)\n",
    "    df = dc.load_seasons_leagues_files(\"summary\", True, seasons_leagues)\n",
    "    return df    "
   ]
  },
  {
   "cell_type": "code",
   "execution_count": 7,
   "id": "ff13af07-4e27-4cd5-8393-3e825876b46e",
   "metadata": {},
   "outputs": [],
   "source": [
    "def clean_df(df: pd.DataFrame) -> pd.DataFrame:\n",
    "    df = dc.add_home(df)\n",
    "    df = dc.add_opp_team(df)\n",
    "    df = dc.add_frac_90(df)\n",
    "    df = dc.add_league(df)\n",
    "    df = dc.add_season(df)\n",
    "    df[\"league_10\"] = np.where((df.league == 10), 1, 0)\n",
    "    df = dc.drop_na_npxg(df)\n",
    "    df = dc.drop_na_frac_90(df)\n",
    "\n",
    "    # Positions\n",
    "    df = dc.split_positions(df)\n",
    "    df = dc.position_to_generic_position(df)\n",
    "    df = dc.drop_gk(df)\n",
    "\n",
    "    # Time\n",
    "    df = df.assign(\n",
    "        epoch_datetime=lambda x: x.datetime,\n",
    "        datetime=lambda x: pd.to_datetime(x.datetime, unit=\"s\"),\n",
    "        date=lambda x: x.datetime.dt.date,\n",
    "    )\n",
    "    df_matches = (\n",
    "        df[[\"datetime\", \"home_team\", \"away_team\"]]\n",
    "        .drop_duplicates(ignore_index=True)\n",
    "        .sort_values([\"datetime\", \"home_team\"], ignore_index=True)\n",
    "        .assign(match_number=lambda x: range(1, len(x)+1))\n",
    "    )\n",
    "    df = (\n",
    "        df\n",
    "        .merge(df_matches, how=\"left\", on=[\"datetime\", \"home_team\", \"away_team\"], validate=\"m:1\")\n",
    "        .sort_values([\"match_number\", \"home\", \"position\"], ignore_index=True)\n",
    "        .assign(time_interval=lambda x: pd.qcut(x.match_number, q=38))\n",
    "    )\n",
    "    df_interval_to_t = pd.DataFrame({\"t\": range(1, 39), \"time_interval\": np.sort(df.time_interval.unique())})\n",
    "    df = df.merge(df_interval_to_t, how=\"left\", on=[\"time_interval\"], validate=\"m:1\")\n",
    "\n",
    "\n",
    "    return df "
   ]
  },
  {
   "cell_type": "code",
   "execution_count": 8,
   "id": "c8baabdc-5408-420a-86ef-0af942fb5691",
   "metadata": {},
   "outputs": [],
   "source": [
    "def df_to_model_df(df: pd.DataFrame) -> pd.DataFrame:\n",
    "    df_model = df[[\"npxg\", \"player_id\", \"home\", \"opposition_team\", \"position\", \"league_10\", \"frac_90\", \"start\", \"league\", \"t\"]].copy()\n",
    "    return df_model"
   ]
  },
  {
   "cell_type": "markdown",
   "id": "d5c56922-4237-4eaf-b6b8-6e0a65c1fb07",
   "metadata": {},
   "source": [
    "  "
   ]
  },
  {
   "cell_type": "markdown",
   "id": "0ceeb40e-5e3e-4291-85aa-b302723f8ae8",
   "metadata": {},
   "source": [
    "## Prior Specification"
   ]
  },
  {
   "cell_type": "markdown",
   "id": "daa34d60-f9f8-4e46-ae5b-ac759b2589fd",
   "metadata": {},
   "source": [
    "### Initial Prior"
   ]
  },
  {
   "cell_type": "code",
   "execution_count": null,
   "id": "d39ae3ed-54a1-4bf5-a267-2aa3c1c521b7",
   "metadata": {},
   "outputs": [],
   "source": [
    "def first_player_prior_specification(df: pd.DataFrame, player_ids: list) -> pd.DataFrame:\n",
    "\n",
    "    # # position, squad, league\n",
    "    # df_player_priors = (\n",
    "    #     dc\n",
    "    #     .calc_main_position(df)\n",
    "    #     .merge(dc.calc_main_team(df), how=\"left\", on=[\"player_id\"], validate=\"1:1\")\n",
    "    # )\n",
    "    # df_team_league = (\n",
    "    #     df_model[[\"opposition_team\", \"league\"]]\n",
    "    #     .drop_duplicates(ignore_index=True)\n",
    "    #     .rename(columns={\"opposition_team\": \"squad\"})\n",
    "    # )\n",
    "    # df_player_priors = (\n",
    "    #     df_player_priors\n",
    "    #     .merge(df_team_league, how=\"left\", on=[\"squad\"], validate=\"m:1\")\n",
    "    # )\n",
    "\n",
    "    # # mu, sigma, lower\n",
    "    df_player_priors = (\n",
    "        df\n",
    "        .groupby(\"player_id\", as_index=False)\n",
    "        .agg(position=(\"position\", mode), squad=(\"squad\", mode), league=(\"league\", mode))\n",
    "        .assign(\n",
    "            mu=lambda x: [DICT_PLAYER_POSITION_BASED_PRIORS[pos][0] for pos in x.position.values] - np.where((x.league == 10), 0.4, 0.0),\n",
    "            sigma=lambda x: [DICT_PLAYER_POSITION_BASED_PRIORS[pos][1] for pos in x.position.values],\n",
    "            lower=lambda x: [DICT_PLAYER_POSITION_BASED_MINS[pos] for pos in x.position.values] ,\n",
    "        )\n",
    "        .set_index(\"player_id\", drop=False)\n",
    "        .loc[player_ids]\n",
    "    )\n",
    "    return df_player_priors"
   ]
  },
  {
   "cell_type": "code",
   "execution_count": null,
   "id": "bf295c99-5de3-4f6a-9fe3-0cc0762387ca",
   "metadata": {},
   "outputs": [],
   "source": [
    "def first_team_prior_specification(df: pd.DataFrame, teams: list) -> pd.DataFrame:\n",
    "    df_teams_leagues = df[[\"home_team\", \"league\"]].drop_duplicates()\n",
    "\n",
    "    df_team_priors = pd.DataFrame({\n",
    "        \"team\": df_teams_leagues.home_team.values,\n",
    "        \"league\": df_teams_leagues.league.values,\n",
    "        \"mu\": [0.0 for _ in range(len(teams))],\n",
    "        \"sigma\": [0.22 for _ in range(len(teams))],\n",
    "    }, index=df_team_leagues.home_team.values).loc[teams]\n",
    "\n",
    "    return df_team_priors"
   ]
  },
  {
   "cell_type": "code",
   "execution_count": null,
   "id": "b0a8c412-4bb6-447e-b056-8f64772102a6",
   "metadata": {},
   "outputs": [],
   "source": [
    "def first_home_prior_specification() -> pd.DataFrame:\n",
    "    return pd.DataFrame([{\"mu\": DICT_HOME_PRIOR[\"home\"][0], \"sigma\": DICT_HOME_PRIOR[\"home\"][0]}])"
   ]
  },
  {
   "cell_type": "code",
   "execution_count": null,
   "id": "e25e6efb-ca38-4b17-8000-4c7088bddc25",
   "metadata": {},
   "outputs": [],
   "source": [
    "def first_position_prior_specification(player_ids: list, positions: list) -> pd.DataFrame:\n",
    "    position_mus = [DICT_POSITION_PRIORS[position][0] for position in positions]\n",
    "    position_sigmas = [DICT_POSITION_PRIORS[position][1] for position in positions]\n",
    "    \n",
    "    df_position_priors = (\n",
    "        pd.DataFrame({\"player_id\": player_ids})\n",
    "        .assign(\n",
    "            mu=lambda x: [position_mus for _ in range(len(x))],\n",
    "            sigma=lambda x: [position_sigmas for _ in range(len(x))],\n",
    "        )\n",
    "    )\n",
    "\n",
    "    return df_position_priors"
   ]
  },
  {
   "cell_type": "markdown",
   "id": "ffacc944-bd56-4bac-b97d-79434ada4bde",
   "metadata": {},
   "source": [
    "### Next Season Prior"
   ]
  },
  {
   "cell_type": "code",
   "execution_count": null,
   "id": "05160718-3450-44ff-ab99-09077ded404b",
   "metadata": {},
   "outputs": [],
   "source": [
    "def get_team_position_Δ(df_posterior: pd.DataFrame) -> pd.DataFrame:\n",
    "    return (\n",
    "        df_posterior\n",
    "        .assign(Δ_minutes=lambda x: x.minutes * x.Δ)\n",
    "        .groupby([\"squad\", \"position\"], as_index=False)\n",
    "        .agg(total_minutes=(\"minutes\", sum), total_Δ=(\"Δ_minutes\", sum))\n",
    "        .assign(Δ=lambda x: x.total_Δ / x.total_minutes)\n",
    "    )"
   ]
  },
  {
   "cell_type": "code",
   "execution_count": null,
   "id": "8ddbe69f-3be8-4429-a003-9e3606119319",
   "metadata": {},
   "outputs": [],
   "source": [
    "def get_new_season_player_priors(df_post_player_priors: pd.DataFrame, df_posterior: pd.DataFrame, df: pd.DataFrame, player_ids: list) -> pd.DataFrame:\n",
    "    # Seen players\n",
    "    df_player_priors = (\n",
    "        df\n",
    "        .groupby(\"player_id\", as_index=False)\n",
    "        .agg(position=(\"position\", mode), squad=(\"squad\", mode), league=(\"league\", mode))\n",
    "        .merge(df_post_player_priors, how=\"left\", on=[\"player_id\", \"squad\"], validate=\"1:1\")\n",
    "    )\n",
    "    df_player_seen_priors = df_player_priors.dropna(subset=[\"mu\", \"sigma\"], ignore_index=True)\n",
    "\n",
    "    # players moving teams\n",
    "    df_team_position_Δ = get_team_position_Δ(df_posterior)\n",
    "    df_player_moving_teams_priors = (\n",
    "        df_player_priors\n",
    "        .query(\"mu.isna()\")\n",
    "        .reset_index(drop=True)\n",
    "        .merge(df_team_position_Δ[[\"squad\", \"position\", \"Δ\"]], how=\"left\", on=[\"squad\", \"position\"], validate=\"m:1\")\n",
    "        .rename(columns={\"Δ\": \"squad_pos_Δ\"})\n",
    "        .merge(df_post_player_priors[[\"player\", \"mu\", \"sigma\"]].rename(columns={\"mu\": \"player_Δ\", \"sigma\": \"player_sigma\"}), \n",
    "               how=\"left\", on=[\"player\"], validate=\"1:1\")\n",
    "        .assign(\n",
    "            mu=lambda x: PLAYER_COEF * x.player_Δ + SQUAD_POS_COEF * x.squad_pos_Δ,\n",
    "            mu=lambda x: PLAYER_COEF * x.player_Δ + SQUAD_POS_COEF * x.squad_pos_Δ\n",
    "        )\n",
    "    )\n",
    "    df_player_moving_teams_priors.mu = (\n",
    "        df_player_moving_teams_priors\n",
    "        .mu\n",
    "        # have player info and team info\n",
    "        .fillna(PLAYER_COEF * df_player_moving_teams_priors.player_Δ + SQUAD_POS_COEF * df_player_moving_teams_priors.squad_pos_Δ)\n",
    "        # only have team info\n",
    "        .fillna((PLAYER_COEF + SQUAD_POS_COEF) * df_player_moving_teams_priors.squad_pos_Δ)\n",
    "        # only have player info, unseen promoted team\n",
    "        .fillna(PLAYER_COEF + SQUAD_POS_COEF) * (df_player_moving_teams_priors.player_Δ)\n",
    "    )\n",
    "    df_player_moving_teams_priors.sigma = df_player_moving_teams_priors.player_sigma * CHANGE_TEAM_VARIANCE_INCREASE\n",
    "    df_player_moving_teams_priors = df_player_moving_teams_priors[[\"player\", \"position\", \"squad\", \"mu\", \"sigma\"]]\n",
    "\n",
    "    df_player_prom_teams_priors = df_player_moving_teams_priors.query(\"mu.isna()\").reset_index(drop=True)\n",
    "    df_player_moving_teams_priors = df_player_moving_teams_priors.dropna(subset=[\"mu\", \"sigma\"], ignore_index=True)\n",
    "\n",
    "    # promoted team, unseen player\n",
    "    df_player_prom_teams_priors.mu = np.vectorize(DICT_PROM_PLAYER_POSITION_BASED_PRIORS.get)(df_player_prom_teams_priors.position)[0]\n",
    "    df_player_prom_teams_priors.sigma = np.vectorize(DICT_PROM_PLAYER_POSITION_BASED_PRIORS.get)(df_player_prom_teams_priors.position)[1]\n",
    "\n",
    "    # All players\n",
    "    df_player_priors = (\n",
    "        pd\n",
    "        .concat([df_player_seen_priors, df_player_moving_teams_priors, df_player_prom_team_priors], ignore_index=True)\n",
    "        .set_index(\"player_id\", drop=False)\n",
    "        .loc[player_ids]\n",
    "        .assign(lower=lambda x: np.vectorize(DICT_PLAYER_POSITION_BASED_MINS.get)(df_player_priors.position))\n",
    "    )\n",
    "\n",
    "    return df_player_priors"
   ]
  },
  {
   "cell_type": "code",
   "execution_count": null,
   "id": "c06c16c5-776d-4cc1-91d7-917e2f00a4c3",
   "metadata": {},
   "outputs": [],
   "source": [
    "def get_new_season_team_priors(df_post_team_priors: pd.DataFrame, df: pd.DataFrame, teams: list) -> pd.DataFrame:\n",
    "    # seen teams\n",
    "    df_team_priors = (\n",
    "        df[[\"home_team\", \"league\", \"season\"]]\n",
    "        .drop_duplicates(ignore_index=True)\n",
    "        .rename(columns={\"home_team\": \"team\"})\n",
    "        .merge(df_post_team_priors, how=\"left\", on=[\"team\", \"league\"], validate=\"1:10\")\n",
    "    )\n",
    "    df_team_seen_priors = df_team_priors.dropna(subset=[\"mu\", \"sigma\"], ignote_index=True)\n",
    "\n",
    "    # teams promoted / relegated - seen\n",
    "    df_team_prom_priors = (\n",
    "        df_team_priors\n",
    "        .query(\"mu.isna()\")\n",
    "        .reset_index(drop=True)\n",
    "        [[\"team\", \"league\", \"season\"]]\n",
    "        .merge(df_post_team_priors[[\"team\", \"mu\", \"sigma\"]], how=\"left\", on=[\"team\"], validate=\"1:1\")\n",
    "        .assign(\n",
    "            mu=lambda x: np.where((x.league == 9), -0.16 + 0.32 * x.mu, x.mu),  # promoted\n",
    "            mu=lambda x: np.where((x.league == 10), 0.2 + x.mu, x.mu),  # relegated\n",
    "            sigma=0.22\n",
    "        )\n",
    "    )\n",
    "    df_team_unseen_prom_priors = df_team_prom_priors.query(\"mu.isna() & ((season != '2018-2019') | (league != 10)) \").reset_index(drop=True)\n",
    "    df_team_unseen_champ_priors = df_team_prom_priors.query(\"mu.isna() & (season == '2018-2019') & (league == 10) \").reset_index(drop=True)\n",
    "    df_team_prom_priors = df_team_prom_priors.dropna(subset=[\"mu\"], ignore_index=True)\n",
    "\n",
    "    # teams promoted unseen\n",
    "    df_team_unseen_prom_priors.mu = -0.14\n",
    "    df_team_unseen_prom_priors.sigma = 0.17\n",
    "\n",
    "    # unseen 2018-2019 champ teams (no champ 2017-2018 data, so all champ teams unseen here)\n",
    "    df_team_unseen_champ_priors.mu = 0.0\n",
    "    df_team_unseen_champ_priors.sigma = 0.22\n",
    "\n",
    "    # All teams\n",
    "    df_teams_prior = (\n",
    "        pd\n",
    "        .concat([df_team_seen_priors, df_team_prom_priors, df_team_unseen_prom_priors, df_team_unseen_champ_priors])\n",
    "        .set_index(team, drop=False)\n",
    "        .loc[teams]\n",
    "    )\n",
    "    return df_teams_prior"
   ]
  },
  {
   "cell_type": "code",
   "execution_count": null,
   "id": "61e1c2de-2436-466b-a944-36fa57b8f776",
   "metadata": {},
   "outputs": [],
   "source": [
    "def get_new_season_home_priors(df_post_home_priors: pd.DataFrame) -> pd.DataFrame:\n",
    "    return df_post_home_priors"
   ]
  },
  {
   "cell_type": "code",
   "execution_count": null,
   "id": "f732b634-33ae-4986-b5cd-964b3fcf41be",
   "metadata": {},
   "outputs": [],
   "source": [
    "def get_new_season_position_priors(df_post_position_priors: pd.DataFrame, player_ids: list, positions: list) -> pd.DataFrame:\n",
    "    def fill_nan_with_array(x, mu_or_sigma: str):\n",
    "        if (isinstance(x, np.ndarray) and (x.size > 0)):\n",
    "            return x\n",
    "        elif (mu_or_sigma == \"mu\"):\n",
    "            return [DICT_POSITION_PRIORS[position][0] for position in positions]\n",
    "        elif (mu_or_sigma == \"sigma\"):\n",
    "            return [DICT_POSITION_PRIORS[position][1] for position in positions]\n",
    "\n",
    "    df_position_priors = (\n",
    "        pd\n",
    "        .DataFrame({\"player_id\": player_ids})\n",
    "        .merge(df_post_position_priors, how=\"left\", on=[\"player_id\"], validate=\"1:1\")\n",
    "        .assign(\n",
    "            mu=lambda x: x.mu.apply(fill_nan_with_array, args=(\"mu\",)),\n",
    "            sigma=lambda x: x.sigma.apply(fill_nan_with_array, args=(\"sigma\",)),\n",
    "            )\n",
    "    )\n",
    "    return df_position_priors"
   ]
  },
  {
   "cell_type": "markdown",
   "id": "2a20aacf-a5c9-49cf-a40c-39caaabe8967",
   "metadata": {},
   "source": [
    "  "
   ]
  },
  {
   "cell_type": "markdown",
   "id": "49e12279-e98e-4633-8164-55dc89f61ac7",
   "metadata": {},
   "source": [
    "## Fit"
   ]
  },
  {
   "cell_type": "code",
   "execution_count": null,
   "id": "664631e9-e6a9-4772-bc3e-6f92f9bed5c7",
   "metadata": {},
   "outputs": [],
   "source": [
    "def create_model(df_all: pd.DataFrame, df_model: pd.DataFrame, priors: tuple, player_id_codes: list, team_codes: list, position_codes: list, \n",
    "                 coords: dict) -> pm.model.Model:\n",
    "    df_player_priors, df_team_priors, df_home_priors, df_position_priors = priors\n",
    "    league_masks = m.create_league_masks(df_all, coords[\"teams\"], coords[\"leagues\"])\n",
    "\n",
    "    # Weighted Exponential\n",
    "    def logp(value: pt.TensorVariable, lam: pt.TensorVariable, w: pt.TensorVariable) -> pt.TensorVariable:\n",
    "        log_prob = w * (np.log(lam) - lam * value)\n",
    "        return log_prob\n",
    "    \n",
    "    def random(lam, w, rng=None, size=None):\n",
    "        return scipy.stats.expon.rvs(scale=1.0/lam, size=size)\n",
    "\n",
    "    with pm.Model(coords=coords) as model:\n",
    "        # Data\n",
    "        home_data = pm.MutableData(\"home_data\", df_model.home.values)\n",
    "        player_id_codes_data = pm.MutableData(\"player_id_codes_data\", player_id_codes)\n",
    "        team_codes_data = pm.MutableData(\"team_codes_data\", team_codes)\n",
    "        position_codes_data = pm.MutableData(\"position_codes_data\", position_codes)\n",
    "        league_10_data = pm.MutableData(\"league_10_data\", df_model.league_10.values)\n",
    "        frac_90_data = pm.MutableData(\"frac_90_data\", df_model.frac_90.values)\n",
    "        npxg_data = pm.MutableData(\"npxg_data\", df_model.npxg.values)\n",
    "\n",
    "        # Priors\n",
    "        γ = pm.Normal(\"γ\", mu=df_home_priors.mu.values, sigma=df_home_priors.sigma.values)\n",
    "        Δ = pm.TruncatedNormal(\"Δ\", mu=df_player_priors.mu.values, sigma=df_player_priors.sigma.values, \n",
    "                               lower=df_player_priors.lower.values, dims=\"player_ids\")\n",
    "        β_ = pm.Normal(\"β_\", mu=df_team_priors.mu.values, sigma=df_team_priors.sigma.values, dims=\"teams\")\n",
    "        P = pm.Normal(\"P\", mu=np.array([list(x) for x in df_position_priors.mu.values]), \n",
    "                      sigma=np.array([list(x) for x in df_position_priors.sigma.values]), dims=(\"player_ids\", \"positions\"))\n",
    "        l_10 = 0.4\n",
    "\n",
    "        # Deterministic transform\n",
    "        for league_mask in league_masks:\n",
    "            β_ = pt.add(β_, -(pt.sum(league_mask * β_) / pt.sum(league_mask)) * league_mask)\n",
    "        β = pm.Deterministic(\"β\", β_, dims=\"teams\")\n",
    "    \n",
    "        η = pm.Deterministic(\"η\", pt.exp(\n",
    "            γ * home_data\n",
    "            + Δ[player_id_codes_data]\n",
    "            - β[team_codes_data]\n",
    "            + P[player_id_codes_data, position_codes_data]\n",
    "            + l_10 * league_10_data\n",
    "        ))\n",
    "        τ = frac_90_data\n",
    "\n",
    "        exp = pm.Deterministic(\"exp\", 1.0 / (η * τ))\n",
    "    \n",
    "        # Likelihood\n",
    "        x = pm.CustomDist(\n",
    "            \"x\",\n",
    "            exp, frac_90_data,\n",
    "            logp=logp,\n",
    "            random=random,\n",
    "            observed=npxg_data\n",
    "        )\n",
    "\n",
    "    return model"
   ]
  },
  {
   "cell_type": "markdown",
   "id": "19e7bdbc-3bff-4389-8f26-76294e28855c",
   "metadata": {},
   "source": [
    "## Posterior"
   ]
  },
  {
   "cell_type": "markdown",
   "id": "ab37089a-0104-4bef-bfb8-48ec9612a475",
   "metadata": {},
   "source": [
    "### Posterior to priors"
   ]
  },
  {
   "cell_type": "code",
   "execution_count": null,
   "id": "7c7bc702-73c1-4755-a2bf-d0f503b86f13",
   "metadata": {},
   "outputs": [],
   "source": [
    "def players_posterior_to_priors(df: pd.DataFrame, idata: az.InferenceData) -> pd.DataFrame:\n",
    "    df_post_player_priors = (\n",
    "        pd\n",
    "        .DataFrame({\"player_id\": idata.posterior.Δ.player_ids})\n",
    "        .merge(dc.calc_main_position(df), how=\"left\", on=[\"player_id\"], validate=\"1:1\")\n",
    "        .assign(\n",
    "            mu=lambda x: [idata.posterior.Δ.sel(player_ids=player_id).data.mean() for player_id in x.player_id.values], \n",
    "            sigma=lambda x: [idata.posterior.Δ.sel(player_ids=player_id).data.std() for player_id in x.player_id.values], \n",
    "        )\n",
    "    )\n",
    "    return df_post_player_priors"
   ]
  },
  {
   "cell_type": "code",
   "execution_count": null,
   "id": "eee7439f-4181-494b-828c-261a99092a85",
   "metadata": {},
   "outputs": [],
   "source": [
    "def teams_posterior_to_priors(df: pd.DataFrame, idata: az.InferenceData) -> pd.DataFrame:\n",
    "    df_post_team_priors = (\n",
    "        df[[\"home_team\", \"league\"]]\n",
    "        .drop_duplicates(ignore_index=True)\n",
    "        .rename(columns={\"home_team\": \"team\"})\n",
    "        .assign(\n",
    "            mu=lambda x: [idata.posterior.β.sel(teams=team).data.mean() for team in x.team.values], \n",
    "            sigma=lambda x: [idata.posterior.β.sel(teams=team).data.std() for team in x.team.values], \n",
    "        )\n",
    "    )\n",
    "    return df_post_team_priors"
   ]
  },
  {
   "cell_type": "code",
   "execution_count": null,
   "id": "ea68df54-63b6-4010-85bf-833db233f5d3",
   "metadata": {},
   "outputs": [],
   "source": [
    "def positions_posterior_to_priors(positions: list, idata: az.InferenceData) -> pd.DataFrame:\n",
    "    mus, sigmas = [], []\n",
    "    for player_id in idata.posterior.P.player_ids:\n",
    "        mus_player, sigmas_player = [], []\n",
    "        for position in positions:\n",
    "            mu_player = idata.posterior.P.sel(player_ids=player_id).data.mean()\n",
    "            sigma_player = idata.posterior.P.sel(player_ids=player_id).data.std()\n",
    "            mu_players.append(mu_player)\n",
    "            sigma_players.append(sigma_player)\n",
    "        mus.append(np.array(mu_players))\n",
    "        sigmas.append(np.array(sigma_players))\n",
    "    \n",
    "    df_position_priors = (\n",
    "        pd\n",
    "        .DataFrame({\"player_id\": idata.posterior.Δ.player_ids})\n",
    "        .assign(\n",
    "            mu=mus, \n",
    "            sigma=sigmas, \n",
    "        )\n",
    "    )\n",
    "    return df_position_priors"
   ]
  },
  {
   "cell_type": "code",
   "execution_count": null,
   "id": "601ee8ec-3283-40be-973b-6af42430da9f",
   "metadata": {},
   "outputs": [],
   "source": [
    "def home_posterior_to_priors(idata: az.InferenceData) -> pd.DataFrame:\n",
    "    return pd.DataFrame([{\"mu\": idata.posterior.γ.data.mean(), \"sigma\": idata.posterior.γ.data.mean()}])"
   ]
  },
  {
   "cell_type": "markdown",
   "id": "f667e0d4-5340-462c-96fd-283c27a107e5",
   "metadata": {},
   "source": [
    "### Utils"
   ]
  },
  {
   "cell_type": "code",
   "execution_count": null,
   "id": "c2dfc4c8-1631-4f07-b44f-e4179637e0e5",
   "metadata": {},
   "outputs": [],
   "source": [
    "def increase_prior_variance(df_post_prior: pd.DataFrame, perc=10.0) -> pd.DataFrame:\n",
    "    df_post_prior.sigma = df_post_prior.sigma * (1 + perc / 100.0)\n",
    "    return df_post_prior"
   ]
  },
  {
   "cell_type": "code",
   "execution_count": null,
   "id": "5725ae8e-0486-48d5-90a7-36fe538460e2",
   "metadata": {},
   "outputs": [],
   "source": [
    "def get_df_posterior(df: pd.DataFrame) -> pd.DataFrame:\n",
    "    dict_bu = {\"player_id\": [], \"Δ\": []}\n",
    "\n",
    "    for player_id in df.player_id.unique():\n",
    "        Δ = idata.posterior.Δ.sel(player_ids=player_id).data.flatten().mean()\n",
    "\n",
    "        dict_bu[\"player_id\"].append(player_id)\n",
    "        dict_bu[\"Δ\"].append(Δ)\n",
    "\n",
    "    df_posterior = (\n",
    "        df\n",
    "        .merge(pd.DataFrame(dict_bu), how=\"left\", on=[\"player_id\"], validate=\"m:1\")\n",
    "    )\n",
    "    return df_posterior"
   ]
  },
  {
   "cell_type": "markdown",
   "id": "7c3d281f-460b-438e-b8eb-a1fca0e566df",
   "metadata": {},
   "source": [
    "  "
   ]
  },
  {
   "cell_type": "markdown",
   "id": "81ca8a51-04e0-4b3c-93a7-159506abbe4e",
   "metadata": {},
   "source": [
    "## Prediction"
   ]
  },
  {
   "cell_type": "code",
   "execution_count": null,
   "id": "0424cf80-701a-427e-a898-51db1d413aeb",
   "metadata": {},
   "outputs": [],
   "source": [
    "def oos_predictions(\n",
    "    model: pm.model.Model, idata: az.InferenceData, df_model_test: pd.DataFrame, player_id_codes_test: list, team_codes_test: list,\n",
    "    position_codes_test: list\n",
    ") -> az.InferenceData:\n",
    "    with model:\n",
    "        pm.set_data({\n",
    "            \"home_data\": df_model_test.home.values,\n",
    "            \"player_id_codes_data\": player_id_codes_test,\n",
    "            \"team_codes_data\": team_codes_test,\n",
    "            \"position_codes_data\": position_codes_test,\n",
    "            \"league_10_data\": df_model_test.league_10.values,\n",
    "            \"frac_90_data\": df_model_test.frac_90.values,\n",
    "            \"npxg_data\": df_model_test.npxg.values,\n",
    "        })\n",
    "    pm.sample_posterior_predictive(idata, extend_inferencedata=True, predictions=True)\n",
    "\n",
    "    return idata"
   ]
  },
  {
   "cell_type": "code",
   "execution_count": null,
   "id": "3071d803-7b36-4156-a777-f88276f8e937",
   "metadata": {},
   "outputs": [],
   "source": [
    "def add_predictions_to_df(df: pd.DataFrame, idata: az.InferenceData) -> pd.DataFrame:\n",
    "    df_posterior_predictive_chains = pd.DataFrame([[idata.predictions.sel(chain=c, x_dim_2=r).x.data for c in range(NUM_CHAINS)]])\n",
    "    \n",
    "    df_posterior_predictive = (\n",
    "        df\n",
    "        .join(df_posterior_predictive_chains)\n",
    "    )\n",
    "    return df_posterior_predictive"
   ]
  },
  {
   "cell_type": "code",
   "execution_count": null,
   "id": "55c2e563-f150-44be-8c5e-9b830880266b",
   "metadata": {},
   "outputs": [],
   "source": [
    "def add_pred_to_df(df_test: pd.DataFrame) -> pd.DataFrame:\n",
    "    df_test[\"pred_npxg\"] = 0.0\n",
    "    for c in range(NUM_CHAINS):\n",
    "        df_test.pred_npxg += np.array([df_test[f\"pred_nxg_{c}\"][n].mean() for n in range(len(df_test))]) / NUM_CHAINS\n",
    "    return df_test"
   ]
  },
  {
   "cell_type": "code",
   "execution_count": null,
   "id": "4144939d-b574-40a7-9ba2-093c99085262",
   "metadata": {},
   "outputs": [],
   "source": [
    "def add_ll_to_df(df_test: pd.DataFrame) -> pd.DataFrame:\n",
    "    df_test[\"log_likelihood\"] = (\n",
    "        np.maximum(-10_000.0, np.log(scipy.stats.expon.pdf(df_test.npxg, scale=df_test[\"pred_npxg\"])))\n",
    "    )\n",
    "    return df_test"
   ]
  },
  {
   "cell_type": "markdown",
   "id": "7a85f188-cb3f-48d3-8a10-041b6ce8deea",
   "metadata": {},
   "source": [
    "# Main"
   ]
  },
  {
   "cell_type": "markdown",
   "id": "4053ff6c-bb95-43ff-9d5e-2ee31a572e37",
   "metadata": {},
   "source": [
    "## TRAIN"
   ]
  },
  {
   "cell_type": "code",
   "execution_count": null,
   "id": "66e008fb-2cbb-4f27-b7e0-7c6527125e95",
   "metadata": {},
   "outputs": [],
   "source": [
    "post_priors_cache = dict()"
   ]
  },
  {
   "cell_type": "code",
   "execution_count": null,
   "id": "add01b1f-f26d-4329-8b41-6724a108d36e",
   "metadata": {},
   "outputs": [],
   "source": [
    "train_seasons = [\"2017-2018\", \"2018-2019\", \"2019-2020\"]\n",
    "train_comp_ids = [9, 10, 11, 12, 13, 20]"
   ]
  },
  {
   "cell_type": "code",
   "execution_count": null,
   "id": "ccd5ca31-f4f7-4659-b2ec-f4fa19a3d8f4",
   "metadata": {},
   "outputs": [],
   "source": [
    "season = \"2017-2018\""
   ]
  },
  {
   "cell_type": "code",
   "execution_count": null,
   "id": "d6fba216-41ec-4d7a-a058-ff937c81dffb",
   "metadata": {},
   "outputs": [],
   "source": [
    "if not CACHED_TRAIN:\n",
    "    for season in train_seasons:\n",
    "        # Data\n",
    "        df = load_season([season], train_comp_ids)\n",
    "        df = clean_df(df)\n",
    "        df_model = df_to_model_df(df)\n",
    "\n",
    "        # Model data\n",
    "        player_id_codes, player_ids = pd.factorize(df_model.loc[:, \"player_id\"], sort=True)\n",
    "        team_codes, teams = pd.factorize(df_model.loc[:, \"opposition_team\"], sort=True)\n",
    "        position_codes, positions = pd.factorize(df_model.loc[:, \"position\"], sort=True)\n",
    "        league_codes, leagues = pd.factorize(df_model.loc[:, \"league\"], sort=True)\n",
    "\n",
    "        # Prior specification\n",
    "        if (season == train_seasons[0]):\n",
    "            df_player_priors = first_player_prior_specification(df, player_ids)\n",
    "            df_team_priors = first_team_prior_specification(df, teams)\n",
    "            df_home_priors = first_home_prior_specification()\n",
    "            df_player_position_priors = first_position_prior_specification(player_ids, positions)\n",
    "        else:\n",
    "            df_player_priors = get_new_season_player_priors(df_post_player_priors, df_posterior, df, player_ids)\n",
    "            df_team_priors = get_new_season_team_priors(df_post_team_priors, df, teams)\n",
    "            df_home_priors = get_new_season_home_priors(df_post_home_priors)\n",
    "            df_player_position_priors = get_new_season_position_priors(df_post_position_priors, player_ids, positions)\n",
    "        priors = (df_player_priors, df_team_priors, df_home_priors, df_position_priors)\n",
    "\n",
    "        # Model\n",
    "        coords = {\"player_ids\": player_ids, \"teams\": teams, \"positions\": positions, \"leagues\": leagues}\n",
    "        model = create_model(df_model, df_model, priors, player_id_codes, team_codes, position_codes, coords)\n",
    "\n",
    "        with model:\n",
    "            idata.sample()\n",
    "\n",
    "        # Posterior priors\n",
    "        df_posterior = get_df_posterior(df, idata)\n",
    "\n",
    "        df_post_player_priors = players_posterior_to_priors(df, idata)\n",
    "        df_post_team_priors = teams_posterior_to_priors(df, idata)\n",
    "        df_post_position_priors = positions_posterior_to_priors(positions, idata)\n",
    "        df_post_home_priors = home_posterior_to_priors(idata)\n",
    "\n",
    "        df_post_player_priors = increase_prior_variance(df_post_player_priors)\n",
    "        df_post_team_priors = increase_prior_variance(df_post_team_priors)\n",
    "        df_post_position_priors = increase_prior_variance(df_post_position_priors)\n",
    "        df_post_home_priors = increase_prior_variance(df_post_home_priors)\n",
    "\n",
    "        post_priors_cache[season] = {\n",
    "            \"df_posterior\": df_posterior,\n",
    "            \"df_post_player_priors\": df_post_player_priors,\n",
    "            \"df_post_team_priors\": df_post_team_priors,\n",
    "            \"df_post_position_priors\": df_post_position_priors,\n",
    "            \"df_post_home_priors\": df_post_home_priors,\n",
    "        }\n",
    "    \n",
    "    with open(r\"cache\\post-priors-cache.pickle\", \"wb\") as post_priors_cache_file:\n",
    "        pickle.dump(post_priors_cache, post_priors_cache_file)\n",
    "\n",
    "else:\n",
    "    with open(r\"cache\\post-priors-cache.pickle\", \"rb\") as post_priors_cache_file:\n",
    "        post_priors_cache = pickle.load(post_priors_cache_file)\n",
    "\n",
    "    post_priors_cache_final_season = post_priors_cache[teain_seaons[-1]]\n",
    "\n",
    "    df_posterior = post_priors_cache_final_season[\"df_posterior\"]\n",
    "    df_post_player_priors = post_priors_cache_final_season[\"df_post_player_priors\"]\n",
    "    df_post_team_priors = post_priors_cache_final_season[\"df_post_team_priors\"]\n",
    "    df_post_position_priors = post_priors_cache_final_season[\"df_post_position_priors\"]\n",
    "    df_post_home_priors = post_priors_cache_final_season[\"df_post_home_priors\"]"
   ]
  },
  {
   "cell_type": "markdown",
   "id": "84225e92-9f4d-495a-ae78-c7483702ad63",
   "metadata": {},
   "source": [
    "  "
   ]
  },
  {
   "cell_type": "markdown",
   "id": "55d1c063-1b56-416d-9350-5120f81302d2",
   "metadata": {},
   "source": [
    "## VAL"
   ]
  },
  {
   "cell_type": "code",
   "execution_count": null,
   "id": "60b00652-afcc-415a-9980-1da859e94d99",
   "metadata": {},
   "outputs": [],
   "source": [
    "def add_to_df_test(df_test: pd.DataFrame) -> pd.DataFrame:\n",
    "    df_test = add_pred_to_df(df_test)\n",
    "    df_test = add_ll_to_df(df_test)\n",
    "    df_test[\"mse\"] = (df_test.pred_npxg - df_test.npxg) ** 2\n",
    "    df_test[\"pred_npxg90\"] = df_test.pred_npxg / df_test.frac_90\n",
    "    return df_test"
   ]
  },
  {
   "cell_type": "code",
   "execution_count": null,
   "id": "5eff9e53-db6f-487b-9929-7baca68b8141",
   "metadata": {},
   "outputs": [],
   "source": [
    "val_seasons = [\"2020-2021\"]\n",
    "val_comp_ids = [9]"
   ]
  },
  {
   "cell_type": "code",
   "execution_count": null,
   "id": "4dd69a2e-49ce-4ac7-8234-4a8d5f235744",
   "metadata": {},
   "outputs": [],
   "source": [
    "season = \"2020-2021\""
   ]
  },
  {
   "cell_type": "code",
   "execution_count": null,
   "id": "66909d81-b843-4737-93cf-6ccb49bbb188",
   "metadata": {},
   "outputs": [],
   "source": [
    "if not CACHED_VAL:\n",
    "    df_test_preds = []\n",
    "    # for season in val_seasons:\n",
    "    df = load_season([season], val_comp_ids)\n",
    "    df = clean_df(df)\n",
    "\n",
    "    ts = np.sort(df.t.unique())\n",
    "    ts = ts[1:]\n",
    "    counter = 2\n",
    "    for t in ts:\n",
    "        # Train / Test\n",
    "        df_train, df_test = df.query(t < @t).reset_index(drop=True), df.query(t == @t).reset_index(drop=True)\n",
    "        df_model_train, df_model_test = df_to_model_df(df_train), df_to_model_df(df_test)\n",
    "        df_model = pd.concat([df_model_train, df_model_test], ignore_index=True)\n",
    "\n",
    "        # Model data\n",
    "        player_id_codes, player_ids = pd.factorize(df_model.loc[:, \"player_id\"], sort=True)\n",
    "        team_codes, teams = pd.factorize(df_model.loc[:, \"opposition_team\"], sort=True)\n",
    "        position_codes, positions = pd.factorize(df_model.loc[:, \"position\"], sort=True)\n",
    "        league_codes, leagues = pd.factorize(df_model.loc[:, \"league\"], sort=True)\n",
    "\n",
    "        player_codes_train, player_codes_test = player_codes[: len(df_model_train)], player_codes[len(df_model_train): ]\n",
    "        team_codes_train, team_codes_test = team_codes[: len(df_model_train)], team_codes[len(df_model_train): ]\n",
    "        position_codes_train, position_codes_test = position_codes[: len(df_model_train)], position_codes[len(df_model_train): ]\n",
    "\n",
    "        # Prior specification\n",
    "        df_player_priors = get_new_season_player_priors(df_post_player_priors, df_posterior, df, player_ids)\n",
    "        df_team_priors = get_new_season_team_priors(df_post_team_priors, df, teams)\n",
    "        df_home_priors = get_new_season_home_priors(df_post_home_priors)\n",
    "        df_player_position_priors = get_new_season_position_priors(df_post_position_priors, player_ids, positions)\n",
    "\n",
    "        priors = (df_player_priors, df_team_priors, df_home_priors, df_position_priors)\n",
    "\n",
    "        # Train model\n",
    "        coords = {\"player_ids\": player_ids, \"teams\": teams, \"positions\": positions, \"leagues\": leagues}\n",
    "        model = create_model(df_model, df_model, priors, player_id_codes, team_codes, position_codes, coords)\n",
    "\n",
    "        with model:\n",
    "            idata.sample()\n",
    "\n",
    "        # Test predictions\n",
    "        idata =  oos_predictions(model, idata, df_model_test, player_id_codes_test, team_codes_test, position_codes_test)\n",
    "        df_test_pred = add_predictions_to_df(df_test, idata)\n",
    "        df_test_preds.append(df_test_pred)\n",
    "\n",
    "        print(\"Finished\", counter, \"/\", len(ts) + 1)\n",
    "\n",
    "    # Test DataFrame\n",
    "    df_test = pd.concat(df_test_preds, ignore_index=True)\n",
    "    df_test = add_to_df_test(df_test)\n",
    "\n",
    "else:\n",
    "    df_test = pd.read_pickle(r\"cache\\df_test.pickle\")"
   ]
  },
  {
   "cell_type": "markdown",
   "id": "d1f0cb37-a096-4490-98e7-fa92dedb17d4",
   "metadata": {},
   "source": [
    "  "
   ]
  },
  {
   "cell_type": "markdown",
   "id": "55d9e937-03bc-4371-934f-9bb8da67edfc",
   "metadata": {},
   "source": [
    "# Model Evaluation"
   ]
  },
  {
   "cell_type": "code",
   "execution_count": null,
   "id": "a55bf2ac-866f-4a8c-8a51-0986a07cc188",
   "metadata": {},
   "outputs": [],
   "source": [
    "df_test_set = df_test.query(\"start\").reset_index(drop=True)"
   ]
  },
  {
   "cell_type": "code",
   "execution_count": null,
   "id": "c9955f5c-8f00-4c75-b955-afbc3ac00827",
   "metadata": {},
   "outputs": [],
   "source": [
    "print(f\"Number of predictions = {len(df_position)}\")\n",
    "print(f\"Log likelihood = {df_test_set[\"log_likelihood\"].sum(): .2f}\")\n",
    "print(f\"MSE = {df_test_set[\"mse\"].sum()}\")"
   ]
  },
  {
   "cell_type": "code",
   "execution_count": null,
   "id": "942c6ad8-633c-4705-88d2-d62222b5ef42",
   "metadata": {},
   "outputs": [],
   "source": [
    "position = \"FW\"\n",
    "df_position = df_test_set.query(\"position == @position\").reset_index(drop=True)\n",
    "print(f\"Number of predictions = {len(df_position)}\")\n",
    "print(f\"Log likelihood = {df_position[\"log_likelihood\"].sum(): .2f}\")\n",
    "print(f\"MSE = {df_position[\"mse\"].sum()}\")"
   ]
  },
  {
   "cell_type": "code",
   "execution_count": null,
   "id": "8c3a375f-a422-42a3-9ce1-6380e92a7195",
   "metadata": {},
   "outputs": [],
   "source": [
    "player_id = \"8449d35e\"\n",
    "df_player = df_test_set.query(\"player_id == @player_id\").reset_index(drop=True)\n",
    "print(f\"Number of predictions = {len(df_player)}\")\n",
    "print(f\"Log likelihood = {df_player[\"log_likelihood\"].sum(): .2f}\")\n",
    "print(f\"MSE = {df_player[\"mse\"].sum()}\")"
   ]
  },
  {
   "cell_type": "code",
   "execution_count": null,
   "id": "e65afd98-80ac-45f3-b1cb-9b0d5ebdbc6d",
   "metadata": {},
   "outputs": [],
   "source": [
    "home_team = \"Manchester City\"\n",
    "away_team = \"Brighton & Hove Albion\"\n",
    "home = 1\n",
    "df_test_match = df_test_set.query(\"(home_team == @home_team) & (away_team == @away_team) & (home == @home)\").reset_index(drop=True)\n",
    "print(f\"Number of predictions = {len(df_test_match)}\")\n",
    "print(f\"Log likelihood = {df_test_match[\"log_likelihood\"].sum(): .2f}\")\n",
    "print(f\"MSE = {df_test_match[\"mse\"].sum()}\")"
   ]
  },
  {
   "cell_type": "code",
   "execution_count": null,
   "id": "ca932994-743c-458e-a575-e76ce4d25e9c",
   "metadata": {},
   "outputs": [],
   "source": [
    "df_test_set[[\"player_id\", \"t\", \"position\", \"home_team\", \"away_team\", \"frac_90\", \"pred_npxg\", \"npxg\"]]"
   ]
  },
  {
   "cell_type": "code",
   "execution_count": null,
   "id": "c6385bf5-69cf-44da-8ce7-975c3e21a3ae",
   "metadata": {},
   "outputs": [],
   "source": [
    "if not CACHED_VAL:\n",
    "    df_test.to_pickle(r\"cache\\df_test.pickle\")"
   ]
  },
  {
   "cell_type": "markdown",
   "id": "b5806a03-d378-4a0b-82ce-7453f281c37b",
   "metadata": {},
   "source": [
    "  "
   ]
  }
 ],
 "metadata": {
  "kernelspec": {
   "display_name": "pymc_env_2",
   "language": "python",
   "name": "pymc_env_2"
  },
  "language_info": {
   "codemirror_mode": {
    "name": "ipython",
    "version": 3
   },
   "file_extension": ".py",
   "mimetype": "text/x-python",
   "name": "python",
   "nbconvert_exporter": "python",
   "pygments_lexer": "ipython3",
   "version": "3.11.4"
  }
 },
 "nbformat": 4,
 "nbformat_minor": 5
}
