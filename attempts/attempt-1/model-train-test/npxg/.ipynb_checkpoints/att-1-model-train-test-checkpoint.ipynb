{
 "cells": [
  {
   "cell_type": "code",
   "execution_count": null,
   "id": "dcd57a97-ab7e-44ae-afb3-9a23f8635b49",
   "metadata": {},
   "outputs": [],
   "source": [
    "CACHED_TRAIN = False\n",
    "CACHED_VAL = False"
   ]
  },
  {
   "cell_type": "code",
   "execution_count": null,
   "id": "64bf4898-1a04-4c18-a221-0b6a81134361",
   "metadata": {},
   "outputs": [],
   "source": [
    "package_paths = [r\"C:\\Users\\benja\\Documents\\projects\\goalscorers\"]\n",
    "import sys\n",
    "for path in package_paths:\n",
    "    sys.path.append(path)\n",
    "import goalscorer_package.constants as c\n",
    "import goalscorer_package.data_cleaning as dc\n",
    "import goalscorer_package.modelling as m\n",
    "import datetime as dt\n",
    "import pandas as pd\n",
    "import numpy as np\n",
    "import pymc as pm\n",
    "print(f\"Running on PyMC v{pm.__version__}\")\n",
    "import arviz as az\n",
    "print(f\"Running on Az v{az.__version__}\")\n",
    "import pytensor.tensor as pt\n",
    "import matplotlib.pyplot as plt\n",
    "import seaborn as sns\n",
    "import scipy\n",
    "import glob\n",
    "from statistics import mode\n",
    "pd.set_option(\"display.max_columns\", None)\n",
    "pd.set_option(\"display.max_rows\", 1000)\n",
    "pd.set_option(\"display.max_colwidth\", 100)\n",
    "pd.options.display.float_format = \"{: ,.3f}\".format\n",
    "%matplotlib inline\n",
    "plt.rcParams[\"figure.figsize\"] = (10, 6)\n",
    "%config InlineBackend.figure_formats = [\"retina\"]"
   ]
  },
  {
   "cell_type": "code",
   "execution_count": null,
   "id": "c6bd6eb0-515f-43ca-98cd-ff3cefe14212",
   "metadata": {},
   "outputs": [],
   "source": []
  },
  {
   "cell_type": "code",
   "execution_count": null,
   "id": "9edfd4ed-96bd-40b8-bc69-216dab3cf354",
   "metadata": {},
   "outputs": [],
   "source": []
  },
  {
   "cell_type": "code",
   "execution_count": null,
   "id": "6a733ac9-336a-4cce-ad5a-6691e67a7f61",
   "metadata": {},
   "outputs": [],
   "source": []
  },
  {
   "cell_type": "code",
   "execution_count": null,
   "id": "c8f393eb-7d11-4e3f-9b00-1e1fdd654b0b",
   "metadata": {},
   "outputs": [],
   "source": []
  },
  {
   "cell_type": "code",
   "execution_count": null,
   "id": "6f9c7bd0-ab97-46d6-9d10-038e0d6e82ba",
   "metadata": {},
   "outputs": [],
   "source": []
  },
  {
   "cell_type": "code",
   "execution_count": null,
   "id": "fafa594b-3c2e-41cf-95e6-c6d3e17df9f8",
   "metadata": {},
   "outputs": [],
   "source": []
  },
  {
   "cell_type": "code",
   "execution_count": null,
   "id": "475613ed-6417-4057-a241-65381eee2391",
   "metadata": {},
   "outputs": [],
   "source": []
  },
  {
   "cell_type": "code",
   "execution_count": null,
   "id": "d39ae3ed-54a1-4bf5-a267-2aa3c1c521b7",
   "metadata": {},
   "outputs": [],
   "source": []
  },
  {
   "cell_type": "code",
   "execution_count": null,
   "id": "b0a8c412-4bb6-447e-b056-8f64772102a6",
   "metadata": {},
   "outputs": [],
   "source": []
  },
  {
   "cell_type": "code",
   "execution_count": null,
   "id": "5011c4c1-a9d3-481b-94d7-3b821f8e8459",
   "metadata": {},
   "outputs": [],
   "source": []
  },
  {
   "cell_type": "code",
   "execution_count": null,
   "id": "34c4bd7b-0b69-4047-9efa-dad1d64c3ca1",
   "metadata": {},
   "outputs": [],
   "source": []
  },
  {
   "cell_type": "code",
   "execution_count": null,
   "id": "59e3489e-c1dd-477a-9423-62ce2218fe1f",
   "metadata": {},
   "outputs": [],
   "source": []
  },
  {
   "cell_type": "code",
   "execution_count": null,
   "id": "c8735fca-0dac-445b-a19d-8f6728f0dd6a",
   "metadata": {},
   "outputs": [],
   "source": []
  },
  {
   "cell_type": "code",
   "execution_count": null,
   "id": "347319c0-274e-4f04-a77f-422adfa53273",
   "metadata": {},
   "outputs": [],
   "source": []
  },
  {
   "cell_type": "code",
   "execution_count": null,
   "id": "9dc6a49f-bd28-49b3-a658-34b518956b68",
   "metadata": {},
   "outputs": [],
   "source": []
  },
  {
   "cell_type": "code",
   "execution_count": null,
   "id": "708fc49a-adff-484d-9d98-1552455e78ec",
   "metadata": {},
   "outputs": [],
   "source": []
  },
  {
   "cell_type": "code",
   "execution_count": null,
   "id": "74ff4e96-5da4-40e5-a5cd-61e925c34b4f",
   "metadata": {},
   "outputs": [],
   "source": []
  }
 ],
 "metadata": {
  "kernelspec": {
   "display_name": "pymc_env_2",
   "language": "python",
   "name": "pymc_env_2"
  },
  "language_info": {
   "codemirror_mode": {
    "name": "ipython",
    "version": 3
   },
   "file_extension": ".py",
   "mimetype": "text/x-python",
   "name": "python",
   "nbconvert_exporter": "python",
   "pygments_lexer": "ipython3",
   "version": "3.11.4"
  }
 },
 "nbformat": 4,
 "nbformat_minor": 5
}
