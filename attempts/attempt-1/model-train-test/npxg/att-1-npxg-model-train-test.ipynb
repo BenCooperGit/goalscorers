{
 "cells": [
  {
   "cell_type": "code",
   "execution_count": 1,
   "id": "dcd57a97-ab7e-44ae-afb3-9a23f8635b49",
   "metadata": {},
   "outputs": [],
   "source": [
    "CACHED_TRAIN = True\n",
    "CACHED_VAL = True"
   ]
  },
  {
   "cell_type": "code",
   "execution_count": 2,
   "id": "64bf4898-1a04-4c18-a221-0b6a81134361",
   "metadata": {},
   "outputs": [
    {
     "name": "stdout",
     "output_type": "stream",
     "text": [
      "Running on PyMC v5.6.1\n",
      "Running on Az v0.16.0\n"
     ]
    }
   ],
   "source": [
    "package_paths = [r\"C:\\Users\\benja\\Documents\\projects\\goalscorers\"]\n",
    "import sys\n",
    "for path in package_paths:\n",
    "    sys.path.append(path)\n",
    "import goalscorer_package.constants as c\n",
    "import goalscorer_package.data_cleaning as dc\n",
    "import goalscorer_package.modelling as m\n",
    "import datetime as dt\n",
    "import pandas as pd\n",
    "import numpy as np\n",
    "import pymc as pm\n",
    "print(f\"Running on PyMC v{pm.__version__}\")\n",
    "import arviz as az\n",
    "print(f\"Running on Az v{az.__version__}\")\n",
    "import pytensor.tensor as pt\n",
    "import matplotlib.pyplot as plt\n",
    "import seaborn as sns\n",
    "import scipy\n",
    "import glob\n",
    "from statistics import mode\n",
    "import pickle\n",
    "pd.set_option(\"display.max_columns\", None)\n",
    "pd.set_option(\"display.max_rows\", 1000)\n",
    "pd.set_option(\"display.max_colwidth\", 100)\n",
    "pd.options.display.float_format = \"{: ,.3f}\".format\n",
    "%matplotlib inline\n",
    "plt.rcParams[\"figure.figsize\"] = (10, 6)\n",
    "%config InlineBackend.figure_formats = [\"retina\"]"
   ]
  },
  {
   "cell_type": "markdown",
   "id": "723e95d2-e8b0-4304-9436-f3734f740c1e",
   "metadata": {},
   "source": [
    "  "
   ]
  },
  {
   "cell_type": "markdown",
   "id": "3743dd30-4a38-4c72-a0a7-249b768cd02d",
   "metadata": {},
   "source": [
    "# Hyper-Parameters"
   ]
  },
  {
   "cell_type": "code",
   "execution_count": 3,
   "id": "a3d964ce-8458-46dc-ba18-794b950e1460",
   "metadata": {},
   "outputs": [],
   "source": [
    "DICT_PLAYER_POSITION_BASED_PRIORS = {\n",
    "    \"FB\": (-3.32, 0.86),\n",
    "    \"CB\": (-2.75, 0.74),\n",
    "    \"WB\": (-3.08, 0.73),\n",
    "    \"DM\": (-3.13, 0.82),\n",
    "    \"CM\": (-3.04, 0.86),\n",
    "    \"WM\": (-2.55, 0.68),\n",
    "    \"AM\": (-2.20, 0.56),\n",
    "    \"W\": (-2.06, 0.50),\n",
    "    \"FW\": (-1.70, 0.38),\n",
    "}\n",
    "DICT_PLAYER_POSITION_BASED_MINS = {\n",
    "    \"FB\": -4.02,\n",
    "    \"CB\": -3.98,\n",
    "    \"WB\": -4.68,\n",
    "    \"DM\": -4.51,\n",
    "    \"CM\": -4.52,\n",
    "    \"WM\": -4.81,\n",
    "    \"AM\": -4.99,\n",
    "    \"W\": -4.96,\n",
    "    \"FW\": -5.05,\n",
    "}\n",
    "DICT_HOME_PRIOR = {\n",
    "    \"home\": (0.2,  0.064),\n",
    "}\n",
    "DICT_POSITION_PRIORS = {\n",
    "    \"FB\": (-0.59, 0.037),\n",
    "    \"CB\": (-0.63, 0.043),\n",
    "    \"WB\": (0.076, 0.044),\n",
    "    \"DM\": (-0.098, 0.032),\n",
    "    \"CM\": (-0.089, 0.027),\n",
    "    \"WM\": (0.20, 0.025),\n",
    "    \"AM\": (0.38, 0.036),\n",
    "    \"W\": (0.30, 0.029),\n",
    "    \"FW\": (0.45, 0.040),\n",
    "}"
   ]
  },
  {
   "cell_type": "code",
   "execution_count": 4,
   "id": "ef640814-b9cf-491a-877e-6b00d2720e49",
   "metadata": {},
   "outputs": [],
   "source": [
    "DICT_PROM_PLAYER_POSITION_BASED_PRIORS = {\n",
    "    \"FB\": (-3.53, 0.86),\n",
    "    \"CB\": (-2.85, 0.74),\n",
    "    \"WB\": (-3.28, 0.73),\n",
    "    \"DM\": (-3.30, 0.82),\n",
    "    \"CM\": (-3.22, 0.86),\n",
    "    \"WM\": (-2.65, 0.68),\n",
    "    \"AM\": (-2.32, 0.56),\n",
    "    \"W\": (-2.24, 0.50),\n",
    "    \"FW\": (-1.80, 0.38),\n",
    "}"
   ]
  },
  {
   "cell_type": "code",
   "execution_count": 5,
   "id": "4bef86fe-c50e-4d1a-a0a8-d8e9fda2133f",
   "metadata": {},
   "outputs": [],
   "source": [
    "PLAYER_COEF, SQUAD_POS_COEF = 0.56, 0.4\n",
    "CHANGE_TEAM_VARIANCE_INCREASE = 1.2"
   ]
  },
  {
   "cell_type": "code",
   "execution_count": 6,
   "id": "1831d135-c4b2-4b50-880a-8b1ac4953dfe",
   "metadata": {},
   "outputs": [],
   "source": [
    "NUM_CHAINS = 4"
   ]
  },
  {
   "cell_type": "markdown",
   "id": "24b45606-266c-42b0-bec7-01f0aabe2966",
   "metadata": {},
   "source": [
    "  "
   ]
  },
  {
   "cell_type": "markdown",
   "id": "fc6b9a1f-c674-4a6c-82e4-66f697701af4",
   "metadata": {},
   "source": [
    "# Functions"
   ]
  },
  {
   "cell_type": "markdown",
   "id": "15caa0f5-cc7b-47c3-80ce-dc09ce709175",
   "metadata": {},
   "source": [
    "## Data"
   ]
  },
  {
   "cell_type": "code",
   "execution_count": 7,
   "id": "6a733ac9-336a-4cce-ad5a-6691e67a7f61",
   "metadata": {},
   "outputs": [],
   "source": [
    "def load_season(seasons: list[str], comp_ids: list[int]) -> pd.DataFrame:\n",
    "    seasons_leagues = dc.get_seasons_leagues_from_str(seasons, comp_ids)\n",
    "    df = dc.load_seasons_leagues_files(\"summary\", True, seasons_leagues)\n",
    "    return df    "
   ]
  },
  {
   "cell_type": "code",
   "execution_count": 8,
   "id": "ff13af07-4e27-4cd5-8393-3e825876b46e",
   "metadata": {},
   "outputs": [],
   "source": [
    "def clean_df(df: pd.DataFrame) -> pd.DataFrame:\n",
    "    df = dc.add_home(df)\n",
    "    df = dc.add_opp_team(df)\n",
    "    df = dc.add_frac_90(df)\n",
    "    df = dc.add_league(df)\n",
    "    df = dc.add_season(df)\n",
    "    df[\"league_10\"] = np.where((df.league == 10), 1, 0)\n",
    "    df = dc.drop_na_npxg(df)\n",
    "    df = dc.drop_na_frac_90(df)\n",
    "    df = dc.add_npg(df)\n",
    "    \n",
    "    # Positions\n",
    "    df = dc.split_positions(df)\n",
    "    df = dc.position_to_generic_position(df)\n",
    "    df = dc.drop_gk(df)\n",
    "\n",
    "    # Time\n",
    "    df = dc.add_datetime(df)\n",
    "    df_matches = (\n",
    "        df[[\"datetime\", \"home_team\", \"away_team\"]]\n",
    "        .drop_duplicates(ignore_index=True)\n",
    "        .sort_values([\"datetime\", \"home_team\"], ignore_index=True)\n",
    "        .assign(match_number=lambda x: range(1, len(x)+1))\n",
    "    )\n",
    "    df = (\n",
    "        df\n",
    "        .merge(df_matches, how=\"left\", on=[\"datetime\", \"home_team\", \"away_team\"], validate=\"m:1\")\n",
    "        .sort_values([\"match_number\", \"home\", \"position\"], ignore_index=True)\n",
    "        .assign(time_interval=lambda x: pd.qcut(x.match_number, q=38))\n",
    "    )\n",
    "    df_interval_to_t = pd.DataFrame({\"t\": range(1, 39), \"time_interval\": np.sort(df.time_interval.unique())})\n",
    "    df = df.merge(df_interval_to_t, how=\"left\", on=[\"time_interval\"], validate=\"m:1\")\n",
    "\n",
    "\n",
    "    return df "
   ]
  },
  {
   "cell_type": "code",
   "execution_count": 9,
   "id": "c8baabdc-5408-420a-86ef-0af942fb5691",
   "metadata": {},
   "outputs": [],
   "source": [
    "def df_to_model_df(df: pd.DataFrame) -> pd.DataFrame:\n",
    "    df_model = df[[\"npxg\", \"player_id\", \"home\", \"opposition_team\", \"position\", \"league_10\", \"frac_90\", \"start\", \"league\", \"t\"]].copy()\n",
    "    return df_model"
   ]
  },
  {
   "cell_type": "markdown",
   "id": "d5c56922-4237-4eaf-b6b8-6e0a65c1fb07",
   "metadata": {},
   "source": [
    "  "
   ]
  },
  {
   "cell_type": "markdown",
   "id": "0ceeb40e-5e3e-4291-85aa-b302723f8ae8",
   "metadata": {},
   "source": [
    "## Prior Specification"
   ]
  },
  {
   "cell_type": "markdown",
   "id": "daa34d60-f9f8-4e46-ae5b-ac759b2589fd",
   "metadata": {},
   "source": [
    "### Initial Prior"
   ]
  },
  {
   "cell_type": "code",
   "execution_count": 10,
   "id": "d39ae3ed-54a1-4bf5-a267-2aa3c1c521b7",
   "metadata": {},
   "outputs": [],
   "source": [
    "def first_player_prior_specification(df: pd.DataFrame, player_ids: list) -> pd.DataFrame:\n",
    "\n",
    "    # # position, squad, league\n",
    "    # df_player_priors = (\n",
    "    #     dc\n",
    "    #     .calc_main_position(df)\n",
    "    #     .merge(dc.calc_main_team(df), how=\"left\", on=[\"player_id\"], validate=\"1:1\")\n",
    "    # )\n",
    "    # df_team_league = (\n",
    "    #     df_model[[\"opposition_team\", \"league\"]]\n",
    "    #     .drop_duplicates(ignore_index=True)\n",
    "    #     .rename(columns={\"opposition_team\": \"squad\"})\n",
    "    # )\n",
    "    # df_player_priors = (\n",
    "    #     df_player_priors\n",
    "    #     .merge(df_team_league, how=\"left\", on=[\"squad\"], validate=\"m:1\")\n",
    "    # )\n",
    "\n",
    "    # # mu, sigma, lower\n",
    "    df_player_priors = (\n",
    "        df\n",
    "        .groupby(\"player_id\", as_index=False)\n",
    "        .agg(position=(\"position\", mode), squad=(\"squad\", mode), league=(\"league\", mode))\n",
    "        .assign(\n",
    "            mu=lambda x: [DICT_PLAYER_POSITION_BASED_PRIORS[pos][0] for pos in x.position.values] - np.where((x.league == 10), 0.4, 0.0),\n",
    "            sigma=lambda x: [DICT_PLAYER_POSITION_BASED_PRIORS[pos][1] for pos in x.position.values],\n",
    "            lower=lambda x: [DICT_PLAYER_POSITION_BASED_MINS[pos] for pos in x.position.values] ,\n",
    "        )\n",
    "        .set_index(\"player_id\", drop=False)\n",
    "        .loc[player_ids]\n",
    "    )\n",
    "    return df_player_priors"
   ]
  },
  {
   "cell_type": "code",
   "execution_count": 11,
   "id": "bf295c99-5de3-4f6a-9fe3-0cc0762387ca",
   "metadata": {},
   "outputs": [],
   "source": [
    "def first_team_prior_specification(df: pd.DataFrame, teams: list) -> pd.DataFrame:\n",
    "    df_teams_leagues = df[[\"home_team\", \"league\"]].drop_duplicates()\n",
    "\n",
    "    df_team_priors = pd.DataFrame({\n",
    "        \"team\": df_teams_leagues.home_team.values,\n",
    "        \"league\": df_teams_leagues.league.values,\n",
    "        \"mu\": [0.0 for _ in range(len(teams))],\n",
    "        \"sigma\": [0.22 for _ in range(len(teams))],\n",
    "    }, index=df_teams_leagues.home_team.values).loc[teams]\n",
    "\n",
    "    return df_team_priors"
   ]
  },
  {
   "cell_type": "code",
   "execution_count": 12,
   "id": "b0a8c412-4bb6-447e-b056-8f64772102a6",
   "metadata": {},
   "outputs": [],
   "source": [
    "def first_home_prior_specification() -> pd.DataFrame:\n",
    "    return pd.DataFrame([{\"mu\": DICT_HOME_PRIOR[\"home\"][0], \"sigma\": DICT_HOME_PRIOR[\"home\"][0]}])"
   ]
  },
  {
   "cell_type": "code",
   "execution_count": 13,
   "id": "e25e6efb-ca38-4b17-8000-4c7088bddc25",
   "metadata": {},
   "outputs": [],
   "source": [
    "def first_position_prior_specification(player_ids: list, positions: list) -> pd.DataFrame:\n",
    "    position_mus = [DICT_POSITION_PRIORS[position][0] for position in positions]\n",
    "    position_sigmas = [DICT_POSITION_PRIORS[position][1] for position in positions]\n",
    "    \n",
    "    df_position_priors = (\n",
    "        pd.DataFrame({\"player_id\": player_ids})\n",
    "        .assign(\n",
    "            mu=lambda x: [position_mus for _ in range(len(x))],\n",
    "            sigma=lambda x: [position_sigmas for _ in range(len(x))],\n",
    "        )\n",
    "    )\n",
    "\n",
    "    return df_position_priors"
   ]
  },
  {
   "cell_type": "markdown",
   "id": "ffacc944-bd56-4bac-b97d-79434ada4bde",
   "metadata": {},
   "source": [
    "### Next Season Prior"
   ]
  },
  {
   "cell_type": "code",
   "execution_count": 14,
   "id": "05160718-3450-44ff-ab99-09077ded404b",
   "metadata": {},
   "outputs": [],
   "source": [
    "def get_team_position_Δ(df_posterior: pd.DataFrame) -> pd.DataFrame:\n",
    "    return (\n",
    "        df_posterior\n",
    "        .assign(Δ_minutes=lambda x: x.minutes * x.Δ)\n",
    "        .groupby([\"squad\", \"position\"], as_index=False)\n",
    "        .agg(total_minutes=(\"minutes\", sum), total_Δ=(\"Δ_minutes\", sum))\n",
    "        .assign(Δ=lambda x: x.total_Δ / x.total_minutes)\n",
    "    )"
   ]
  },
  {
   "cell_type": "code",
   "execution_count": 15,
   "id": "8ddbe69f-3be8-4429-a003-9e3606119319",
   "metadata": {},
   "outputs": [],
   "source": [
    "def get_new_season_player_priors(df_post_player_priors: pd.DataFrame, df_posterior: pd.DataFrame, df: pd.DataFrame, player_ids: list) -> pd.DataFrame:\n",
    "    # Seen players\n",
    "    df_player_priors = (\n",
    "        df\n",
    "        .groupby(\"player_id\", as_index=False)\n",
    "        .agg(squad=(\"squad\", mode), league=(\"league\", mode), position=(\"position\", mode))\n",
    "        .merge(df_post_player_priors[[\"player_id\", \"squad\", \"mu\", \"sigma\"]], how=\"left\", on=[\"player_id\", \"squad\"], validate=\"1:1\")\n",
    "        .query(\"player_id in @player_ids\").reset_index(drop=True)\n",
    "    )\n",
    "    df_player_seen_priors = df_player_priors.dropna(subset=[\"mu\", \"sigma\"], ignore_index=True)\n",
    "    \n",
    "    # players moving teams\n",
    "    df_team_position_Δ = get_team_position_Δ(df_posterior)\n",
    "    df_player_moving_teams_priors = (\n",
    "        df_player_priors\n",
    "        .query(\"mu.isna()\")\n",
    "        .reset_index(drop=True)\n",
    "        .merge(df_team_position_Δ[[\"squad\", \"position\", \"Δ\"]], how=\"left\", on=[\"squad\", \"position\"], validate=\"m:1\")\n",
    "        .rename(columns={\"Δ\": \"squad_pos_Δ\"})\n",
    "        .merge(df_post_player_priors[[\"player_id\", \"mu\", \"sigma\"]].rename(columns={\"mu\": \"player_Δ\", \"sigma\": \"player_sigma\"}), \n",
    "               how=\"left\", on=[\"player_id\"], validate=\"1:1\")\n",
    "        .assign(\n",
    "            mu=lambda x: PLAYER_COEF * x.player_Δ + SQUAD_POS_COEF * x.squad_pos_Δ,\n",
    "        )\n",
    "    )\n",
    "    df_player_moving_teams_priors.mu = (\n",
    "        df_player_moving_teams_priors\n",
    "        .mu\n",
    "        # have player info and team info\n",
    "        .fillna(PLAYER_COEF * df_player_moving_teams_priors.player_Δ + SQUAD_POS_COEF * df_player_moving_teams_priors.squad_pos_Δ)\n",
    "        # only have team info\n",
    "        .fillna((PLAYER_COEF + SQUAD_POS_COEF) * df_player_moving_teams_priors.squad_pos_Δ)\n",
    "        # only have player info, unseen promoted team\n",
    "        .fillna((PLAYER_COEF + SQUAD_POS_COEF) * df_player_moving_teams_priors.player_Δ)\n",
    "    )\n",
    "    df_player_moving_teams_priors.sigma = df_player_moving_teams_priors.player_sigma * CHANGE_TEAM_VARIANCE_INCREASE\n",
    "    df_player_moving_teams_priors = df_player_moving_teams_priors[[\"player_id\", \"position\", \"squad\", \"mu\", \"sigma\"]]\n",
    "    df_player_prom_teams_priors = df_player_moving_teams_priors.query(\"mu.isna()\").reset_index(drop=True)\n",
    "    df_player_moving_teams_priors = df_player_moving_teams_priors.dropna(subset=[\"mu\"], ignore_index=True)\n",
    "    df_player_moving_teams_priors.sigma = (\n",
    "        df_player_moving_teams_priors\n",
    "        .sigma\n",
    "        .fillna(\n",
    "            pd.Series(np.vectorize(DICT_PLAYER_POSITION_BASED_PRIORS.get)(df_player_moving_teams_priors.position)[1])\n",
    "        )\n",
    "    )\n",
    "    \n",
    "    # promoted team, unseen player\n",
    "    if (len(df_player_prom_teams_priors.mu) > 0):\n",
    "        df_player_prom_teams_priors.mu = np.vectorize(DICT_PROM_PLAYER_POSITION_BASED_PRIORS.get)(df_player_prom_teams_priors.position)[0]\n",
    "        df_player_prom_teams_priors.sigma = np.vectorize(DICT_PROM_PLAYER_POSITION_BASED_PRIORS.get)(df_player_prom_teams_priors.position)[1]\n",
    "    \n",
    "    # All players\n",
    "    df_player_priors = (\n",
    "        pd\n",
    "        .concat([df_player_seen_priors, df_player_moving_teams_priors, df_player_prom_teams_priors], ignore_index=True)\n",
    "        .set_index(\"player_id\", drop=False)\n",
    "        .loc[player_ids]\n",
    "        .assign(lower=lambda x: np.vectorize(DICT_PLAYER_POSITION_BASED_MINS.get)(df_player_priors.position))\n",
    "    )\n",
    "    \n",
    "    return df_player_priors"
   ]
  },
  {
   "cell_type": "code",
   "execution_count": 16,
   "id": "c06c16c5-776d-4cc1-91d7-917e2f00a4c3",
   "metadata": {},
   "outputs": [],
   "source": [
    "def get_new_season_team_priors(df_post_team_priors: pd.DataFrame, df: pd.DataFrame, teams: list) -> pd.DataFrame:\n",
    "    # seen teams\n",
    "    df_team_priors = (\n",
    "        df[[\"home_team\", \"league\", \"season\"]]\n",
    "        .drop_duplicates(ignore_index=True)\n",
    "        .rename(columns={\"home_team\": \"team\"})\n",
    "        .merge(df_post_team_priors, how=\"left\", on=[\"team\", \"league\"], validate=\"1:1\")\n",
    "    )\n",
    "    df_team_seen_priors = df_team_priors.dropna(subset=[\"mu\", \"sigma\"], ignore_index=True)\n",
    "\n",
    "    # teams promoted / relegated - seen\n",
    "    df_team_prom_priors = (\n",
    "        df_team_priors\n",
    "        .query(\"mu.isna()\")\n",
    "        .reset_index(drop=True)\n",
    "        [[\"team\", \"league\", \"season\"]]\n",
    "        .merge(df_post_team_priors[[\"team\", \"mu\", \"sigma\"]], how=\"left\", on=[\"team\"], validate=\"1:1\")\n",
    "        .assign(\n",
    "            mu=lambda x: np.where((x.league == 9), -0.16 + 0.32 * x.mu, x.mu),  # promoted\n",
    "            sigma=0.22\n",
    "        )\n",
    "        .assign(mu=lambda x: np.where((x.league == 10), 0.2 + x.mu, x.mu))  # relegated\n",
    "    )\n",
    "    df_team_unseen_prom_priors = df_team_prom_priors.query(\"mu.isna() & ((season != '2018-2019') | (league != 10)) \").reset_index(drop=True)\n",
    "    df_team_unseen_champ_priors = df_team_prom_priors.query(\"mu.isna() & (season == '2018-2019') & (league == 10) \").reset_index(drop=True)\n",
    "    df_team_prom_priors = df_team_prom_priors.dropna(subset=[\"mu\"], ignore_index=True)\n",
    "\n",
    "    # teams promoted unseen\n",
    "    df_team_unseen_prom_priors.mu = -0.14\n",
    "    df_team_unseen_prom_priors.sigma = 0.17\n",
    "\n",
    "    # unseen 2018-2019 champ teams (no champ 2017-2018 data, so all champ teams unseen here)\n",
    "    df_team_unseen_champ_priors.mu = 0.0\n",
    "    df_team_unseen_champ_priors.sigma = 0.22\n",
    "\n",
    "    # All teams\n",
    "    df_teams_prior = (\n",
    "        pd\n",
    "        .concat([df_team_seen_priors, df_team_prom_priors, df_team_unseen_prom_priors, df_team_unseen_champ_priors])\n",
    "        .set_index(\"team\", drop=False)\n",
    "        .loc[teams]\n",
    "    )\n",
    "    return df_teams_prior"
   ]
  },
  {
   "cell_type": "code",
   "execution_count": 17,
   "id": "61e1c2de-2436-466b-a944-36fa57b8f776",
   "metadata": {},
   "outputs": [],
   "source": [
    "def get_new_season_home_priors(df_post_home_priors: pd.DataFrame) -> pd.DataFrame:\n",
    "    return df_post_home_priors"
   ]
  },
  {
   "cell_type": "code",
   "execution_count": 18,
   "id": "f732b634-33ae-4986-b5cd-964b3fcf41be",
   "metadata": {},
   "outputs": [],
   "source": [
    "def get_new_season_position_priors(df_post_position_priors: pd.DataFrame, player_ids: list, positions: list) -> pd.DataFrame:\n",
    "    def fill_nan_with_array(x, mu_or_sigma: str):\n",
    "        if (isinstance(x, np.ndarray) and (x.size > 0)):\n",
    "            return x\n",
    "        elif (mu_or_sigma == \"mu\"):\n",
    "            return [DICT_POSITION_PRIORS[position][0] for position in positions]\n",
    "        elif (mu_or_sigma == \"sigma\"):\n",
    "            return [DICT_POSITION_PRIORS[position][1] for position in positions]\n",
    "\n",
    "    df_position_priors = (\n",
    "        pd\n",
    "        .DataFrame({\"player_id\": player_ids})\n",
    "        .merge(df_post_position_priors, how=\"left\", on=[\"player_id\"], validate=\"1:1\")\n",
    "        .assign(\n",
    "            mu=lambda x: x.mu.apply(fill_nan_with_array, args=(\"mu\",)),\n",
    "            sigma=lambda x: x.sigma.apply(fill_nan_with_array, args=(\"sigma\",)),\n",
    "            )\n",
    "    )\n",
    "    return df_position_priors"
   ]
  },
  {
   "cell_type": "markdown",
   "id": "2a20aacf-a5c9-49cf-a40c-39caaabe8967",
   "metadata": {},
   "source": [
    "  "
   ]
  },
  {
   "cell_type": "markdown",
   "id": "49e12279-e98e-4633-8164-55dc89f61ac7",
   "metadata": {},
   "source": [
    "## Fit"
   ]
  },
  {
   "cell_type": "code",
   "execution_count": 19,
   "id": "664631e9-e6a9-4772-bc3e-6f92f9bed5c7",
   "metadata": {},
   "outputs": [],
   "source": [
    "def create_model(df_all: pd.DataFrame, df_model: pd.DataFrame, priors: tuple, player_id_codes: list, team_codes: list, position_codes: list, \n",
    "                 coords: dict) -> pm.model.Model:\n",
    "    df_player_priors, df_team_priors, df_home_priors, df_position_priors = priors\n",
    "    league_masks = m.create_league_masks(df_all, coords[\"teams\"], coords[\"leagues\"])\n",
    "\n",
    "    # Weighted Exponential\n",
    "    def logp(value: pt.TensorVariable, lam: pt.TensorVariable, w: pt.TensorVariable) -> pt.TensorVariable:\n",
    "        log_prob = w * (np.log(lam) - lam * value)\n",
    "        return log_prob\n",
    "    \n",
    "    def random(lam, w, rng=None, size=None):\n",
    "        return scipy.stats.expon.rvs(scale=1.0/lam, size=size)\n",
    "\n",
    "    with pm.Model(coords=coords) as model:\n",
    "        # Data\n",
    "        home_data = pm.MutableData(\"home_data\", df_model.home.values)\n",
    "        player_id_codes_data = pm.MutableData(\"player_id_codes_data\", player_id_codes)\n",
    "        team_codes_data = pm.MutableData(\"team_codes_data\", team_codes)\n",
    "        position_codes_data = pm.MutableData(\"position_codes_data\", position_codes)\n",
    "        league_10_data = pm.MutableData(\"league_10_data\", df_model.league_10.values)\n",
    "        frac_90_data = pm.MutableData(\"frac_90_data\", df_model.frac_90.values)\n",
    "        npxg_data = pm.MutableData(\"npxg_data\", df_model.npxg.values)\n",
    "\n",
    "        # Priors\n",
    "        γ = pm.Normal(\"γ\", mu=df_home_priors.mu.values, sigma=df_home_priors.sigma.values)\n",
    "        Δ = pm.TruncatedNormal(\"Δ\", mu=df_player_priors.mu.values, sigma=df_player_priors.sigma.values, \n",
    "                               lower=df_player_priors.lower.values, dims=\"player_ids\")\n",
    "        β_ = pm.Normal(\"β_\", mu=df_team_priors.mu.values, sigma=df_team_priors.sigma.values, dims=\"teams\")\n",
    "        P = pm.Normal(\"P\", mu=np.array([list(x) for x in df_position_priors.mu.values]), \n",
    "                      sigma=np.array([list(x) for x in df_position_priors.sigma.values]), dims=(\"player_ids\", \"positions\"))\n",
    "        l_10 = 0.4\n",
    "\n",
    "        # Deterministic transform\n",
    "        for league_mask in league_masks:\n",
    "            β_ = pt.add(β_, -(pt.sum(league_mask * β_) / pt.sum(league_mask)) * league_mask)\n",
    "        β = pm.Deterministic(\"β\", β_, dims=\"teams\")\n",
    "    \n",
    "        η = pm.Deterministic(\"η\", pt.exp(\n",
    "            γ * home_data\n",
    "            + Δ[player_id_codes_data]\n",
    "            - β[team_codes_data]\n",
    "            + P[player_id_codes_data, position_codes_data]\n",
    "            + l_10 * league_10_data\n",
    "        ))\n",
    "        τ = frac_90_data\n",
    "\n",
    "        exp = pm.Deterministic(\"exp\", 1.0 / (η * τ))\n",
    "        exp = pt.switch(pt.lt(exp, 0.000001), 0.000001, exp)\n",
    "        \n",
    "        # Likelihood\n",
    "        x = pm.CustomDist(\n",
    "            \"x\",\n",
    "            exp, frac_90_data,\n",
    "            logp=logp,\n",
    "            random=random,\n",
    "            observed=npxg_data\n",
    "        )\n",
    "\n",
    "    return model"
   ]
  },
  {
   "cell_type": "markdown",
   "id": "94851339-2730-458a-b6b3-e4d045398283",
   "metadata": {},
   "source": [
    "  "
   ]
  },
  {
   "cell_type": "markdown",
   "id": "19e7bdbc-3bff-4389-8f26-76294e28855c",
   "metadata": {},
   "source": [
    "## Posterior"
   ]
  },
  {
   "cell_type": "markdown",
   "id": "ab37089a-0104-4bef-bfb8-48ec9612a475",
   "metadata": {},
   "source": [
    "### Posterior to priors"
   ]
  },
  {
   "cell_type": "code",
   "execution_count": 20,
   "id": "7c7bc702-73c1-4755-a2bf-d0f503b86f13",
   "metadata": {},
   "outputs": [],
   "source": [
    "def players_posterior_to_priors(df: pd.DataFrame, idata: az.InferenceData) -> pd.DataFrame:\n",
    "    df_post_player_priors = (\n",
    "        pd\n",
    "        .DataFrame({\"player_id\": idata.posterior.Δ.player_ids})\n",
    "        .merge(dc.calc_main_position(df), how=\"left\", on=[\"player_id\"], validate=\"1:1\")\n",
    "        .merge(dc.calc_main_squad(df), how=\"left\", on=[\"player_id\"], validate=\"1:1\")\n",
    "        .assign(\n",
    "            mu=lambda x: [idata.posterior.Δ.sel(player_ids=player_id).data.mean() for player_id in x.player_id.values], \n",
    "            sigma=lambda x: [idata.posterior.Δ.sel(player_ids=player_id).data.std() for player_id in x.player_id.values], \n",
    "        )\n",
    "    )\n",
    "    return df_post_player_priors"
   ]
  },
  {
   "cell_type": "code",
   "execution_count": 21,
   "id": "eee7439f-4181-494b-828c-261a99092a85",
   "metadata": {},
   "outputs": [],
   "source": [
    "def teams_posterior_to_priors(df: pd.DataFrame, idata: az.InferenceData) -> pd.DataFrame:\n",
    "    df_post_team_priors = (\n",
    "        df[[\"home_team\", \"league\"]]\n",
    "        .drop_duplicates(ignore_index=True)\n",
    "        .rename(columns={\"home_team\": \"team\"})\n",
    "        .assign(\n",
    "            mu=lambda x: [idata.posterior.β.sel(teams=team).data.mean() for team in x.team.values], \n",
    "            sigma=lambda x: [idata.posterior.β.sel(teams=team).data.std() for team in x.team.values], \n",
    "        )\n",
    "    )\n",
    "    return df_post_team_priors"
   ]
  },
  {
   "cell_type": "code",
   "execution_count": 22,
   "id": "ea68df54-63b6-4010-85bf-833db233f5d3",
   "metadata": {},
   "outputs": [],
   "source": [
    "def positions_posterior_to_priors(positions: list, idata: az.InferenceData) -> pd.DataFrame:\n",
    "    mus, sigmas = [], []\n",
    "    for player_id in idata.posterior.P.player_ids:\n",
    "        mus_player, sigmas_player = [], []\n",
    "        for position in positions:\n",
    "            mu_player = idata.posterior.P.sel(player_ids=player_id).data.mean()\n",
    "            sigma_player = idata.posterior.P.sel(player_ids=player_id).data.std()\n",
    "            mus_player.append(mu_player)\n",
    "            sigmas_player.append(sigma_player)\n",
    "        mus.append(np.array(mus_player))\n",
    "        sigmas.append(np.array(sigmas_player))\n",
    "    \n",
    "    df_position_priors = (\n",
    "        pd\n",
    "        .DataFrame({\"player_id\": idata.posterior.Δ.player_ids})\n",
    "        .assign(\n",
    "            mu=mus, \n",
    "            sigma=sigmas, \n",
    "        )\n",
    "    )\n",
    "    return df_position_priors"
   ]
  },
  {
   "cell_type": "code",
   "execution_count": 23,
   "id": "601ee8ec-3283-40be-973b-6af42430da9f",
   "metadata": {},
   "outputs": [],
   "source": [
    "def home_posterior_to_priors(idata: az.InferenceData) -> pd.DataFrame:\n",
    "    return pd.DataFrame([{\"mu\": idata.posterior.γ.data.mean(), \"sigma\": idata.posterior.γ.data.std()}])"
   ]
  },
  {
   "cell_type": "markdown",
   "id": "f667e0d4-5340-462c-96fd-283c27a107e5",
   "metadata": {},
   "source": [
    "### Utils"
   ]
  },
  {
   "cell_type": "code",
   "execution_count": 24,
   "id": "c2dfc4c8-1631-4f07-b44f-e4179637e0e5",
   "metadata": {},
   "outputs": [],
   "source": [
    "def increase_prior_variance(df_post_prior: pd.DataFrame, perc=10.0) -> pd.DataFrame:\n",
    "    df_post_prior.sigma = df_post_prior.sigma * (1.0 + perc / 100.0)\n",
    "    return df_post_prior"
   ]
  },
  {
   "cell_type": "code",
   "execution_count": 25,
   "id": "5725ae8e-0486-48d5-90a7-36fe538460e2",
   "metadata": {},
   "outputs": [],
   "source": [
    "def get_df_posterior(df: pd.DataFrame, idata: az.InferenceData) -> pd.DataFrame:\n",
    "    dict_bu = {\"player_id\": [], \"Δ\": []}\n",
    "\n",
    "    for player_id in df.player_id.unique():\n",
    "        Δ = idata.posterior.Δ.sel(player_ids=player_id).data.flatten().mean()\n",
    "\n",
    "        dict_bu[\"player_id\"].append(player_id)\n",
    "        dict_bu[\"Δ\"].append(Δ)\n",
    "\n",
    "    df_posterior = (\n",
    "        df\n",
    "        .merge(pd.DataFrame(dict_bu), how=\"left\", on=[\"player_id\"], validate=\"m:1\")\n",
    "    )\n",
    "    return df_posterior"
   ]
  },
  {
   "cell_type": "markdown",
   "id": "7c3d281f-460b-438e-b8eb-a1fca0e566df",
   "metadata": {},
   "source": [
    "  "
   ]
  },
  {
   "cell_type": "markdown",
   "id": "81ca8a51-04e0-4b3c-93a7-159506abbe4e",
   "metadata": {},
   "source": [
    "## Prediction"
   ]
  },
  {
   "cell_type": "code",
   "execution_count": 26,
   "id": "0424cf80-701a-427e-a898-51db1d413aeb",
   "metadata": {},
   "outputs": [],
   "source": [
    "def oos_predictions(\n",
    "    model: pm.model.Model, idata: az.InferenceData, df_model_test: pd.DataFrame, player_id_codes_test: list, team_codes_test: list,\n",
    "    position_codes_test: list\n",
    ") -> az.InferenceData:\n",
    "    with model:\n",
    "        pm.set_data({\n",
    "            \"home_data\": df_model_test.home.values,\n",
    "            \"player_id_codes_data\": player_id_codes_test,\n",
    "            \"team_codes_data\": team_codes_test,\n",
    "            \"position_codes_data\": position_codes_test,\n",
    "            \"league_10_data\": df_model_test.league_10.values,\n",
    "            \"frac_90_data\": df_model_test.frac_90.values,\n",
    "            \"npxg_data\": df_model_test.npxg.values,\n",
    "        })\n",
    "        pm.sample_posterior_predictive(idata, extend_inferencedata=True, predictions=True)\n",
    "\n",
    "    return idata"
   ]
  },
  {
   "cell_type": "code",
   "execution_count": 27,
   "id": "3071d803-7b36-4156-a777-f88276f8e937",
   "metadata": {},
   "outputs": [],
   "source": [
    "def add_predictions_to_df(df_test: pd.DataFrame, idata: az.InferenceData) -> pd.DataFrame:\n",
    "    df_posterior_predictive_chains = pd.DataFrame(\n",
    "        [\n",
    "            [idata.predictions.sel(chain=c, x_dim_2=r).x.data for c in range(NUM_CHAINS)]\n",
    "            for r in range(len(df_test))\n",
    "        ],\n",
    "        columns=[f\"pred_npxg_{c}\" for c in range(NUM_CHAINS)]\n",
    "    )\n",
    "    \n",
    "    df_posterior_predictive = (\n",
    "        df_test\n",
    "        .join(df_posterior_predictive_chains)\n",
    "    )\n",
    "    return df_posterior_predictive"
   ]
  },
  {
   "cell_type": "code",
   "execution_count": 28,
   "id": "55c2e563-f150-44be-8c5e-9b830880266b",
   "metadata": {},
   "outputs": [],
   "source": [
    "def add_pred_to_df(df_test: pd.DataFrame) -> pd.DataFrame:\n",
    "    df_test[\"pred_npxg\"] = 0.0\n",
    "    for c in range(NUM_CHAINS):\n",
    "        df_test.pred_npxg += np.array([df_test[f\"pred_npxg_{c}\"][n].mean() for n in range(len(df_test))]) / NUM_CHAINS\n",
    "    return df_test"
   ]
  },
  {
   "cell_type": "code",
   "execution_count": 29,
   "id": "4144939d-b574-40a7-9ba2-093c99085262",
   "metadata": {},
   "outputs": [],
   "source": [
    "def add_ll_to_df(df_test: pd.DataFrame) -> pd.DataFrame:\n",
    "    df_test[\"log_likelihood\"] = (\n",
    "        np.maximum(-10_000.0, np.log(scipy.stats.expon.pdf(df_test.npxg, scale=df_test[\"pred_npxg\"])))\n",
    "    )\n",
    "    return df_test"
   ]
  },
  {
   "cell_type": "markdown",
   "id": "7a85f188-cb3f-48d3-8a10-041b6ce8deea",
   "metadata": {},
   "source": [
    "# Main"
   ]
  },
  {
   "cell_type": "markdown",
   "id": "4053ff6c-bb95-43ff-9d5e-2ee31a572e37",
   "metadata": {},
   "source": [
    "## TRAIN"
   ]
  },
  {
   "cell_type": "code",
   "execution_count": 30,
   "id": "66e008fb-2cbb-4f27-b7e0-7c6527125e95",
   "metadata": {},
   "outputs": [],
   "source": [
    "post_priors_cache = dict()"
   ]
  },
  {
   "cell_type": "code",
   "execution_count": 31,
   "id": "add01b1f-f26d-4329-8b41-6724a108d36e",
   "metadata": {},
   "outputs": [],
   "source": [
    "train_seasons = [\"2017-2018\", \"2018-2019\", \"2019-2020\"]\n",
    "train_comp_ids = [9, 10, 11, 12, 13, 20]"
   ]
  },
  {
   "cell_type": "code",
   "execution_count": 32,
   "id": "ccd5ca31-f4f7-4659-b2ec-f4fa19a3d8f4",
   "metadata": {},
   "outputs": [],
   "source": [
    "season = \"2017-2018\""
   ]
  },
  {
   "cell_type": "code",
   "execution_count": 33,
   "id": "d6fba216-41ec-4d7a-a058-ff937c81dffb",
   "metadata": {},
   "outputs": [],
   "source": [
    "if not CACHED_TRAIN:\n",
    "    for season in train_seasons:\n",
    "        # Data\n",
    "        df = load_season([season], train_comp_ids)\n",
    "        df = clean_df(df)\n",
    "        df_model = df_to_model_df(df)\n",
    "\n",
    "        # Model data\n",
    "        player_id_codes, player_ids = pd.factorize(df_model.loc[:, \"player_id\"], sort=True)\n",
    "        team_codes, teams = pd.factorize(df_model.loc[:, \"opposition_team\"], sort=True)\n",
    "        position_codes, positions = pd.factorize(df_model.loc[:, \"position\"], sort=True)\n",
    "        league_codes, leagues = pd.factorize(df_model.loc[:, \"league\"], sort=True)\n",
    "\n",
    "        # Prior specification\n",
    "        if (season == train_seasons[0]):\n",
    "            df_player_priors = first_player_prior_specification(df, player_ids)\n",
    "            df_team_priors = first_team_prior_specification(df, teams)\n",
    "            df_home_priors = first_home_prior_specification()\n",
    "            df_player_position_priors = first_position_prior_specification(player_ids, positions)\n",
    "        else:\n",
    "            df_player_priors = get_new_season_player_priors(df_post_player_priors, df_posterior, df, player_ids)\n",
    "            df_team_priors = get_new_season_team_priors(df_post_team_priors, df, teams)\n",
    "            df_home_priors = get_new_season_home_priors(df_post_home_priors)\n",
    "            df_player_position_priors = get_new_season_position_priors(df_post_position_priors, player_ids, positions)\n",
    "        priors = (df_player_priors, df_team_priors, df_home_priors, df_player_position_priors)\n",
    "\n",
    "        # Model\n",
    "        coords = {\"player_ids\": player_ids, \"teams\": teams, \"positions\": positions, \"leagues\": leagues}\n",
    "        model = create_model(df_model, df_model, priors, player_id_codes, team_codes, position_codes, coords)\n",
    "\n",
    "        with model:\n",
    "            idata = pm.sample()\n",
    "\n",
    "        # Posterior priors\n",
    "        df_posterior = get_df_posterior(df, idata)\n",
    "\n",
    "        df_post_player_priors = players_posterior_to_priors(df, idata)\n",
    "        df_post_team_priors = teams_posterior_to_priors(df, idata)\n",
    "        df_post_position_priors = positions_posterior_to_priors(positions, idata)\n",
    "        df_post_home_priors = home_posterior_to_priors(idata)\n",
    "\n",
    "        df_post_player_priors = increase_prior_variance(df_post_player_priors)\n",
    "        df_post_team_priors = increase_prior_variance(df_post_team_priors)\n",
    "        df_post_position_priors = increase_prior_variance(df_post_position_priors)\n",
    "        df_post_home_priors = increase_prior_variance(df_post_home_priors)\n",
    "\n",
    "        post_priors_cache[season] = {\n",
    "            \"df_posterior\": df_posterior,\n",
    "            \"df_post_player_priors\": df_post_player_priors,\n",
    "            \"df_post_team_priors\": df_post_team_priors,\n",
    "            \"df_post_position_priors\": df_post_position_priors,\n",
    "            \"df_post_home_priors\": df_post_home_priors,\n",
    "        }\n",
    "    \n",
    "    with open(r\"cache\\post-priors-cache.pickle\", \"wb\") as post_priors_cache_file:\n",
    "        pickle.dump(post_priors_cache, post_priors_cache_file)\n",
    "\n",
    "else:\n",
    "    with open(r\"cache\\post-priors-cache.pickle\", \"rb\") as post_priors_cache_file:\n",
    "        post_priors_cache = pickle.load(post_priors_cache_file)\n",
    "\n",
    "    post_priors_cache_final_season = post_priors_cache[train_seasons[-1]]\n",
    "\n",
    "    df_posterior = post_priors_cache_final_season[\"df_posterior\"]\n",
    "    df_post_player_priors = post_priors_cache_final_season[\"df_post_player_priors\"]\n",
    "    df_post_team_priors = post_priors_cache_final_season[\"df_post_team_priors\"]\n",
    "    df_post_position_priors = post_priors_cache_final_season[\"df_post_position_priors\"]\n",
    "    df_post_home_priors = post_priors_cache_final_season[\"df_post_home_priors\"]"
   ]
  },
  {
   "cell_type": "markdown",
   "id": "84225e92-9f4d-495a-ae78-c7483702ad63",
   "metadata": {},
   "source": [
    "  "
   ]
  },
  {
   "cell_type": "markdown",
   "id": "55d1c063-1b56-416d-9350-5120f81302d2",
   "metadata": {},
   "source": [
    "## VAL"
   ]
  },
  {
   "cell_type": "code",
   "execution_count": 34,
   "id": "60b00652-afcc-415a-9980-1da859e94d99",
   "metadata": {},
   "outputs": [],
   "source": [
    "def add_to_df_test(df_test: pd.DataFrame) -> pd.DataFrame:\n",
    "    df_test = add_pred_to_df(df_test)\n",
    "    df_test = add_ll_to_df(df_test)\n",
    "    df_test[\"mse\"] = (df_test.pred_npxg - df_test.npxg) ** 2\n",
    "    df_test[\"pred_npxg90\"] = df_test.pred_npxg / df_test.frac_90\n",
    "    return df_test"
   ]
  },
  {
   "cell_type": "code",
   "execution_count": 35,
   "id": "5eff9e53-db6f-487b-9929-7baca68b8141",
   "metadata": {},
   "outputs": [],
   "source": [
    "val_seasons = [\"2020-2021\"]\n",
    "val_comp_ids = [9, 11, 12, 13, 20]"
   ]
  },
  {
   "cell_type": "code",
   "execution_count": 36,
   "id": "4dd69a2e-49ce-4ac7-8234-4a8d5f235744",
   "metadata": {},
   "outputs": [],
   "source": [
    "season = \"2020-2021\""
   ]
  },
  {
   "cell_type": "code",
   "execution_count": 37,
   "id": "66909d81-b843-4737-93cf-6ccb49bbb188",
   "metadata": {
    "scrolled": true
   },
   "outputs": [
    {
     "name": "stderr",
     "output_type": "stream",
     "text": [
      "C:\\Users\\benja\\AppData\\Local\\Temp\\ipykernel_16744\\3405997231.py:40: SettingWithCopyWarning: \n",
      "A value is trying to be set on a copy of a slice from a DataFrame.\n",
      "Try using .loc[row_indexer,col_indexer] = value instead\n",
      "\n",
      "See the caveats in the documentation: https://pandas.pydata.org/pandas-docs/stable/user_guide/indexing.html#returning-a-view-versus-a-copy\n",
      "  df_player_moving_teams_priors.sigma = (\n",
      "Auto-assigning NUTS sampler...\n",
      "Initializing NUTS using jitter+adapt_diag...\n",
      "Multiprocess sampling (4 chains in 4 jobs)\n",
      "NUTS: [γ, Δ, β_, P]\n"
     ]
    },
    {
     "data": {
      "text/html": [
       "\n",
       "    <div>\n",
       "        <style>\n",
       "            /* Turns off some styling */\n",
       "            progress {\n",
       "                /* gets rid of default border in Firefox and Opera. */\n",
       "                border: none;\n",
       "                /* Needs to be in here for Safari polyfill so background images work as expected. */\n",
       "                background-size: auto;\n",
       "            }\n",
       "            .progress-bar-interrupted, .progress-bar-interrupted::-webkit-progress-bar {\n",
       "                background: #F44336;\n",
       "            }\n",
       "        </style>\n",
       "      <progress value='8000' class='' max='8000' style='width:300px; height:20px; vertical-align: middle;'></progress>\n",
       "      100.00% [8000/8000 01:58<00:00 Sampling 4 chains, 0 divergences]\n",
       "    </div>\n",
       "    "
      ],
      "text/plain": [
       "<IPython.core.display.HTML object>"
      ]
     },
     "metadata": {},
     "output_type": "display_data"
    },
    {
     "name": "stderr",
     "output_type": "stream",
     "text": [
      "Sampling 4 chains for 1_000 tune and 1_000 draw iterations (4_000 + 4_000 draws total) took 142 seconds.\n",
      "The rhat statistic is larger than 1.01 for some parameters. This indicates problems during sampling. See https://arxiv.org/abs/1903.08008 for details\n",
      "Sampling: [x]\n"
     ]
    },
    {
     "data": {
      "text/html": [
       "\n",
       "    <div>\n",
       "        <style>\n",
       "            /* Turns off some styling */\n",
       "            progress {\n",
       "                /* gets rid of default border in Firefox and Opera. */\n",
       "                border: none;\n",
       "                /* Needs to be in here for Safari polyfill so background images work as expected. */\n",
       "                background-size: auto;\n",
       "            }\n",
       "            .progress-bar-interrupted, .progress-bar-interrupted::-webkit-progress-bar {\n",
       "                background: #F44336;\n",
       "            }\n",
       "        </style>\n",
       "      <progress value='4000' class='' max='4000' style='width:300px; height:20px; vertical-align: middle;'></progress>\n",
       "      100.00% [4000/4000 00:00<00:00]\n",
       "    </div>\n",
       "    "
      ],
      "text/plain": [
       "<IPython.core.display.HTML object>"
      ]
     },
     "metadata": {},
     "output_type": "display_data"
    },
    {
     "name": "stdout",
     "output_type": "stream",
     "text": [
      "Finished 2 / 38\n"
     ]
    },
    {
     "name": "stderr",
     "output_type": "stream",
     "text": [
      "C:\\Users\\benja\\AppData\\Local\\Temp\\ipykernel_16744\\3405997231.py:40: SettingWithCopyWarning: \n",
      "A value is trying to be set on a copy of a slice from a DataFrame.\n",
      "Try using .loc[row_indexer,col_indexer] = value instead\n",
      "\n",
      "See the caveats in the documentation: https://pandas.pydata.org/pandas-docs/stable/user_guide/indexing.html#returning-a-view-versus-a-copy\n",
      "  df_player_moving_teams_priors.sigma = (\n",
      "Auto-assigning NUTS sampler...\n",
      "Initializing NUTS using jitter+adapt_diag...\n",
      "Multiprocess sampling (4 chains in 4 jobs)\n",
      "NUTS: [γ, Δ, β_, P]\n"
     ]
    },
    {
     "data": {
      "text/html": [
       "\n",
       "    <div>\n",
       "        <style>\n",
       "            /* Turns off some styling */\n",
       "            progress {\n",
       "                /* gets rid of default border in Firefox and Opera. */\n",
       "                border: none;\n",
       "                /* Needs to be in here for Safari polyfill so background images work as expected. */\n",
       "                background-size: auto;\n",
       "            }\n",
       "            .progress-bar-interrupted, .progress-bar-interrupted::-webkit-progress-bar {\n",
       "                background: #F44336;\n",
       "            }\n",
       "        </style>\n",
       "      <progress value='8000' class='' max='8000' style='width:300px; height:20px; vertical-align: middle;'></progress>\n",
       "      100.00% [8000/8000 02:17<00:00 Sampling 4 chains, 5 divergences]\n",
       "    </div>\n",
       "    "
      ],
      "text/plain": [
       "<IPython.core.display.HTML object>"
      ]
     },
     "metadata": {},
     "output_type": "display_data"
    },
    {
     "name": "stderr",
     "output_type": "stream",
     "text": [
      "Sampling 4 chains for 1_000 tune and 1_000 draw iterations (4_000 + 4_000 draws total) took 152 seconds.\n",
      "The rhat statistic is larger than 1.01 for some parameters. This indicates problems during sampling. See https://arxiv.org/abs/1903.08008 for details\n",
      "There were 5 divergences after tuning. Increase `target_accept` or reparameterize.\n",
      "Sampling: [x]\n"
     ]
    },
    {
     "data": {
      "text/html": [
       "\n",
       "    <div>\n",
       "        <style>\n",
       "            /* Turns off some styling */\n",
       "            progress {\n",
       "                /* gets rid of default border in Firefox and Opera. */\n",
       "                border: none;\n",
       "                /* Needs to be in here for Safari polyfill so background images work as expected. */\n",
       "                background-size: auto;\n",
       "            }\n",
       "            .progress-bar-interrupted, .progress-bar-interrupted::-webkit-progress-bar {\n",
       "                background: #F44336;\n",
       "            }\n",
       "        </style>\n",
       "      <progress value='4000' class='' max='4000' style='width:300px; height:20px; vertical-align: middle;'></progress>\n",
       "      100.00% [4000/4000 00:00<00:00]\n",
       "    </div>\n",
       "    "
      ],
      "text/plain": [
       "<IPython.core.display.HTML object>"
      ]
     },
     "metadata": {},
     "output_type": "display_data"
    },
    {
     "name": "stdout",
     "output_type": "stream",
     "text": [
      "Finished 3 / 38\n"
     ]
    },
    {
     "name": "stderr",
     "output_type": "stream",
     "text": [
      "C:\\Users\\benja\\AppData\\Local\\Temp\\ipykernel_16744\\3405997231.py:40: SettingWithCopyWarning: \n",
      "A value is trying to be set on a copy of a slice from a DataFrame.\n",
      "Try using .loc[row_indexer,col_indexer] = value instead\n",
      "\n",
      "See the caveats in the documentation: https://pandas.pydata.org/pandas-docs/stable/user_guide/indexing.html#returning-a-view-versus-a-copy\n",
      "  df_player_moving_teams_priors.sigma = (\n",
      "Auto-assigning NUTS sampler...\n",
      "Initializing NUTS using jitter+adapt_diag...\n",
      "Multiprocess sampling (4 chains in 4 jobs)\n",
      "NUTS: [γ, Δ, β_, P]\n"
     ]
    },
    {
     "data": {
      "text/html": [
       "\n",
       "    <div>\n",
       "        <style>\n",
       "            /* Turns off some styling */\n",
       "            progress {\n",
       "                /* gets rid of default border in Firefox and Opera. */\n",
       "                border: none;\n",
       "                /* Needs to be in here for Safari polyfill so background images work as expected. */\n",
       "                background-size: auto;\n",
       "            }\n",
       "            .progress-bar-interrupted, .progress-bar-interrupted::-webkit-progress-bar {\n",
       "                background: #F44336;\n",
       "            }\n",
       "        </style>\n",
       "      <progress value='8000' class='' max='8000' style='width:300px; height:20px; vertical-align: middle;'></progress>\n",
       "      100.00% [8000/8000 02:46<00:00 Sampling 4 chains, 5 divergences]\n",
       "    </div>\n",
       "    "
      ],
      "text/plain": [
       "<IPython.core.display.HTML object>"
      ]
     },
     "metadata": {},
     "output_type": "display_data"
    },
    {
     "name": "stderr",
     "output_type": "stream",
     "text": [
      "Sampling 4 chains for 1_000 tune and 1_000 draw iterations (4_000 + 4_000 draws total) took 183 seconds.\n",
      "The rhat statistic is larger than 1.01 for some parameters. This indicates problems during sampling. See https://arxiv.org/abs/1903.08008 for details\n",
      "There were 5 divergences after tuning. Increase `target_accept` or reparameterize.\n",
      "Sampling: [x]\n"
     ]
    },
    {
     "data": {
      "text/html": [
       "\n",
       "    <div>\n",
       "        <style>\n",
       "            /* Turns off some styling */\n",
       "            progress {\n",
       "                /* gets rid of default border in Firefox and Opera. */\n",
       "                border: none;\n",
       "                /* Needs to be in here for Safari polyfill so background images work as expected. */\n",
       "                background-size: auto;\n",
       "            }\n",
       "            .progress-bar-interrupted, .progress-bar-interrupted::-webkit-progress-bar {\n",
       "                background: #F44336;\n",
       "            }\n",
       "        </style>\n",
       "      <progress value='4000' class='' max='4000' style='width:300px; height:20px; vertical-align: middle;'></progress>\n",
       "      100.00% [4000/4000 00:00<00:00]\n",
       "    </div>\n",
       "    "
      ],
      "text/plain": [
       "<IPython.core.display.HTML object>"
      ]
     },
     "metadata": {},
     "output_type": "display_data"
    },
    {
     "name": "stdout",
     "output_type": "stream",
     "text": [
      "Finished 4 / 38\n"
     ]
    },
    {
     "name": "stderr",
     "output_type": "stream",
     "text": [
      "C:\\Users\\benja\\AppData\\Local\\Temp\\ipykernel_16744\\3405997231.py:40: SettingWithCopyWarning: \n",
      "A value is trying to be set on a copy of a slice from a DataFrame.\n",
      "Try using .loc[row_indexer,col_indexer] = value instead\n",
      "\n",
      "See the caveats in the documentation: https://pandas.pydata.org/pandas-docs/stable/user_guide/indexing.html#returning-a-view-versus-a-copy\n",
      "  df_player_moving_teams_priors.sigma = (\n",
      "Auto-assigning NUTS sampler...\n",
      "Initializing NUTS using jitter+adapt_diag...\n",
      "Multiprocess sampling (4 chains in 4 jobs)\n",
      "NUTS: [γ, Δ, β_, P]\n"
     ]
    },
    {
     "data": {
      "text/html": [
       "\n",
       "    <div>\n",
       "        <style>\n",
       "            /* Turns off some styling */\n",
       "            progress {\n",
       "                /* gets rid of default border in Firefox and Opera. */\n",
       "                border: none;\n",
       "                /* Needs to be in here for Safari polyfill so background images work as expected. */\n",
       "                background-size: auto;\n",
       "            }\n",
       "            .progress-bar-interrupted, .progress-bar-interrupted::-webkit-progress-bar {\n",
       "                background: #F44336;\n",
       "            }\n",
       "        </style>\n",
       "      <progress value='8000' class='' max='8000' style='width:300px; height:20px; vertical-align: middle;'></progress>\n",
       "      100.00% [8000/8000 02:53<00:00 Sampling 4 chains, 3,756 divergences]\n",
       "    </div>\n",
       "    "
      ],
      "text/plain": [
       "<IPython.core.display.HTML object>"
      ]
     },
     "metadata": {},
     "output_type": "display_data"
    },
    {
     "name": "stderr",
     "output_type": "stream",
     "text": [
      "Sampling 4 chains for 1_000 tune and 1_000 draw iterations (4_000 + 4_000 draws total) took 192 seconds.\n",
      "The rhat statistic is larger than 1.01 for some parameters. This indicates problems during sampling. See https://arxiv.org/abs/1903.08008 for details\n",
      "The effective sample size per chain is smaller than 100 for some parameters.  A higher number is needed for reliable rhat and ess computation. See https://arxiv.org/abs/1903.08008 for details\n",
      "There were 3756 divergences after tuning. Increase `target_accept` or reparameterize.\n",
      "Sampling: [x]\n"
     ]
    },
    {
     "data": {
      "text/html": [
       "\n",
       "    <div>\n",
       "        <style>\n",
       "            /* Turns off some styling */\n",
       "            progress {\n",
       "                /* gets rid of default border in Firefox and Opera. */\n",
       "                border: none;\n",
       "                /* Needs to be in here for Safari polyfill so background images work as expected. */\n",
       "                background-size: auto;\n",
       "            }\n",
       "            .progress-bar-interrupted, .progress-bar-interrupted::-webkit-progress-bar {\n",
       "                background: #F44336;\n",
       "            }\n",
       "        </style>\n",
       "      <progress value='4000' class='' max='4000' style='width:300px; height:20px; vertical-align: middle;'></progress>\n",
       "      100.00% [4000/4000 00:00<00:00]\n",
       "    </div>\n",
       "    "
      ],
      "text/plain": [
       "<IPython.core.display.HTML object>"
      ]
     },
     "metadata": {},
     "output_type": "display_data"
    },
    {
     "name": "stdout",
     "output_type": "stream",
     "text": [
      "Finished 5 / 38\n"
     ]
    },
    {
     "name": "stderr",
     "output_type": "stream",
     "text": [
      "C:\\Users\\benja\\AppData\\Local\\Temp\\ipykernel_16744\\3405997231.py:40: SettingWithCopyWarning: \n",
      "A value is trying to be set on a copy of a slice from a DataFrame.\n",
      "Try using .loc[row_indexer,col_indexer] = value instead\n",
      "\n",
      "See the caveats in the documentation: https://pandas.pydata.org/pandas-docs/stable/user_guide/indexing.html#returning-a-view-versus-a-copy\n",
      "  df_player_moving_teams_priors.sigma = (\n",
      "Auto-assigning NUTS sampler...\n",
      "Initializing NUTS using jitter+adapt_diag...\n",
      "Multiprocess sampling (4 chains in 4 jobs)\n",
      "NUTS: [γ, Δ, β_, P]\n"
     ]
    },
    {
     "data": {
      "text/html": [
       "\n",
       "    <div>\n",
       "        <style>\n",
       "            /* Turns off some styling */\n",
       "            progress {\n",
       "                /* gets rid of default border in Firefox and Opera. */\n",
       "                border: none;\n",
       "                /* Needs to be in here for Safari polyfill so background images work as expected. */\n",
       "                background-size: auto;\n",
       "            }\n",
       "            .progress-bar-interrupted, .progress-bar-interrupted::-webkit-progress-bar {\n",
       "                background: #F44336;\n",
       "            }\n",
       "        </style>\n",
       "      <progress value='8000' class='' max='8000' style='width:300px; height:20px; vertical-align: middle;'></progress>\n",
       "      100.00% [8000/8000 03:01<00:00 Sampling 4 chains, 3,933 divergences]\n",
       "    </div>\n",
       "    "
      ],
      "text/plain": [
       "<IPython.core.display.HTML object>"
      ]
     },
     "metadata": {},
     "output_type": "display_data"
    },
    {
     "name": "stderr",
     "output_type": "stream",
     "text": [
      "Sampling 4 chains for 1_000 tune and 1_000 draw iterations (4_000 + 4_000 draws total) took 198 seconds.\n",
      "The rhat statistic is larger than 1.01 for some parameters. This indicates problems during sampling. See https://arxiv.org/abs/1903.08008 for details\n",
      "The effective sample size per chain is smaller than 100 for some parameters.  A higher number is needed for reliable rhat and ess computation. See https://arxiv.org/abs/1903.08008 for details\n",
      "There were 3933 divergences after tuning. Increase `target_accept` or reparameterize.\n",
      "Sampling: [x]\n"
     ]
    },
    {
     "data": {
      "text/html": [
       "\n",
       "    <div>\n",
       "        <style>\n",
       "            /* Turns off some styling */\n",
       "            progress {\n",
       "                /* gets rid of default border in Firefox and Opera. */\n",
       "                border: none;\n",
       "                /* Needs to be in here for Safari polyfill so background images work as expected. */\n",
       "                background-size: auto;\n",
       "            }\n",
       "            .progress-bar-interrupted, .progress-bar-interrupted::-webkit-progress-bar {\n",
       "                background: #F44336;\n",
       "            }\n",
       "        </style>\n",
       "      <progress value='4000' class='' max='4000' style='width:300px; height:20px; vertical-align: middle;'></progress>\n",
       "      100.00% [4000/4000 00:00<00:00]\n",
       "    </div>\n",
       "    "
      ],
      "text/plain": [
       "<IPython.core.display.HTML object>"
      ]
     },
     "metadata": {},
     "output_type": "display_data"
    },
    {
     "name": "stdout",
     "output_type": "stream",
     "text": [
      "Finished 6 / 38\n"
     ]
    },
    {
     "name": "stderr",
     "output_type": "stream",
     "text": [
      "C:\\Users\\benja\\AppData\\Local\\Temp\\ipykernel_16744\\3405997231.py:40: SettingWithCopyWarning: \n",
      "A value is trying to be set on a copy of a slice from a DataFrame.\n",
      "Try using .loc[row_indexer,col_indexer] = value instead\n",
      "\n",
      "See the caveats in the documentation: https://pandas.pydata.org/pandas-docs/stable/user_guide/indexing.html#returning-a-view-versus-a-copy\n",
      "  df_player_moving_teams_priors.sigma = (\n",
      "Auto-assigning NUTS sampler...\n",
      "Initializing NUTS using jitter+adapt_diag...\n",
      "Multiprocess sampling (4 chains in 4 jobs)\n",
      "NUTS: [γ, Δ, β_, P]\n"
     ]
    },
    {
     "data": {
      "text/html": [
       "\n",
       "    <div>\n",
       "        <style>\n",
       "            /* Turns off some styling */\n",
       "            progress {\n",
       "                /* gets rid of default border in Firefox and Opera. */\n",
       "                border: none;\n",
       "                /* Needs to be in here for Safari polyfill so background images work as expected. */\n",
       "                background-size: auto;\n",
       "            }\n",
       "            .progress-bar-interrupted, .progress-bar-interrupted::-webkit-progress-bar {\n",
       "                background: #F44336;\n",
       "            }\n",
       "        </style>\n",
       "      <progress value='8000' class='' max='8000' style='width:300px; height:20px; vertical-align: middle;'></progress>\n",
       "      100.00% [8000/8000 02:43<00:00 Sampling 4 chains, 3,883 divergences]\n",
       "    </div>\n",
       "    "
      ],
      "text/plain": [
       "<IPython.core.display.HTML object>"
      ]
     },
     "metadata": {},
     "output_type": "display_data"
    },
    {
     "name": "stderr",
     "output_type": "stream",
     "text": [
      "Sampling 4 chains for 1_000 tune and 1_000 draw iterations (4_000 + 4_000 draws total) took 180 seconds.\n",
      "The rhat statistic is larger than 1.01 for some parameters. This indicates problems during sampling. See https://arxiv.org/abs/1903.08008 for details\n",
      "The effective sample size per chain is smaller than 100 for some parameters.  A higher number is needed for reliable rhat and ess computation. See https://arxiv.org/abs/1903.08008 for details\n",
      "There were 3883 divergences after tuning. Increase `target_accept` or reparameterize.\n",
      "Sampling: [x]\n"
     ]
    },
    {
     "data": {
      "text/html": [
       "\n",
       "    <div>\n",
       "        <style>\n",
       "            /* Turns off some styling */\n",
       "            progress {\n",
       "                /* gets rid of default border in Firefox and Opera. */\n",
       "                border: none;\n",
       "                /* Needs to be in here for Safari polyfill so background images work as expected. */\n",
       "                background-size: auto;\n",
       "            }\n",
       "            .progress-bar-interrupted, .progress-bar-interrupted::-webkit-progress-bar {\n",
       "                background: #F44336;\n",
       "            }\n",
       "        </style>\n",
       "      <progress value='4000' class='' max='4000' style='width:300px; height:20px; vertical-align: middle;'></progress>\n",
       "      100.00% [4000/4000 00:00<00:00]\n",
       "    </div>\n",
       "    "
      ],
      "text/plain": [
       "<IPython.core.display.HTML object>"
      ]
     },
     "metadata": {},
     "output_type": "display_data"
    },
    {
     "name": "stdout",
     "output_type": "stream",
     "text": [
      "Finished 7 / 38\n"
     ]
    },
    {
     "name": "stderr",
     "output_type": "stream",
     "text": [
      "C:\\Users\\benja\\AppData\\Local\\Temp\\ipykernel_16744\\3405997231.py:40: SettingWithCopyWarning: \n",
      "A value is trying to be set on a copy of a slice from a DataFrame.\n",
      "Try using .loc[row_indexer,col_indexer] = value instead\n",
      "\n",
      "See the caveats in the documentation: https://pandas.pydata.org/pandas-docs/stable/user_guide/indexing.html#returning-a-view-versus-a-copy\n",
      "  df_player_moving_teams_priors.sigma = (\n",
      "Auto-assigning NUTS sampler...\n",
      "Initializing NUTS using jitter+adapt_diag...\n",
      "Multiprocess sampling (4 chains in 4 jobs)\n",
      "NUTS: [γ, Δ, β_, P]\n"
     ]
    },
    {
     "data": {
      "text/html": [
       "\n",
       "    <div>\n",
       "        <style>\n",
       "            /* Turns off some styling */\n",
       "            progress {\n",
       "                /* gets rid of default border in Firefox and Opera. */\n",
       "                border: none;\n",
       "                /* Needs to be in here for Safari polyfill so background images work as expected. */\n",
       "                background-size: auto;\n",
       "            }\n",
       "            .progress-bar-interrupted, .progress-bar-interrupted::-webkit-progress-bar {\n",
       "                background: #F44336;\n",
       "            }\n",
       "        </style>\n",
       "      <progress value='8000' class='' max='8000' style='width:300px; height:20px; vertical-align: middle;'></progress>\n",
       "      100.00% [8000/8000 03:21<00:00 Sampling 4 chains, 3,684 divergences]\n",
       "    </div>\n",
       "    "
      ],
      "text/plain": [
       "<IPython.core.display.HTML object>"
      ]
     },
     "metadata": {},
     "output_type": "display_data"
    },
    {
     "name": "stderr",
     "output_type": "stream",
     "text": [
      "Sampling 4 chains for 1_000 tune and 1_000 draw iterations (4_000 + 4_000 draws total) took 220 seconds.\n",
      "The rhat statistic is larger than 1.01 for some parameters. This indicates problems during sampling. See https://arxiv.org/abs/1903.08008 for details\n",
      "The effective sample size per chain is smaller than 100 for some parameters.  A higher number is needed for reliable rhat and ess computation. See https://arxiv.org/abs/1903.08008 for details\n",
      "There were 3684 divergences after tuning. Increase `target_accept` or reparameterize.\n",
      "Sampling: [x]\n"
     ]
    },
    {
     "data": {
      "text/html": [
       "\n",
       "    <div>\n",
       "        <style>\n",
       "            /* Turns off some styling */\n",
       "            progress {\n",
       "                /* gets rid of default border in Firefox and Opera. */\n",
       "                border: none;\n",
       "                /* Needs to be in here for Safari polyfill so background images work as expected. */\n",
       "                background-size: auto;\n",
       "            }\n",
       "            .progress-bar-interrupted, .progress-bar-interrupted::-webkit-progress-bar {\n",
       "                background: #F44336;\n",
       "            }\n",
       "        </style>\n",
       "      <progress value='4000' class='' max='4000' style='width:300px; height:20px; vertical-align: middle;'></progress>\n",
       "      100.00% [4000/4000 00:00<00:00]\n",
       "    </div>\n",
       "    "
      ],
      "text/plain": [
       "<IPython.core.display.HTML object>"
      ]
     },
     "metadata": {},
     "output_type": "display_data"
    },
    {
     "name": "stdout",
     "output_type": "stream",
     "text": [
      "Finished 8 / 38\n"
     ]
    },
    {
     "name": "stderr",
     "output_type": "stream",
     "text": [
      "C:\\Users\\benja\\AppData\\Local\\Temp\\ipykernel_16744\\3405997231.py:40: SettingWithCopyWarning: \n",
      "A value is trying to be set on a copy of a slice from a DataFrame.\n",
      "Try using .loc[row_indexer,col_indexer] = value instead\n",
      "\n",
      "See the caveats in the documentation: https://pandas.pydata.org/pandas-docs/stable/user_guide/indexing.html#returning-a-view-versus-a-copy\n",
      "  df_player_moving_teams_priors.sigma = (\n",
      "Auto-assigning NUTS sampler...\n",
      "Initializing NUTS using jitter+adapt_diag...\n",
      "Multiprocess sampling (4 chains in 4 jobs)\n",
      "NUTS: [γ, Δ, β_, P]\n"
     ]
    },
    {
     "data": {
      "text/html": [
       "\n",
       "    <div>\n",
       "        <style>\n",
       "            /* Turns off some styling */\n",
       "            progress {\n",
       "                /* gets rid of default border in Firefox and Opera. */\n",
       "                border: none;\n",
       "                /* Needs to be in here for Safari polyfill so background images work as expected. */\n",
       "                background-size: auto;\n",
       "            }\n",
       "            .progress-bar-interrupted, .progress-bar-interrupted::-webkit-progress-bar {\n",
       "                background: #F44336;\n",
       "            }\n",
       "        </style>\n",
       "      <progress value='8000' class='' max='8000' style='width:300px; height:20px; vertical-align: middle;'></progress>\n",
       "      100.00% [8000/8000 03:02<00:00 Sampling 4 chains, 3,766 divergences]\n",
       "    </div>\n",
       "    "
      ],
      "text/plain": [
       "<IPython.core.display.HTML object>"
      ]
     },
     "metadata": {},
     "output_type": "display_data"
    },
    {
     "name": "stderr",
     "output_type": "stream",
     "text": [
      "Sampling 4 chains for 1_000 tune and 1_000 draw iterations (4_000 + 4_000 draws total) took 199 seconds.\n",
      "The rhat statistic is larger than 1.01 for some parameters. This indicates problems during sampling. See https://arxiv.org/abs/1903.08008 for details\n",
      "The effective sample size per chain is smaller than 100 for some parameters.  A higher number is needed for reliable rhat and ess computation. See https://arxiv.org/abs/1903.08008 for details\n",
      "There were 3766 divergences after tuning. Increase `target_accept` or reparameterize.\n",
      "Sampling: [x]\n"
     ]
    },
    {
     "data": {
      "text/html": [
       "\n",
       "    <div>\n",
       "        <style>\n",
       "            /* Turns off some styling */\n",
       "            progress {\n",
       "                /* gets rid of default border in Firefox and Opera. */\n",
       "                border: none;\n",
       "                /* Needs to be in here for Safari polyfill so background images work as expected. */\n",
       "                background-size: auto;\n",
       "            }\n",
       "            .progress-bar-interrupted, .progress-bar-interrupted::-webkit-progress-bar {\n",
       "                background: #F44336;\n",
       "            }\n",
       "        </style>\n",
       "      <progress value='4000' class='' max='4000' style='width:300px; height:20px; vertical-align: middle;'></progress>\n",
       "      100.00% [4000/4000 00:00<00:00]\n",
       "    </div>\n",
       "    "
      ],
      "text/plain": [
       "<IPython.core.display.HTML object>"
      ]
     },
     "metadata": {},
     "output_type": "display_data"
    },
    {
     "name": "stdout",
     "output_type": "stream",
     "text": [
      "Finished 9 / 38\n"
     ]
    },
    {
     "name": "stderr",
     "output_type": "stream",
     "text": [
      "C:\\Users\\benja\\AppData\\Local\\Temp\\ipykernel_16744\\3405997231.py:40: SettingWithCopyWarning: \n",
      "A value is trying to be set on a copy of a slice from a DataFrame.\n",
      "Try using .loc[row_indexer,col_indexer] = value instead\n",
      "\n",
      "See the caveats in the documentation: https://pandas.pydata.org/pandas-docs/stable/user_guide/indexing.html#returning-a-view-versus-a-copy\n",
      "  df_player_moving_teams_priors.sigma = (\n",
      "Auto-assigning NUTS sampler...\n",
      "Initializing NUTS using jitter+adapt_diag...\n",
      "Multiprocess sampling (4 chains in 4 jobs)\n",
      "NUTS: [γ, Δ, β_, P]\n"
     ]
    },
    {
     "data": {
      "text/html": [
       "\n",
       "    <div>\n",
       "        <style>\n",
       "            /* Turns off some styling */\n",
       "            progress {\n",
       "                /* gets rid of default border in Firefox and Opera. */\n",
       "                border: none;\n",
       "                /* Needs to be in here for Safari polyfill so background images work as expected. */\n",
       "                background-size: auto;\n",
       "            }\n",
       "            .progress-bar-interrupted, .progress-bar-interrupted::-webkit-progress-bar {\n",
       "                background: #F44336;\n",
       "            }\n",
       "        </style>\n",
       "      <progress value='8000' class='' max='8000' style='width:300px; height:20px; vertical-align: middle;'></progress>\n",
       "      100.00% [8000/8000 03:51<00:00 Sampling 4 chains, 3,750 divergences]\n",
       "    </div>\n",
       "    "
      ],
      "text/plain": [
       "<IPython.core.display.HTML object>"
      ]
     },
     "metadata": {},
     "output_type": "display_data"
    },
    {
     "name": "stderr",
     "output_type": "stream",
     "text": [
      "Sampling 4 chains for 1_000 tune and 1_000 draw iterations (4_000 + 4_000 draws total) took 249 seconds.\n",
      "The rhat statistic is larger than 1.01 for some parameters. This indicates problems during sampling. See https://arxiv.org/abs/1903.08008 for details\n",
      "The effective sample size per chain is smaller than 100 for some parameters.  A higher number is needed for reliable rhat and ess computation. See https://arxiv.org/abs/1903.08008 for details\n",
      "There were 3750 divergences after tuning. Increase `target_accept` or reparameterize.\n",
      "Sampling: [x]\n"
     ]
    },
    {
     "data": {
      "text/html": [
       "\n",
       "    <div>\n",
       "        <style>\n",
       "            /* Turns off some styling */\n",
       "            progress {\n",
       "                /* gets rid of default border in Firefox and Opera. */\n",
       "                border: none;\n",
       "                /* Needs to be in here for Safari polyfill so background images work as expected. */\n",
       "                background-size: auto;\n",
       "            }\n",
       "            .progress-bar-interrupted, .progress-bar-interrupted::-webkit-progress-bar {\n",
       "                background: #F44336;\n",
       "            }\n",
       "        </style>\n",
       "      <progress value='4000' class='' max='4000' style='width:300px; height:20px; vertical-align: middle;'></progress>\n",
       "      100.00% [4000/4000 00:00<00:00]\n",
       "    </div>\n",
       "    "
      ],
      "text/plain": [
       "<IPython.core.display.HTML object>"
      ]
     },
     "metadata": {},
     "output_type": "display_data"
    },
    {
     "name": "stdout",
     "output_type": "stream",
     "text": [
      "Finished 10 / 38\n"
     ]
    },
    {
     "name": "stderr",
     "output_type": "stream",
     "text": [
      "C:\\Users\\benja\\AppData\\Local\\Temp\\ipykernel_16744\\3405997231.py:40: SettingWithCopyWarning: \n",
      "A value is trying to be set on a copy of a slice from a DataFrame.\n",
      "Try using .loc[row_indexer,col_indexer] = value instead\n",
      "\n",
      "See the caveats in the documentation: https://pandas.pydata.org/pandas-docs/stable/user_guide/indexing.html#returning-a-view-versus-a-copy\n",
      "  df_player_moving_teams_priors.sigma = (\n",
      "Auto-assigning NUTS sampler...\n",
      "Initializing NUTS using jitter+adapt_diag...\n",
      "Multiprocess sampling (4 chains in 4 jobs)\n",
      "NUTS: [γ, Δ, β_, P]\n"
     ]
    },
    {
     "data": {
      "text/html": [
       "\n",
       "    <div>\n",
       "        <style>\n",
       "            /* Turns off some styling */\n",
       "            progress {\n",
       "                /* gets rid of default border in Firefox and Opera. */\n",
       "                border: none;\n",
       "                /* Needs to be in here for Safari polyfill so background images work as expected. */\n",
       "                background-size: auto;\n",
       "            }\n",
       "            .progress-bar-interrupted, .progress-bar-interrupted::-webkit-progress-bar {\n",
       "                background: #F44336;\n",
       "            }\n",
       "        </style>\n",
       "      <progress value='8000' class='' max='8000' style='width:300px; height:20px; vertical-align: middle;'></progress>\n",
       "      100.00% [8000/8000 04:07<00:00 Sampling 4 chains, 3,591 divergences]\n",
       "    </div>\n",
       "    "
      ],
      "text/plain": [
       "<IPython.core.display.HTML object>"
      ]
     },
     "metadata": {},
     "output_type": "display_data"
    },
    {
     "name": "stderr",
     "output_type": "stream",
     "text": [
      "Sampling 4 chains for 1_000 tune and 1_000 draw iterations (4_000 + 4_000 draws total) took 264 seconds.\n",
      "The rhat statistic is larger than 1.01 for some parameters. This indicates problems during sampling. See https://arxiv.org/abs/1903.08008 for details\n",
      "The effective sample size per chain is smaller than 100 for some parameters.  A higher number is needed for reliable rhat and ess computation. See https://arxiv.org/abs/1903.08008 for details\n",
      "There were 3591 divergences after tuning. Increase `target_accept` or reparameterize.\n",
      "Sampling: [x]\n"
     ]
    },
    {
     "data": {
      "text/html": [
       "\n",
       "    <div>\n",
       "        <style>\n",
       "            /* Turns off some styling */\n",
       "            progress {\n",
       "                /* gets rid of default border in Firefox and Opera. */\n",
       "                border: none;\n",
       "                /* Needs to be in here for Safari polyfill so background images work as expected. */\n",
       "                background-size: auto;\n",
       "            }\n",
       "            .progress-bar-interrupted, .progress-bar-interrupted::-webkit-progress-bar {\n",
       "                background: #F44336;\n",
       "            }\n",
       "        </style>\n",
       "      <progress value='4000' class='' max='4000' style='width:300px; height:20px; vertical-align: middle;'></progress>\n",
       "      100.00% [4000/4000 00:00<00:00]\n",
       "    </div>\n",
       "    "
      ],
      "text/plain": [
       "<IPython.core.display.HTML object>"
      ]
     },
     "metadata": {},
     "output_type": "display_data"
    },
    {
     "name": "stdout",
     "output_type": "stream",
     "text": [
      "Finished 11 / 38\n"
     ]
    },
    {
     "name": "stderr",
     "output_type": "stream",
     "text": [
      "C:\\Users\\benja\\AppData\\Local\\Temp\\ipykernel_16744\\3405997231.py:40: SettingWithCopyWarning: \n",
      "A value is trying to be set on a copy of a slice from a DataFrame.\n",
      "Try using .loc[row_indexer,col_indexer] = value instead\n",
      "\n",
      "See the caveats in the documentation: https://pandas.pydata.org/pandas-docs/stable/user_guide/indexing.html#returning-a-view-versus-a-copy\n",
      "  df_player_moving_teams_priors.sigma = (\n",
      "Auto-assigning NUTS sampler...\n",
      "Initializing NUTS using jitter+adapt_diag...\n",
      "Multiprocess sampling (4 chains in 4 jobs)\n",
      "NUTS: [γ, Δ, β_, P]\n"
     ]
    },
    {
     "data": {
      "text/html": [
       "\n",
       "    <div>\n",
       "        <style>\n",
       "            /* Turns off some styling */\n",
       "            progress {\n",
       "                /* gets rid of default border in Firefox and Opera. */\n",
       "                border: none;\n",
       "                /* Needs to be in here for Safari polyfill so background images work as expected. */\n",
       "                background-size: auto;\n",
       "            }\n",
       "            .progress-bar-interrupted, .progress-bar-interrupted::-webkit-progress-bar {\n",
       "                background: #F44336;\n",
       "            }\n",
       "        </style>\n",
       "      <progress value='8000' class='' max='8000' style='width:300px; height:20px; vertical-align: middle;'></progress>\n",
       "      100.00% [8000/8000 04:13<00:00 Sampling 4 chains, 3,647 divergences]\n",
       "    </div>\n",
       "    "
      ],
      "text/plain": [
       "<IPython.core.display.HTML object>"
      ]
     },
     "metadata": {},
     "output_type": "display_data"
    },
    {
     "name": "stderr",
     "output_type": "stream",
     "text": [
      "Sampling 4 chains for 1_000 tune and 1_000 draw iterations (4_000 + 4_000 draws total) took 271 seconds.\n",
      "The rhat statistic is larger than 1.01 for some parameters. This indicates problems during sampling. See https://arxiv.org/abs/1903.08008 for details\n",
      "The effective sample size per chain is smaller than 100 for some parameters.  A higher number is needed for reliable rhat and ess computation. See https://arxiv.org/abs/1903.08008 for details\n",
      "There were 3647 divergences after tuning. Increase `target_accept` or reparameterize.\n",
      "Sampling: [x]\n"
     ]
    },
    {
     "data": {
      "text/html": [
       "\n",
       "    <div>\n",
       "        <style>\n",
       "            /* Turns off some styling */\n",
       "            progress {\n",
       "                /* gets rid of default border in Firefox and Opera. */\n",
       "                border: none;\n",
       "                /* Needs to be in here for Safari polyfill so background images work as expected. */\n",
       "                background-size: auto;\n",
       "            }\n",
       "            .progress-bar-interrupted, .progress-bar-interrupted::-webkit-progress-bar {\n",
       "                background: #F44336;\n",
       "            }\n",
       "        </style>\n",
       "      <progress value='4000' class='' max='4000' style='width:300px; height:20px; vertical-align: middle;'></progress>\n",
       "      100.00% [4000/4000 00:00<00:00]\n",
       "    </div>\n",
       "    "
      ],
      "text/plain": [
       "<IPython.core.display.HTML object>"
      ]
     },
     "metadata": {},
     "output_type": "display_data"
    },
    {
     "name": "stdout",
     "output_type": "stream",
     "text": [
      "Finished 12 / 38\n"
     ]
    },
    {
     "name": "stderr",
     "output_type": "stream",
     "text": [
      "C:\\Users\\benja\\AppData\\Local\\Temp\\ipykernel_16744\\3405997231.py:40: SettingWithCopyWarning: \n",
      "A value is trying to be set on a copy of a slice from a DataFrame.\n",
      "Try using .loc[row_indexer,col_indexer] = value instead\n",
      "\n",
      "See the caveats in the documentation: https://pandas.pydata.org/pandas-docs/stable/user_guide/indexing.html#returning-a-view-versus-a-copy\n",
      "  df_player_moving_teams_priors.sigma = (\n",
      "Auto-assigning NUTS sampler...\n",
      "Initializing NUTS using jitter+adapt_diag...\n",
      "Multiprocess sampling (4 chains in 4 jobs)\n",
      "NUTS: [γ, Δ, β_, P]\n"
     ]
    },
    {
     "data": {
      "text/html": [
       "\n",
       "    <div>\n",
       "        <style>\n",
       "            /* Turns off some styling */\n",
       "            progress {\n",
       "                /* gets rid of default border in Firefox and Opera. */\n",
       "                border: none;\n",
       "                /* Needs to be in here for Safari polyfill so background images work as expected. */\n",
       "                background-size: auto;\n",
       "            }\n",
       "            .progress-bar-interrupted, .progress-bar-interrupted::-webkit-progress-bar {\n",
       "                background: #F44336;\n",
       "            }\n",
       "        </style>\n",
       "      <progress value='8000' class='' max='8000' style='width:300px; height:20px; vertical-align: middle;'></progress>\n",
       "      100.00% [8000/8000 04:20<00:00 Sampling 4 chains, 3,821 divergences]\n",
       "    </div>\n",
       "    "
      ],
      "text/plain": [
       "<IPython.core.display.HTML object>"
      ]
     },
     "metadata": {},
     "output_type": "display_data"
    },
    {
     "name": "stderr",
     "output_type": "stream",
     "text": [
      "Sampling 4 chains for 1_000 tune and 1_000 draw iterations (4_000 + 4_000 draws total) took 277 seconds.\n",
      "The rhat statistic is larger than 1.01 for some parameters. This indicates problems during sampling. See https://arxiv.org/abs/1903.08008 for details\n",
      "The effective sample size per chain is smaller than 100 for some parameters.  A higher number is needed for reliable rhat and ess computation. See https://arxiv.org/abs/1903.08008 for details\n",
      "There were 3821 divergences after tuning. Increase `target_accept` or reparameterize.\n",
      "Sampling: [x]\n"
     ]
    },
    {
     "data": {
      "text/html": [
       "\n",
       "    <div>\n",
       "        <style>\n",
       "            /* Turns off some styling */\n",
       "            progress {\n",
       "                /* gets rid of default border in Firefox and Opera. */\n",
       "                border: none;\n",
       "                /* Needs to be in here for Safari polyfill so background images work as expected. */\n",
       "                background-size: auto;\n",
       "            }\n",
       "            .progress-bar-interrupted, .progress-bar-interrupted::-webkit-progress-bar {\n",
       "                background: #F44336;\n",
       "            }\n",
       "        </style>\n",
       "      <progress value='4000' class='' max='4000' style='width:300px; height:20px; vertical-align: middle;'></progress>\n",
       "      100.00% [4000/4000 00:00<00:00]\n",
       "    </div>\n",
       "    "
      ],
      "text/plain": [
       "<IPython.core.display.HTML object>"
      ]
     },
     "metadata": {},
     "output_type": "display_data"
    },
    {
     "name": "stdout",
     "output_type": "stream",
     "text": [
      "Finished 13 / 38\n"
     ]
    },
    {
     "name": "stderr",
     "output_type": "stream",
     "text": [
      "C:\\Users\\benja\\AppData\\Local\\Temp\\ipykernel_16744\\3405997231.py:40: SettingWithCopyWarning: \n",
      "A value is trying to be set on a copy of a slice from a DataFrame.\n",
      "Try using .loc[row_indexer,col_indexer] = value instead\n",
      "\n",
      "See the caveats in the documentation: https://pandas.pydata.org/pandas-docs/stable/user_guide/indexing.html#returning-a-view-versus-a-copy\n",
      "  df_player_moving_teams_priors.sigma = (\n",
      "Auto-assigning NUTS sampler...\n",
      "Initializing NUTS using jitter+adapt_diag...\n",
      "Multiprocess sampling (4 chains in 4 jobs)\n",
      "NUTS: [γ, Δ, β_, P]\n"
     ]
    },
    {
     "data": {
      "text/html": [
       "\n",
       "    <div>\n",
       "        <style>\n",
       "            /* Turns off some styling */\n",
       "            progress {\n",
       "                /* gets rid of default border in Firefox and Opera. */\n",
       "                border: none;\n",
       "                /* Needs to be in here for Safari polyfill so background images work as expected. */\n",
       "                background-size: auto;\n",
       "            }\n",
       "            .progress-bar-interrupted, .progress-bar-interrupted::-webkit-progress-bar {\n",
       "                background: #F44336;\n",
       "            }\n",
       "        </style>\n",
       "      <progress value='8000' class='' max='8000' style='width:300px; height:20px; vertical-align: middle;'></progress>\n",
       "      100.00% [8000/8000 04:28<00:00 Sampling 4 chains, 3,962 divergences]\n",
       "    </div>\n",
       "    "
      ],
      "text/plain": [
       "<IPython.core.display.HTML object>"
      ]
     },
     "metadata": {},
     "output_type": "display_data"
    },
    {
     "name": "stderr",
     "output_type": "stream",
     "text": [
      "Sampling 4 chains for 1_000 tune and 1_000 draw iterations (4_000 + 4_000 draws total) took 285 seconds.\n",
      "The rhat statistic is larger than 1.01 for some parameters. This indicates problems during sampling. See https://arxiv.org/abs/1903.08008 for details\n",
      "The effective sample size per chain is smaller than 100 for some parameters.  A higher number is needed for reliable rhat and ess computation. See https://arxiv.org/abs/1903.08008 for details\n",
      "There were 3962 divergences after tuning. Increase `target_accept` or reparameterize.\n",
      "Sampling: [x]\n"
     ]
    },
    {
     "data": {
      "text/html": [
       "\n",
       "    <div>\n",
       "        <style>\n",
       "            /* Turns off some styling */\n",
       "            progress {\n",
       "                /* gets rid of default border in Firefox and Opera. */\n",
       "                border: none;\n",
       "                /* Needs to be in here for Safari polyfill so background images work as expected. */\n",
       "                background-size: auto;\n",
       "            }\n",
       "            .progress-bar-interrupted, .progress-bar-interrupted::-webkit-progress-bar {\n",
       "                background: #F44336;\n",
       "            }\n",
       "        </style>\n",
       "      <progress value='4000' class='' max='4000' style='width:300px; height:20px; vertical-align: middle;'></progress>\n",
       "      100.00% [4000/4000 00:00<00:00]\n",
       "    </div>\n",
       "    "
      ],
      "text/plain": [
       "<IPython.core.display.HTML object>"
      ]
     },
     "metadata": {},
     "output_type": "display_data"
    },
    {
     "name": "stdout",
     "output_type": "stream",
     "text": [
      "Finished 14 / 38\n"
     ]
    },
    {
     "name": "stderr",
     "output_type": "stream",
     "text": [
      "C:\\Users\\benja\\AppData\\Local\\Temp\\ipykernel_16744\\3405997231.py:40: SettingWithCopyWarning: \n",
      "A value is trying to be set on a copy of a slice from a DataFrame.\n",
      "Try using .loc[row_indexer,col_indexer] = value instead\n",
      "\n",
      "See the caveats in the documentation: https://pandas.pydata.org/pandas-docs/stable/user_guide/indexing.html#returning-a-view-versus-a-copy\n",
      "  df_player_moving_teams_priors.sigma = (\n",
      "Auto-assigning NUTS sampler...\n",
      "Initializing NUTS using jitter+adapt_diag...\n",
      "Multiprocess sampling (4 chains in 4 jobs)\n",
      "NUTS: [γ, Δ, β_, P]\n"
     ]
    },
    {
     "data": {
      "text/html": [
       "\n",
       "    <div>\n",
       "        <style>\n",
       "            /* Turns off some styling */\n",
       "            progress {\n",
       "                /* gets rid of default border in Firefox and Opera. */\n",
       "                border: none;\n",
       "                /* Needs to be in here for Safari polyfill so background images work as expected. */\n",
       "                background-size: auto;\n",
       "            }\n",
       "            .progress-bar-interrupted, .progress-bar-interrupted::-webkit-progress-bar {\n",
       "                background: #F44336;\n",
       "            }\n",
       "        </style>\n",
       "      <progress value='8000' class='' max='8000' style='width:300px; height:20px; vertical-align: middle;'></progress>\n",
       "      100.00% [8000/8000 04:52<00:00 Sampling 4 chains, 3,981 divergences]\n",
       "    </div>\n",
       "    "
      ],
      "text/plain": [
       "<IPython.core.display.HTML object>"
      ]
     },
     "metadata": {},
     "output_type": "display_data"
    },
    {
     "name": "stderr",
     "output_type": "stream",
     "text": [
      "Sampling 4 chains for 1_000 tune and 1_000 draw iterations (4_000 + 4_000 draws total) took 308 seconds.\n",
      "The rhat statistic is larger than 1.01 for some parameters. This indicates problems during sampling. See https://arxiv.org/abs/1903.08008 for details\n",
      "The effective sample size per chain is smaller than 100 for some parameters.  A higher number is needed for reliable rhat and ess computation. See https://arxiv.org/abs/1903.08008 for details\n",
      "There were 3981 divergences after tuning. Increase `target_accept` or reparameterize.\n",
      "Sampling: [x]\n"
     ]
    },
    {
     "data": {
      "text/html": [
       "\n",
       "    <div>\n",
       "        <style>\n",
       "            /* Turns off some styling */\n",
       "            progress {\n",
       "                /* gets rid of default border in Firefox and Opera. */\n",
       "                border: none;\n",
       "                /* Needs to be in here for Safari polyfill so background images work as expected. */\n",
       "                background-size: auto;\n",
       "            }\n",
       "            .progress-bar-interrupted, .progress-bar-interrupted::-webkit-progress-bar {\n",
       "                background: #F44336;\n",
       "            }\n",
       "        </style>\n",
       "      <progress value='4000' class='' max='4000' style='width:300px; height:20px; vertical-align: middle;'></progress>\n",
       "      100.00% [4000/4000 00:00<00:00]\n",
       "    </div>\n",
       "    "
      ],
      "text/plain": [
       "<IPython.core.display.HTML object>"
      ]
     },
     "metadata": {},
     "output_type": "display_data"
    },
    {
     "name": "stdout",
     "output_type": "stream",
     "text": [
      "Finished 15 / 38\n"
     ]
    },
    {
     "name": "stderr",
     "output_type": "stream",
     "text": [
      "C:\\Users\\benja\\AppData\\Local\\Temp\\ipykernel_16744\\3405997231.py:40: SettingWithCopyWarning: \n",
      "A value is trying to be set on a copy of a slice from a DataFrame.\n",
      "Try using .loc[row_indexer,col_indexer] = value instead\n",
      "\n",
      "See the caveats in the documentation: https://pandas.pydata.org/pandas-docs/stable/user_guide/indexing.html#returning-a-view-versus-a-copy\n",
      "  df_player_moving_teams_priors.sigma = (\n",
      "Auto-assigning NUTS sampler...\n",
      "Initializing NUTS using jitter+adapt_diag...\n",
      "Multiprocess sampling (4 chains in 4 jobs)\n",
      "NUTS: [γ, Δ, β_, P]\n"
     ]
    },
    {
     "data": {
      "text/html": [
       "\n",
       "    <div>\n",
       "        <style>\n",
       "            /* Turns off some styling */\n",
       "            progress {\n",
       "                /* gets rid of default border in Firefox and Opera. */\n",
       "                border: none;\n",
       "                /* Needs to be in here for Safari polyfill so background images work as expected. */\n",
       "                background-size: auto;\n",
       "            }\n",
       "            .progress-bar-interrupted, .progress-bar-interrupted::-webkit-progress-bar {\n",
       "                background: #F44336;\n",
       "            }\n",
       "        </style>\n",
       "      <progress value='8000' class='' max='8000' style='width:300px; height:20px; vertical-align: middle;'></progress>\n",
       "      100.00% [8000/8000 05:16<00:00 Sampling 4 chains, 3,895 divergences]\n",
       "    </div>\n",
       "    "
      ],
      "text/plain": [
       "<IPython.core.display.HTML object>"
      ]
     },
     "metadata": {},
     "output_type": "display_data"
    },
    {
     "name": "stderr",
     "output_type": "stream",
     "text": [
      "Sampling 4 chains for 1_000 tune and 1_000 draw iterations (4_000 + 4_000 draws total) took 334 seconds.\n",
      "The rhat statistic is larger than 1.01 for some parameters. This indicates problems during sampling. See https://arxiv.org/abs/1903.08008 for details\n",
      "The effective sample size per chain is smaller than 100 for some parameters.  A higher number is needed for reliable rhat and ess computation. See https://arxiv.org/abs/1903.08008 for details\n",
      "There were 3895 divergences after tuning. Increase `target_accept` or reparameterize.\n",
      "Sampling: [x]\n"
     ]
    },
    {
     "data": {
      "text/html": [
       "\n",
       "    <div>\n",
       "        <style>\n",
       "            /* Turns off some styling */\n",
       "            progress {\n",
       "                /* gets rid of default border in Firefox and Opera. */\n",
       "                border: none;\n",
       "                /* Needs to be in here for Safari polyfill so background images work as expected. */\n",
       "                background-size: auto;\n",
       "            }\n",
       "            .progress-bar-interrupted, .progress-bar-interrupted::-webkit-progress-bar {\n",
       "                background: #F44336;\n",
       "            }\n",
       "        </style>\n",
       "      <progress value='4000' class='' max='4000' style='width:300px; height:20px; vertical-align: middle;'></progress>\n",
       "      100.00% [4000/4000 00:00<00:00]\n",
       "    </div>\n",
       "    "
      ],
      "text/plain": [
       "<IPython.core.display.HTML object>"
      ]
     },
     "metadata": {},
     "output_type": "display_data"
    },
    {
     "name": "stdout",
     "output_type": "stream",
     "text": [
      "Finished 16 / 38\n"
     ]
    },
    {
     "name": "stderr",
     "output_type": "stream",
     "text": [
      "C:\\Users\\benja\\AppData\\Local\\Temp\\ipykernel_16744\\3405997231.py:40: SettingWithCopyWarning: \n",
      "A value is trying to be set on a copy of a slice from a DataFrame.\n",
      "Try using .loc[row_indexer,col_indexer] = value instead\n",
      "\n",
      "See the caveats in the documentation: https://pandas.pydata.org/pandas-docs/stable/user_guide/indexing.html#returning-a-view-versus-a-copy\n",
      "  df_player_moving_teams_priors.sigma = (\n",
      "Auto-assigning NUTS sampler...\n",
      "Initializing NUTS using jitter+adapt_diag...\n",
      "Multiprocess sampling (4 chains in 4 jobs)\n",
      "NUTS: [γ, Δ, β_, P]\n"
     ]
    },
    {
     "data": {
      "text/html": [
       "\n",
       "    <div>\n",
       "        <style>\n",
       "            /* Turns off some styling */\n",
       "            progress {\n",
       "                /* gets rid of default border in Firefox and Opera. */\n",
       "                border: none;\n",
       "                /* Needs to be in here for Safari polyfill so background images work as expected. */\n",
       "                background-size: auto;\n",
       "            }\n",
       "            .progress-bar-interrupted, .progress-bar-interrupted::-webkit-progress-bar {\n",
       "                background: #F44336;\n",
       "            }\n",
       "        </style>\n",
       "      <progress value='8000' class='' max='8000' style='width:300px; height:20px; vertical-align: middle;'></progress>\n",
       "      100.00% [8000/8000 05:48<00:00 Sampling 4 chains, 3,717 divergences]\n",
       "    </div>\n",
       "    "
      ],
      "text/plain": [
       "<IPython.core.display.HTML object>"
      ]
     },
     "metadata": {},
     "output_type": "display_data"
    },
    {
     "name": "stderr",
     "output_type": "stream",
     "text": [
      "Sampling 4 chains for 1_000 tune and 1_000 draw iterations (4_000 + 4_000 draws total) took 364 seconds.\n",
      "The rhat statistic is larger than 1.01 for some parameters. This indicates problems during sampling. See https://arxiv.org/abs/1903.08008 for details\n",
      "The effective sample size per chain is smaller than 100 for some parameters.  A higher number is needed for reliable rhat and ess computation. See https://arxiv.org/abs/1903.08008 for details\n",
      "There were 3717 divergences after tuning. Increase `target_accept` or reparameterize.\n",
      "Sampling: [x]\n"
     ]
    },
    {
     "data": {
      "text/html": [
       "\n",
       "    <div>\n",
       "        <style>\n",
       "            /* Turns off some styling */\n",
       "            progress {\n",
       "                /* gets rid of default border in Firefox and Opera. */\n",
       "                border: none;\n",
       "                /* Needs to be in here for Safari polyfill so background images work as expected. */\n",
       "                background-size: auto;\n",
       "            }\n",
       "            .progress-bar-interrupted, .progress-bar-interrupted::-webkit-progress-bar {\n",
       "                background: #F44336;\n",
       "            }\n",
       "        </style>\n",
       "      <progress value='4000' class='' max='4000' style='width:300px; height:20px; vertical-align: middle;'></progress>\n",
       "      100.00% [4000/4000 00:00<00:00]\n",
       "    </div>\n",
       "    "
      ],
      "text/plain": [
       "<IPython.core.display.HTML object>"
      ]
     },
     "metadata": {},
     "output_type": "display_data"
    },
    {
     "name": "stdout",
     "output_type": "stream",
     "text": [
      "Finished 17 / 38\n"
     ]
    },
    {
     "name": "stderr",
     "output_type": "stream",
     "text": [
      "C:\\Users\\benja\\AppData\\Local\\Temp\\ipykernel_16744\\3405997231.py:40: SettingWithCopyWarning: \n",
      "A value is trying to be set on a copy of a slice from a DataFrame.\n",
      "Try using .loc[row_indexer,col_indexer] = value instead\n",
      "\n",
      "See the caveats in the documentation: https://pandas.pydata.org/pandas-docs/stable/user_guide/indexing.html#returning-a-view-versus-a-copy\n",
      "  df_player_moving_teams_priors.sigma = (\n",
      "Auto-assigning NUTS sampler...\n",
      "Initializing NUTS using jitter+adapt_diag...\n",
      "Multiprocess sampling (4 chains in 4 jobs)\n",
      "NUTS: [γ, Δ, β_, P]\n"
     ]
    },
    {
     "data": {
      "text/html": [
       "\n",
       "    <div>\n",
       "        <style>\n",
       "            /* Turns off some styling */\n",
       "            progress {\n",
       "                /* gets rid of default border in Firefox and Opera. */\n",
       "                border: none;\n",
       "                /* Needs to be in here for Safari polyfill so background images work as expected. */\n",
       "                background-size: auto;\n",
       "            }\n",
       "            .progress-bar-interrupted, .progress-bar-interrupted::-webkit-progress-bar {\n",
       "                background: #F44336;\n",
       "            }\n",
       "        </style>\n",
       "      <progress value='8000' class='' max='8000' style='width:300px; height:20px; vertical-align: middle;'></progress>\n",
       "      100.00% [8000/8000 05:49<00:00 Sampling 4 chains, 3,573 divergences]\n",
       "    </div>\n",
       "    "
      ],
      "text/plain": [
       "<IPython.core.display.HTML object>"
      ]
     },
     "metadata": {},
     "output_type": "display_data"
    },
    {
     "name": "stderr",
     "output_type": "stream",
     "text": [
      "Sampling 4 chains for 1_000 tune and 1_000 draw iterations (4_000 + 4_000 draws total) took 364 seconds.\n",
      "The rhat statistic is larger than 1.01 for some parameters. This indicates problems during sampling. See https://arxiv.org/abs/1903.08008 for details\n",
      "The effective sample size per chain is smaller than 100 for some parameters.  A higher number is needed for reliable rhat and ess computation. See https://arxiv.org/abs/1903.08008 for details\n",
      "There were 3573 divergences after tuning. Increase `target_accept` or reparameterize.\n",
      "Sampling: [x]\n"
     ]
    },
    {
     "data": {
      "text/html": [
       "\n",
       "    <div>\n",
       "        <style>\n",
       "            /* Turns off some styling */\n",
       "            progress {\n",
       "                /* gets rid of default border in Firefox and Opera. */\n",
       "                border: none;\n",
       "                /* Needs to be in here for Safari polyfill so background images work as expected. */\n",
       "                background-size: auto;\n",
       "            }\n",
       "            .progress-bar-interrupted, .progress-bar-interrupted::-webkit-progress-bar {\n",
       "                background: #F44336;\n",
       "            }\n",
       "        </style>\n",
       "      <progress value='4000' class='' max='4000' style='width:300px; height:20px; vertical-align: middle;'></progress>\n",
       "      100.00% [4000/4000 00:00<00:00]\n",
       "    </div>\n",
       "    "
      ],
      "text/plain": [
       "<IPython.core.display.HTML object>"
      ]
     },
     "metadata": {},
     "output_type": "display_data"
    },
    {
     "name": "stdout",
     "output_type": "stream",
     "text": [
      "Finished 18 / 38\n"
     ]
    },
    {
     "name": "stderr",
     "output_type": "stream",
     "text": [
      "C:\\Users\\benja\\AppData\\Local\\Temp\\ipykernel_16744\\3405997231.py:40: SettingWithCopyWarning: \n",
      "A value is trying to be set on a copy of a slice from a DataFrame.\n",
      "Try using .loc[row_indexer,col_indexer] = value instead\n",
      "\n",
      "See the caveats in the documentation: https://pandas.pydata.org/pandas-docs/stable/user_guide/indexing.html#returning-a-view-versus-a-copy\n",
      "  df_player_moving_teams_priors.sigma = (\n",
      "Auto-assigning NUTS sampler...\n",
      "Initializing NUTS using jitter+adapt_diag...\n",
      "Multiprocess sampling (4 chains in 4 jobs)\n",
      "NUTS: [γ, Δ, β_, P]\n"
     ]
    },
    {
     "data": {
      "text/html": [
       "\n",
       "    <div>\n",
       "        <style>\n",
       "            /* Turns off some styling */\n",
       "            progress {\n",
       "                /* gets rid of default border in Firefox and Opera. */\n",
       "                border: none;\n",
       "                /* Needs to be in here for Safari polyfill so background images work as expected. */\n",
       "                background-size: auto;\n",
       "            }\n",
       "            .progress-bar-interrupted, .progress-bar-interrupted::-webkit-progress-bar {\n",
       "                background: #F44336;\n",
       "            }\n",
       "        </style>\n",
       "      <progress value='8000' class='' max='8000' style='width:300px; height:20px; vertical-align: middle;'></progress>\n",
       "      100.00% [8000/8000 06:17<00:00 Sampling 4 chains, 3,860 divergences]\n",
       "    </div>\n",
       "    "
      ],
      "text/plain": [
       "<IPython.core.display.HTML object>"
      ]
     },
     "metadata": {},
     "output_type": "display_data"
    },
    {
     "name": "stderr",
     "output_type": "stream",
     "text": [
      "Sampling 4 chains for 1_000 tune and 1_000 draw iterations (4_000 + 4_000 draws total) took 394 seconds.\n",
      "The rhat statistic is larger than 1.01 for some parameters. This indicates problems during sampling. See https://arxiv.org/abs/1903.08008 for details\n",
      "The effective sample size per chain is smaller than 100 for some parameters.  A higher number is needed for reliable rhat and ess computation. See https://arxiv.org/abs/1903.08008 for details\n",
      "There were 3860 divergences after tuning. Increase `target_accept` or reparameterize.\n",
      "Sampling: [x]\n"
     ]
    },
    {
     "data": {
      "text/html": [
       "\n",
       "    <div>\n",
       "        <style>\n",
       "            /* Turns off some styling */\n",
       "            progress {\n",
       "                /* gets rid of default border in Firefox and Opera. */\n",
       "                border: none;\n",
       "                /* Needs to be in here for Safari polyfill so background images work as expected. */\n",
       "                background-size: auto;\n",
       "            }\n",
       "            .progress-bar-interrupted, .progress-bar-interrupted::-webkit-progress-bar {\n",
       "                background: #F44336;\n",
       "            }\n",
       "        </style>\n",
       "      <progress value='4000' class='' max='4000' style='width:300px; height:20px; vertical-align: middle;'></progress>\n",
       "      100.00% [4000/4000 00:00<00:00]\n",
       "    </div>\n",
       "    "
      ],
      "text/plain": [
       "<IPython.core.display.HTML object>"
      ]
     },
     "metadata": {},
     "output_type": "display_data"
    },
    {
     "name": "stdout",
     "output_type": "stream",
     "text": [
      "Finished 19 / 38\n"
     ]
    },
    {
     "name": "stderr",
     "output_type": "stream",
     "text": [
      "C:\\Users\\benja\\AppData\\Local\\Temp\\ipykernel_16744\\3405997231.py:40: SettingWithCopyWarning: \n",
      "A value is trying to be set on a copy of a slice from a DataFrame.\n",
      "Try using .loc[row_indexer,col_indexer] = value instead\n",
      "\n",
      "See the caveats in the documentation: https://pandas.pydata.org/pandas-docs/stable/user_guide/indexing.html#returning-a-view-versus-a-copy\n",
      "  df_player_moving_teams_priors.sigma = (\n",
      "Auto-assigning NUTS sampler...\n",
      "Initializing NUTS using jitter+adapt_diag...\n",
      "Multiprocess sampling (4 chains in 4 jobs)\n",
      "NUTS: [γ, Δ, β_, P]\n"
     ]
    },
    {
     "data": {
      "text/html": [
       "\n",
       "    <div>\n",
       "        <style>\n",
       "            /* Turns off some styling */\n",
       "            progress {\n",
       "                /* gets rid of default border in Firefox and Opera. */\n",
       "                border: none;\n",
       "                /* Needs to be in here for Safari polyfill so background images work as expected. */\n",
       "                background-size: auto;\n",
       "            }\n",
       "            .progress-bar-interrupted, .progress-bar-interrupted::-webkit-progress-bar {\n",
       "                background: #F44336;\n",
       "            }\n",
       "        </style>\n",
       "      <progress value='8000' class='' max='8000' style='width:300px; height:20px; vertical-align: middle;'></progress>\n",
       "      100.00% [8000/8000 07:03<00:00 Sampling 4 chains, 3,944 divergences]\n",
       "    </div>\n",
       "    "
      ],
      "text/plain": [
       "<IPython.core.display.HTML object>"
      ]
     },
     "metadata": {},
     "output_type": "display_data"
    },
    {
     "name": "stderr",
     "output_type": "stream",
     "text": [
      "Sampling 4 chains for 1_000 tune and 1_000 draw iterations (4_000 + 4_000 draws total) took 441 seconds.\n",
      "The rhat statistic is larger than 1.01 for some parameters. This indicates problems during sampling. See https://arxiv.org/abs/1903.08008 for details\n",
      "The effective sample size per chain is smaller than 100 for some parameters.  A higher number is needed for reliable rhat and ess computation. See https://arxiv.org/abs/1903.08008 for details\n",
      "There were 3944 divergences after tuning. Increase `target_accept` or reparameterize.\n",
      "Sampling: [x]\n"
     ]
    },
    {
     "data": {
      "text/html": [
       "\n",
       "    <div>\n",
       "        <style>\n",
       "            /* Turns off some styling */\n",
       "            progress {\n",
       "                /* gets rid of default border in Firefox and Opera. */\n",
       "                border: none;\n",
       "                /* Needs to be in here for Safari polyfill so background images work as expected. */\n",
       "                background-size: auto;\n",
       "            }\n",
       "            .progress-bar-interrupted, .progress-bar-interrupted::-webkit-progress-bar {\n",
       "                background: #F44336;\n",
       "            }\n",
       "        </style>\n",
       "      <progress value='4000' class='' max='4000' style='width:300px; height:20px; vertical-align: middle;'></progress>\n",
       "      100.00% [4000/4000 00:00<00:00]\n",
       "    </div>\n",
       "    "
      ],
      "text/plain": [
       "<IPython.core.display.HTML object>"
      ]
     },
     "metadata": {},
     "output_type": "display_data"
    },
    {
     "name": "stdout",
     "output_type": "stream",
     "text": [
      "Finished 20 / 38\n"
     ]
    },
    {
     "name": "stderr",
     "output_type": "stream",
     "text": [
      "C:\\Users\\benja\\AppData\\Local\\Temp\\ipykernel_16744\\3405997231.py:40: SettingWithCopyWarning: \n",
      "A value is trying to be set on a copy of a slice from a DataFrame.\n",
      "Try using .loc[row_indexer,col_indexer] = value instead\n",
      "\n",
      "See the caveats in the documentation: https://pandas.pydata.org/pandas-docs/stable/user_guide/indexing.html#returning-a-view-versus-a-copy\n",
      "  df_player_moving_teams_priors.sigma = (\n",
      "Auto-assigning NUTS sampler...\n",
      "Initializing NUTS using jitter+adapt_diag...\n",
      "Multiprocess sampling (4 chains in 4 jobs)\n",
      "NUTS: [γ, Δ, β_, P]\n"
     ]
    },
    {
     "data": {
      "text/html": [
       "\n",
       "    <div>\n",
       "        <style>\n",
       "            /* Turns off some styling */\n",
       "            progress {\n",
       "                /* gets rid of default border in Firefox and Opera. */\n",
       "                border: none;\n",
       "                /* Needs to be in here for Safari polyfill so background images work as expected. */\n",
       "                background-size: auto;\n",
       "            }\n",
       "            .progress-bar-interrupted, .progress-bar-interrupted::-webkit-progress-bar {\n",
       "                background: #F44336;\n",
       "            }\n",
       "        </style>\n",
       "      <progress value='8000' class='' max='8000' style='width:300px; height:20px; vertical-align: middle;'></progress>\n",
       "      100.00% [8000/8000 06:23<00:00 Sampling 4 chains, 3,937 divergences]\n",
       "    </div>\n",
       "    "
      ],
      "text/plain": [
       "<IPython.core.display.HTML object>"
      ]
     },
     "metadata": {},
     "output_type": "display_data"
    },
    {
     "name": "stderr",
     "output_type": "stream",
     "text": [
      "Sampling 4 chains for 1_000 tune and 1_000 draw iterations (4_000 + 4_000 draws total) took 401 seconds.\n",
      "The rhat statistic is larger than 1.01 for some parameters. This indicates problems during sampling. See https://arxiv.org/abs/1903.08008 for details\n",
      "The effective sample size per chain is smaller than 100 for some parameters.  A higher number is needed for reliable rhat and ess computation. See https://arxiv.org/abs/1903.08008 for details\n",
      "There were 3937 divergences after tuning. Increase `target_accept` or reparameterize.\n",
      "Sampling: [x]\n"
     ]
    },
    {
     "data": {
      "text/html": [
       "\n",
       "    <div>\n",
       "        <style>\n",
       "            /* Turns off some styling */\n",
       "            progress {\n",
       "                /* gets rid of default border in Firefox and Opera. */\n",
       "                border: none;\n",
       "                /* Needs to be in here for Safari polyfill so background images work as expected. */\n",
       "                background-size: auto;\n",
       "            }\n",
       "            .progress-bar-interrupted, .progress-bar-interrupted::-webkit-progress-bar {\n",
       "                background: #F44336;\n",
       "            }\n",
       "        </style>\n",
       "      <progress value='4000' class='' max='4000' style='width:300px; height:20px; vertical-align: middle;'></progress>\n",
       "      100.00% [4000/4000 00:00<00:00]\n",
       "    </div>\n",
       "    "
      ],
      "text/plain": [
       "<IPython.core.display.HTML object>"
      ]
     },
     "metadata": {},
     "output_type": "display_data"
    },
    {
     "name": "stdout",
     "output_type": "stream",
     "text": [
      "Finished 21 / 38\n"
     ]
    },
    {
     "name": "stderr",
     "output_type": "stream",
     "text": [
      "C:\\Users\\benja\\AppData\\Local\\Temp\\ipykernel_16744\\3405997231.py:40: SettingWithCopyWarning: \n",
      "A value is trying to be set on a copy of a slice from a DataFrame.\n",
      "Try using .loc[row_indexer,col_indexer] = value instead\n",
      "\n",
      "See the caveats in the documentation: https://pandas.pydata.org/pandas-docs/stable/user_guide/indexing.html#returning-a-view-versus-a-copy\n",
      "  df_player_moving_teams_priors.sigma = (\n",
      "Auto-assigning NUTS sampler...\n",
      "Initializing NUTS using jitter+adapt_diag...\n",
      "Multiprocess sampling (4 chains in 4 jobs)\n",
      "NUTS: [γ, Δ, β_, P]\n"
     ]
    },
    {
     "data": {
      "text/html": [
       "\n",
       "    <div>\n",
       "        <style>\n",
       "            /* Turns off some styling */\n",
       "            progress {\n",
       "                /* gets rid of default border in Firefox and Opera. */\n",
       "                border: none;\n",
       "                /* Needs to be in here for Safari polyfill so background images work as expected. */\n",
       "                background-size: auto;\n",
       "            }\n",
       "            .progress-bar-interrupted, .progress-bar-interrupted::-webkit-progress-bar {\n",
       "                background: #F44336;\n",
       "            }\n",
       "        </style>\n",
       "      <progress value='8000' class='' max='8000' style='width:300px; height:20px; vertical-align: middle;'></progress>\n",
       "      100.00% [8000/8000 07:42<00:00 Sampling 4 chains, 3,833 divergences]\n",
       "    </div>\n",
       "    "
      ],
      "text/plain": [
       "<IPython.core.display.HTML object>"
      ]
     },
     "metadata": {},
     "output_type": "display_data"
    },
    {
     "name": "stderr",
     "output_type": "stream",
     "text": [
      "Sampling 4 chains for 1_000 tune and 1_000 draw iterations (4_000 + 4_000 draws total) took 480 seconds.\n",
      "The rhat statistic is larger than 1.01 for some parameters. This indicates problems during sampling. See https://arxiv.org/abs/1903.08008 for details\n",
      "The effective sample size per chain is smaller than 100 for some parameters.  A higher number is needed for reliable rhat and ess computation. See https://arxiv.org/abs/1903.08008 for details\n",
      "There were 3833 divergences after tuning. Increase `target_accept` or reparameterize.\n",
      "Sampling: [x]\n"
     ]
    },
    {
     "data": {
      "text/html": [
       "\n",
       "    <div>\n",
       "        <style>\n",
       "            /* Turns off some styling */\n",
       "            progress {\n",
       "                /* gets rid of default border in Firefox and Opera. */\n",
       "                border: none;\n",
       "                /* Needs to be in here for Safari polyfill so background images work as expected. */\n",
       "                background-size: auto;\n",
       "            }\n",
       "            .progress-bar-interrupted, .progress-bar-interrupted::-webkit-progress-bar {\n",
       "                background: #F44336;\n",
       "            }\n",
       "        </style>\n",
       "      <progress value='4000' class='' max='4000' style='width:300px; height:20px; vertical-align: middle;'></progress>\n",
       "      100.00% [4000/4000 00:00<00:00]\n",
       "    </div>\n",
       "    "
      ],
      "text/plain": [
       "<IPython.core.display.HTML object>"
      ]
     },
     "metadata": {},
     "output_type": "display_data"
    },
    {
     "name": "stdout",
     "output_type": "stream",
     "text": [
      "Finished 22 / 38\n"
     ]
    },
    {
     "name": "stderr",
     "output_type": "stream",
     "text": [
      "C:\\Users\\benja\\AppData\\Local\\Temp\\ipykernel_16744\\3405997231.py:40: SettingWithCopyWarning: \n",
      "A value is trying to be set on a copy of a slice from a DataFrame.\n",
      "Try using .loc[row_indexer,col_indexer] = value instead\n",
      "\n",
      "See the caveats in the documentation: https://pandas.pydata.org/pandas-docs/stable/user_guide/indexing.html#returning-a-view-versus-a-copy\n",
      "  df_player_moving_teams_priors.sigma = (\n",
      "Auto-assigning NUTS sampler...\n",
      "Initializing NUTS using jitter+adapt_diag...\n",
      "Multiprocess sampling (4 chains in 4 jobs)\n",
      "NUTS: [γ, Δ, β_, P]\n"
     ]
    },
    {
     "data": {
      "text/html": [
       "\n",
       "    <div>\n",
       "        <style>\n",
       "            /* Turns off some styling */\n",
       "            progress {\n",
       "                /* gets rid of default border in Firefox and Opera. */\n",
       "                border: none;\n",
       "                /* Needs to be in here for Safari polyfill so background images work as expected. */\n",
       "                background-size: auto;\n",
       "            }\n",
       "            .progress-bar-interrupted, .progress-bar-interrupted::-webkit-progress-bar {\n",
       "                background: #F44336;\n",
       "            }\n",
       "        </style>\n",
       "      <progress value='8000' class='' max='8000' style='width:300px; height:20px; vertical-align: middle;'></progress>\n",
       "      100.00% [8000/8000 07:26<00:00 Sampling 4 chains, 4,000 divergences]\n",
       "    </div>\n",
       "    "
      ],
      "text/plain": [
       "<IPython.core.display.HTML object>"
      ]
     },
     "metadata": {},
     "output_type": "display_data"
    },
    {
     "name": "stderr",
     "output_type": "stream",
     "text": [
      "Sampling 4 chains for 1_000 tune and 1_000 draw iterations (4_000 + 4_000 draws total) took 462 seconds.\n",
      "The rhat statistic is larger than 1.01 for some parameters. This indicates problems during sampling. See https://arxiv.org/abs/1903.08008 for details\n",
      "The effective sample size per chain is smaller than 100 for some parameters.  A higher number is needed for reliable rhat and ess computation. See https://arxiv.org/abs/1903.08008 for details\n",
      "There were 4000 divergences after tuning. Increase `target_accept` or reparameterize.\n",
      "Sampling: [x]\n"
     ]
    },
    {
     "data": {
      "text/html": [
       "\n",
       "    <div>\n",
       "        <style>\n",
       "            /* Turns off some styling */\n",
       "            progress {\n",
       "                /* gets rid of default border in Firefox and Opera. */\n",
       "                border: none;\n",
       "                /* Needs to be in here for Safari polyfill so background images work as expected. */\n",
       "                background-size: auto;\n",
       "            }\n",
       "            .progress-bar-interrupted, .progress-bar-interrupted::-webkit-progress-bar {\n",
       "                background: #F44336;\n",
       "            }\n",
       "        </style>\n",
       "      <progress value='4000' class='' max='4000' style='width:300px; height:20px; vertical-align: middle;'></progress>\n",
       "      100.00% [4000/4000 00:00<00:00]\n",
       "    </div>\n",
       "    "
      ],
      "text/plain": [
       "<IPython.core.display.HTML object>"
      ]
     },
     "metadata": {},
     "output_type": "display_data"
    },
    {
     "name": "stdout",
     "output_type": "stream",
     "text": [
      "Finished 23 / 38\n"
     ]
    },
    {
     "name": "stderr",
     "output_type": "stream",
     "text": [
      "C:\\Users\\benja\\AppData\\Local\\Temp\\ipykernel_16744\\3405997231.py:40: SettingWithCopyWarning: \n",
      "A value is trying to be set on a copy of a slice from a DataFrame.\n",
      "Try using .loc[row_indexer,col_indexer] = value instead\n",
      "\n",
      "See the caveats in the documentation: https://pandas.pydata.org/pandas-docs/stable/user_guide/indexing.html#returning-a-view-versus-a-copy\n",
      "  df_player_moving_teams_priors.sigma = (\n",
      "Auto-assigning NUTS sampler...\n",
      "Initializing NUTS using jitter+adapt_diag...\n",
      "Multiprocess sampling (4 chains in 4 jobs)\n",
      "NUTS: [γ, Δ, β_, P]\n"
     ]
    },
    {
     "data": {
      "text/html": [
       "\n",
       "    <div>\n",
       "        <style>\n",
       "            /* Turns off some styling */\n",
       "            progress {\n",
       "                /* gets rid of default border in Firefox and Opera. */\n",
       "                border: none;\n",
       "                /* Needs to be in here for Safari polyfill so background images work as expected. */\n",
       "                background-size: auto;\n",
       "            }\n",
       "            .progress-bar-interrupted, .progress-bar-interrupted::-webkit-progress-bar {\n",
       "                background: #F44336;\n",
       "            }\n",
       "        </style>\n",
       "      <progress value='8000' class='' max='8000' style='width:300px; height:20px; vertical-align: middle;'></progress>\n",
       "      100.00% [8000/8000 07:35<00:00 Sampling 4 chains, 4,000 divergences]\n",
       "    </div>\n",
       "    "
      ],
      "text/plain": [
       "<IPython.core.display.HTML object>"
      ]
     },
     "metadata": {},
     "output_type": "display_data"
    },
    {
     "name": "stderr",
     "output_type": "stream",
     "text": [
      "Sampling 4 chains for 1_000 tune and 1_000 draw iterations (4_000 + 4_000 draws total) took 471 seconds.\n",
      "The rhat statistic is larger than 1.01 for some parameters. This indicates problems during sampling. See https://arxiv.org/abs/1903.08008 for details\n",
      "The effective sample size per chain is smaller than 100 for some parameters.  A higher number is needed for reliable rhat and ess computation. See https://arxiv.org/abs/1903.08008 for details\n",
      "There were 4000 divergences after tuning. Increase `target_accept` or reparameterize.\n",
      "Sampling: [x]\n"
     ]
    },
    {
     "data": {
      "text/html": [
       "\n",
       "    <div>\n",
       "        <style>\n",
       "            /* Turns off some styling */\n",
       "            progress {\n",
       "                /* gets rid of default border in Firefox and Opera. */\n",
       "                border: none;\n",
       "                /* Needs to be in here for Safari polyfill so background images work as expected. */\n",
       "                background-size: auto;\n",
       "            }\n",
       "            .progress-bar-interrupted, .progress-bar-interrupted::-webkit-progress-bar {\n",
       "                background: #F44336;\n",
       "            }\n",
       "        </style>\n",
       "      <progress value='4000' class='' max='4000' style='width:300px; height:20px; vertical-align: middle;'></progress>\n",
       "      100.00% [4000/4000 00:00<00:00]\n",
       "    </div>\n",
       "    "
      ],
      "text/plain": [
       "<IPython.core.display.HTML object>"
      ]
     },
     "metadata": {},
     "output_type": "display_data"
    },
    {
     "name": "stdout",
     "output_type": "stream",
     "text": [
      "Finished 24 / 38\n"
     ]
    },
    {
     "name": "stderr",
     "output_type": "stream",
     "text": [
      "C:\\Users\\benja\\AppData\\Local\\Temp\\ipykernel_16744\\3405997231.py:40: SettingWithCopyWarning: \n",
      "A value is trying to be set on a copy of a slice from a DataFrame.\n",
      "Try using .loc[row_indexer,col_indexer] = value instead\n",
      "\n",
      "See the caveats in the documentation: https://pandas.pydata.org/pandas-docs/stable/user_guide/indexing.html#returning-a-view-versus-a-copy\n",
      "  df_player_moving_teams_priors.sigma = (\n",
      "Auto-assigning NUTS sampler...\n",
      "Initializing NUTS using jitter+adapt_diag...\n",
      "Multiprocess sampling (4 chains in 4 jobs)\n",
      "NUTS: [γ, Δ, β_, P]\n"
     ]
    },
    {
     "data": {
      "text/html": [
       "\n",
       "    <div>\n",
       "        <style>\n",
       "            /* Turns off some styling */\n",
       "            progress {\n",
       "                /* gets rid of default border in Firefox and Opera. */\n",
       "                border: none;\n",
       "                /* Needs to be in here for Safari polyfill so background images work as expected. */\n",
       "                background-size: auto;\n",
       "            }\n",
       "            .progress-bar-interrupted, .progress-bar-interrupted::-webkit-progress-bar {\n",
       "                background: #F44336;\n",
       "            }\n",
       "        </style>\n",
       "      <progress value='8000' class='' max='8000' style='width:300px; height:20px; vertical-align: middle;'></progress>\n",
       "      100.00% [8000/8000 07:50<00:00 Sampling 4 chains, 4,000 divergences]\n",
       "    </div>\n",
       "    "
      ],
      "text/plain": [
       "<IPython.core.display.HTML object>"
      ]
     },
     "metadata": {},
     "output_type": "display_data"
    },
    {
     "name": "stderr",
     "output_type": "stream",
     "text": [
      "Sampling 4 chains for 1_000 tune and 1_000 draw iterations (4_000 + 4_000 draws total) took 488 seconds.\n",
      "The rhat statistic is larger than 1.01 for some parameters. This indicates problems during sampling. See https://arxiv.org/abs/1903.08008 for details\n",
      "The effective sample size per chain is smaller than 100 for some parameters.  A higher number is needed for reliable rhat and ess computation. See https://arxiv.org/abs/1903.08008 for details\n",
      "There were 4000 divergences after tuning. Increase `target_accept` or reparameterize.\n",
      "Sampling: [x]\n"
     ]
    },
    {
     "data": {
      "text/html": [
       "\n",
       "    <div>\n",
       "        <style>\n",
       "            /* Turns off some styling */\n",
       "            progress {\n",
       "                /* gets rid of default border in Firefox and Opera. */\n",
       "                border: none;\n",
       "                /* Needs to be in here for Safari polyfill so background images work as expected. */\n",
       "                background-size: auto;\n",
       "            }\n",
       "            .progress-bar-interrupted, .progress-bar-interrupted::-webkit-progress-bar {\n",
       "                background: #F44336;\n",
       "            }\n",
       "        </style>\n",
       "      <progress value='4000' class='' max='4000' style='width:300px; height:20px; vertical-align: middle;'></progress>\n",
       "      100.00% [4000/4000 00:01<00:00]\n",
       "    </div>\n",
       "    "
      ],
      "text/plain": [
       "<IPython.core.display.HTML object>"
      ]
     },
     "metadata": {},
     "output_type": "display_data"
    },
    {
     "name": "stdout",
     "output_type": "stream",
     "text": [
      "Finished 25 / 38\n"
     ]
    },
    {
     "name": "stderr",
     "output_type": "stream",
     "text": [
      "C:\\Users\\benja\\AppData\\Local\\Temp\\ipykernel_16744\\3405997231.py:40: SettingWithCopyWarning: \n",
      "A value is trying to be set on a copy of a slice from a DataFrame.\n",
      "Try using .loc[row_indexer,col_indexer] = value instead\n",
      "\n",
      "See the caveats in the documentation: https://pandas.pydata.org/pandas-docs/stable/user_guide/indexing.html#returning-a-view-versus-a-copy\n",
      "  df_player_moving_teams_priors.sigma = (\n",
      "Auto-assigning NUTS sampler...\n",
      "Initializing NUTS using jitter+adapt_diag...\n",
      "Multiprocess sampling (4 chains in 4 jobs)\n",
      "NUTS: [γ, Δ, β_, P]\n"
     ]
    },
    {
     "data": {
      "text/html": [
       "\n",
       "    <div>\n",
       "        <style>\n",
       "            /* Turns off some styling */\n",
       "            progress {\n",
       "                /* gets rid of default border in Firefox and Opera. */\n",
       "                border: none;\n",
       "                /* Needs to be in here for Safari polyfill so background images work as expected. */\n",
       "                background-size: auto;\n",
       "            }\n",
       "            .progress-bar-interrupted, .progress-bar-interrupted::-webkit-progress-bar {\n",
       "                background: #F44336;\n",
       "            }\n",
       "        </style>\n",
       "      <progress value='8000' class='' max='8000' style='width:300px; height:20px; vertical-align: middle;'></progress>\n",
       "      100.00% [8000/8000 09:16<00:00 Sampling 4 chains, 4,000 divergences]\n",
       "    </div>\n",
       "    "
      ],
      "text/plain": [
       "<IPython.core.display.HTML object>"
      ]
     },
     "metadata": {},
     "output_type": "display_data"
    },
    {
     "name": "stderr",
     "output_type": "stream",
     "text": [
      "Sampling 4 chains for 1_000 tune and 1_000 draw iterations (4_000 + 4_000 draws total) took 574 seconds.\n",
      "The rhat statistic is larger than 1.01 for some parameters. This indicates problems during sampling. See https://arxiv.org/abs/1903.08008 for details\n",
      "The effective sample size per chain is smaller than 100 for some parameters.  A higher number is needed for reliable rhat and ess computation. See https://arxiv.org/abs/1903.08008 for details\n",
      "There were 4000 divergences after tuning. Increase `target_accept` or reparameterize.\n",
      "Sampling: [x]\n"
     ]
    },
    {
     "data": {
      "text/html": [
       "\n",
       "    <div>\n",
       "        <style>\n",
       "            /* Turns off some styling */\n",
       "            progress {\n",
       "                /* gets rid of default border in Firefox and Opera. */\n",
       "                border: none;\n",
       "                /* Needs to be in here for Safari polyfill so background images work as expected. */\n",
       "                background-size: auto;\n",
       "            }\n",
       "            .progress-bar-interrupted, .progress-bar-interrupted::-webkit-progress-bar {\n",
       "                background: #F44336;\n",
       "            }\n",
       "        </style>\n",
       "      <progress value='4000' class='' max='4000' style='width:300px; height:20px; vertical-align: middle;'></progress>\n",
       "      100.00% [4000/4000 00:01<00:00]\n",
       "    </div>\n",
       "    "
      ],
      "text/plain": [
       "<IPython.core.display.HTML object>"
      ]
     },
     "metadata": {},
     "output_type": "display_data"
    },
    {
     "name": "stdout",
     "output_type": "stream",
     "text": [
      "Finished 26 / 38\n"
     ]
    },
    {
     "name": "stderr",
     "output_type": "stream",
     "text": [
      "C:\\Users\\benja\\AppData\\Local\\Temp\\ipykernel_16744\\3405997231.py:40: SettingWithCopyWarning: \n",
      "A value is trying to be set on a copy of a slice from a DataFrame.\n",
      "Try using .loc[row_indexer,col_indexer] = value instead\n",
      "\n",
      "See the caveats in the documentation: https://pandas.pydata.org/pandas-docs/stable/user_guide/indexing.html#returning-a-view-versus-a-copy\n",
      "  df_player_moving_teams_priors.sigma = (\n",
      "Auto-assigning NUTS sampler...\n",
      "Initializing NUTS using jitter+adapt_diag...\n",
      "Multiprocess sampling (4 chains in 4 jobs)\n",
      "NUTS: [γ, Δ, β_, P]\n"
     ]
    },
    {
     "data": {
      "text/html": [
       "\n",
       "    <div>\n",
       "        <style>\n",
       "            /* Turns off some styling */\n",
       "            progress {\n",
       "                /* gets rid of default border in Firefox and Opera. */\n",
       "                border: none;\n",
       "                /* Needs to be in here for Safari polyfill so background images work as expected. */\n",
       "                background-size: auto;\n",
       "            }\n",
       "            .progress-bar-interrupted, .progress-bar-interrupted::-webkit-progress-bar {\n",
       "                background: #F44336;\n",
       "            }\n",
       "        </style>\n",
       "      <progress value='8000' class='' max='8000' style='width:300px; height:20px; vertical-align: middle;'></progress>\n",
       "      100.00% [8000/8000 09:45<00:00 Sampling 4 chains, 4,000 divergences]\n",
       "    </div>\n",
       "    "
      ],
      "text/plain": [
       "<IPython.core.display.HTML object>"
      ]
     },
     "metadata": {},
     "output_type": "display_data"
    },
    {
     "name": "stderr",
     "output_type": "stream",
     "text": [
      "Sampling 4 chains for 1_000 tune and 1_000 draw iterations (4_000 + 4_000 draws total) took 602 seconds.\n",
      "The rhat statistic is larger than 1.01 for some parameters. This indicates problems during sampling. See https://arxiv.org/abs/1903.08008 for details\n",
      "The effective sample size per chain is smaller than 100 for some parameters.  A higher number is needed for reliable rhat and ess computation. See https://arxiv.org/abs/1903.08008 for details\n",
      "There were 4000 divergences after tuning. Increase `target_accept` or reparameterize.\n",
      "Sampling: [x]\n"
     ]
    },
    {
     "data": {
      "text/html": [
       "\n",
       "    <div>\n",
       "        <style>\n",
       "            /* Turns off some styling */\n",
       "            progress {\n",
       "                /* gets rid of default border in Firefox and Opera. */\n",
       "                border: none;\n",
       "                /* Needs to be in here for Safari polyfill so background images work as expected. */\n",
       "                background-size: auto;\n",
       "            }\n",
       "            .progress-bar-interrupted, .progress-bar-interrupted::-webkit-progress-bar {\n",
       "                background: #F44336;\n",
       "            }\n",
       "        </style>\n",
       "      <progress value='4000' class='' max='4000' style='width:300px; height:20px; vertical-align: middle;'></progress>\n",
       "      100.00% [4000/4000 00:01<00:00]\n",
       "    </div>\n",
       "    "
      ],
      "text/plain": [
       "<IPython.core.display.HTML object>"
      ]
     },
     "metadata": {},
     "output_type": "display_data"
    },
    {
     "name": "stdout",
     "output_type": "stream",
     "text": [
      "Finished 27 / 38\n"
     ]
    },
    {
     "name": "stderr",
     "output_type": "stream",
     "text": [
      "C:\\Users\\benja\\AppData\\Local\\Temp\\ipykernel_16744\\3405997231.py:40: SettingWithCopyWarning: \n",
      "A value is trying to be set on a copy of a slice from a DataFrame.\n",
      "Try using .loc[row_indexer,col_indexer] = value instead\n",
      "\n",
      "See the caveats in the documentation: https://pandas.pydata.org/pandas-docs/stable/user_guide/indexing.html#returning-a-view-versus-a-copy\n",
      "  df_player_moving_teams_priors.sigma = (\n",
      "Auto-assigning NUTS sampler...\n",
      "Initializing NUTS using jitter+adapt_diag...\n",
      "Multiprocess sampling (4 chains in 4 jobs)\n",
      "NUTS: [γ, Δ, β_, P]\n"
     ]
    },
    {
     "data": {
      "text/html": [
       "\n",
       "    <div>\n",
       "        <style>\n",
       "            /* Turns off some styling */\n",
       "            progress {\n",
       "                /* gets rid of default border in Firefox and Opera. */\n",
       "                border: none;\n",
       "                /* Needs to be in here for Safari polyfill so background images work as expected. */\n",
       "                background-size: auto;\n",
       "            }\n",
       "            .progress-bar-interrupted, .progress-bar-interrupted::-webkit-progress-bar {\n",
       "                background: #F44336;\n",
       "            }\n",
       "        </style>\n",
       "      <progress value='8000' class='' max='8000' style='width:300px; height:20px; vertical-align: middle;'></progress>\n",
       "      100.00% [8000/8000 10:13<00:00 Sampling 4 chains, 4,000 divergences]\n",
       "    </div>\n",
       "    "
      ],
      "text/plain": [
       "<IPython.core.display.HTML object>"
      ]
     },
     "metadata": {},
     "output_type": "display_data"
    },
    {
     "name": "stderr",
     "output_type": "stream",
     "text": [
      "Sampling 4 chains for 1_000 tune and 1_000 draw iterations (4_000 + 4_000 draws total) took 630 seconds.\n",
      "The rhat statistic is larger than 1.01 for some parameters. This indicates problems during sampling. See https://arxiv.org/abs/1903.08008 for details\n",
      "The effective sample size per chain is smaller than 100 for some parameters.  A higher number is needed for reliable rhat and ess computation. See https://arxiv.org/abs/1903.08008 for details\n",
      "There were 4000 divergences after tuning. Increase `target_accept` or reparameterize.\n",
      "Sampling: [x]\n"
     ]
    },
    {
     "data": {
      "text/html": [
       "\n",
       "    <div>\n",
       "        <style>\n",
       "            /* Turns off some styling */\n",
       "            progress {\n",
       "                /* gets rid of default border in Firefox and Opera. */\n",
       "                border: none;\n",
       "                /* Needs to be in here for Safari polyfill so background images work as expected. */\n",
       "                background-size: auto;\n",
       "            }\n",
       "            .progress-bar-interrupted, .progress-bar-interrupted::-webkit-progress-bar {\n",
       "                background: #F44336;\n",
       "            }\n",
       "        </style>\n",
       "      <progress value='4000' class='' max='4000' style='width:300px; height:20px; vertical-align: middle;'></progress>\n",
       "      100.00% [4000/4000 00:01<00:00]\n",
       "    </div>\n",
       "    "
      ],
      "text/plain": [
       "<IPython.core.display.HTML object>"
      ]
     },
     "metadata": {},
     "output_type": "display_data"
    },
    {
     "name": "stdout",
     "output_type": "stream",
     "text": [
      "Finished 28 / 38\n"
     ]
    },
    {
     "name": "stderr",
     "output_type": "stream",
     "text": [
      "C:\\Users\\benja\\AppData\\Local\\Temp\\ipykernel_16744\\3405997231.py:40: SettingWithCopyWarning: \n",
      "A value is trying to be set on a copy of a slice from a DataFrame.\n",
      "Try using .loc[row_indexer,col_indexer] = value instead\n",
      "\n",
      "See the caveats in the documentation: https://pandas.pydata.org/pandas-docs/stable/user_guide/indexing.html#returning-a-view-versus-a-copy\n",
      "  df_player_moving_teams_priors.sigma = (\n",
      "Auto-assigning NUTS sampler...\n",
      "Initializing NUTS using jitter+adapt_diag...\n",
      "Multiprocess sampling (4 chains in 4 jobs)\n",
      "NUTS: [γ, Δ, β_, P]\n"
     ]
    },
    {
     "data": {
      "text/html": [
       "\n",
       "    <div>\n",
       "        <style>\n",
       "            /* Turns off some styling */\n",
       "            progress {\n",
       "                /* gets rid of default border in Firefox and Opera. */\n",
       "                border: none;\n",
       "                /* Needs to be in here for Safari polyfill so background images work as expected. */\n",
       "                background-size: auto;\n",
       "            }\n",
       "            .progress-bar-interrupted, .progress-bar-interrupted::-webkit-progress-bar {\n",
       "                background: #F44336;\n",
       "            }\n",
       "        </style>\n",
       "      <progress value='8000' class='' max='8000' style='width:300px; height:20px; vertical-align: middle;'></progress>\n",
       "      100.00% [8000/8000 09:58<00:00 Sampling 4 chains, 4,000 divergences]\n",
       "    </div>\n",
       "    "
      ],
      "text/plain": [
       "<IPython.core.display.HTML object>"
      ]
     },
     "metadata": {},
     "output_type": "display_data"
    },
    {
     "name": "stderr",
     "output_type": "stream",
     "text": [
      "Sampling 4 chains for 1_000 tune and 1_000 draw iterations (4_000 + 4_000 draws total) took 615 seconds.\n",
      "The rhat statistic is larger than 1.01 for some parameters. This indicates problems during sampling. See https://arxiv.org/abs/1903.08008 for details\n",
      "The effective sample size per chain is smaller than 100 for some parameters.  A higher number is needed for reliable rhat and ess computation. See https://arxiv.org/abs/1903.08008 for details\n",
      "There were 4000 divergences after tuning. Increase `target_accept` or reparameterize.\n",
      "Sampling: [x]\n"
     ]
    },
    {
     "data": {
      "text/html": [
       "\n",
       "    <div>\n",
       "        <style>\n",
       "            /* Turns off some styling */\n",
       "            progress {\n",
       "                /* gets rid of default border in Firefox and Opera. */\n",
       "                border: none;\n",
       "                /* Needs to be in here for Safari polyfill so background images work as expected. */\n",
       "                background-size: auto;\n",
       "            }\n",
       "            .progress-bar-interrupted, .progress-bar-interrupted::-webkit-progress-bar {\n",
       "                background: #F44336;\n",
       "            }\n",
       "        </style>\n",
       "      <progress value='4000' class='' max='4000' style='width:300px; height:20px; vertical-align: middle;'></progress>\n",
       "      100.00% [4000/4000 00:01<00:00]\n",
       "    </div>\n",
       "    "
      ],
      "text/plain": [
       "<IPython.core.display.HTML object>"
      ]
     },
     "metadata": {},
     "output_type": "display_data"
    },
    {
     "name": "stdout",
     "output_type": "stream",
     "text": [
      "Finished 29 / 38\n"
     ]
    },
    {
     "name": "stderr",
     "output_type": "stream",
     "text": [
      "C:\\Users\\benja\\AppData\\Local\\Temp\\ipykernel_16744\\3405997231.py:40: SettingWithCopyWarning: \n",
      "A value is trying to be set on a copy of a slice from a DataFrame.\n",
      "Try using .loc[row_indexer,col_indexer] = value instead\n",
      "\n",
      "See the caveats in the documentation: https://pandas.pydata.org/pandas-docs/stable/user_guide/indexing.html#returning-a-view-versus-a-copy\n",
      "  df_player_moving_teams_priors.sigma = (\n",
      "Auto-assigning NUTS sampler...\n",
      "Initializing NUTS using jitter+adapt_diag...\n",
      "Multiprocess sampling (4 chains in 4 jobs)\n",
      "NUTS: [γ, Δ, β_, P]\n"
     ]
    },
    {
     "data": {
      "text/html": [
       "\n",
       "    <div>\n",
       "        <style>\n",
       "            /* Turns off some styling */\n",
       "            progress {\n",
       "                /* gets rid of default border in Firefox and Opera. */\n",
       "                border: none;\n",
       "                /* Needs to be in here for Safari polyfill so background images work as expected. */\n",
       "                background-size: auto;\n",
       "            }\n",
       "            .progress-bar-interrupted, .progress-bar-interrupted::-webkit-progress-bar {\n",
       "                background: #F44336;\n",
       "            }\n",
       "        </style>\n",
       "      <progress value='8000' class='' max='8000' style='width:300px; height:20px; vertical-align: middle;'></progress>\n",
       "      100.00% [8000/8000 09:01<00:00 Sampling 4 chains, 4,000 divergences]\n",
       "    </div>\n",
       "    "
      ],
      "text/plain": [
       "<IPython.core.display.HTML object>"
      ]
     },
     "metadata": {},
     "output_type": "display_data"
    },
    {
     "name": "stderr",
     "output_type": "stream",
     "text": [
      "Sampling 4 chains for 1_000 tune and 1_000 draw iterations (4_000 + 4_000 draws total) took 558 seconds.\n",
      "The rhat statistic is larger than 1.01 for some parameters. This indicates problems during sampling. See https://arxiv.org/abs/1903.08008 for details\n",
      "The effective sample size per chain is smaller than 100 for some parameters.  A higher number is needed for reliable rhat and ess computation. See https://arxiv.org/abs/1903.08008 for details\n",
      "There were 4000 divergences after tuning. Increase `target_accept` or reparameterize.\n",
      "Sampling: [x]\n"
     ]
    },
    {
     "data": {
      "text/html": [
       "\n",
       "    <div>\n",
       "        <style>\n",
       "            /* Turns off some styling */\n",
       "            progress {\n",
       "                /* gets rid of default border in Firefox and Opera. */\n",
       "                border: none;\n",
       "                /* Needs to be in here for Safari polyfill so background images work as expected. */\n",
       "                background-size: auto;\n",
       "            }\n",
       "            .progress-bar-interrupted, .progress-bar-interrupted::-webkit-progress-bar {\n",
       "                background: #F44336;\n",
       "            }\n",
       "        </style>\n",
       "      <progress value='4000' class='' max='4000' style='width:300px; height:20px; vertical-align: middle;'></progress>\n",
       "      100.00% [4000/4000 00:00<00:00]\n",
       "    </div>\n",
       "    "
      ],
      "text/plain": [
       "<IPython.core.display.HTML object>"
      ]
     },
     "metadata": {},
     "output_type": "display_data"
    },
    {
     "name": "stdout",
     "output_type": "stream",
     "text": [
      "Finished 30 / 38\n"
     ]
    },
    {
     "name": "stderr",
     "output_type": "stream",
     "text": [
      "C:\\Users\\benja\\AppData\\Local\\Temp\\ipykernel_16744\\3405997231.py:40: SettingWithCopyWarning: \n",
      "A value is trying to be set on a copy of a slice from a DataFrame.\n",
      "Try using .loc[row_indexer,col_indexer] = value instead\n",
      "\n",
      "See the caveats in the documentation: https://pandas.pydata.org/pandas-docs/stable/user_guide/indexing.html#returning-a-view-versus-a-copy\n",
      "  df_player_moving_teams_priors.sigma = (\n",
      "Auto-assigning NUTS sampler...\n",
      "Initializing NUTS using jitter+adapt_diag...\n",
      "Multiprocess sampling (4 chains in 4 jobs)\n",
      "NUTS: [γ, Δ, β_, P]\n"
     ]
    },
    {
     "data": {
      "text/html": [
       "\n",
       "    <div>\n",
       "        <style>\n",
       "            /* Turns off some styling */\n",
       "            progress {\n",
       "                /* gets rid of default border in Firefox and Opera. */\n",
       "                border: none;\n",
       "                /* Needs to be in here for Safari polyfill so background images work as expected. */\n",
       "                background-size: auto;\n",
       "            }\n",
       "            .progress-bar-interrupted, .progress-bar-interrupted::-webkit-progress-bar {\n",
       "                background: #F44336;\n",
       "            }\n",
       "        </style>\n",
       "      <progress value='8000' class='' max='8000' style='width:300px; height:20px; vertical-align: middle;'></progress>\n",
       "      100.00% [8000/8000 10:06<00:00 Sampling 4 chains, 4,000 divergences]\n",
       "    </div>\n",
       "    "
      ],
      "text/plain": [
       "<IPython.core.display.HTML object>"
      ]
     },
     "metadata": {},
     "output_type": "display_data"
    },
    {
     "name": "stderr",
     "output_type": "stream",
     "text": [
      "Sampling 4 chains for 1_000 tune and 1_000 draw iterations (4_000 + 4_000 draws total) took 622 seconds.\n",
      "The rhat statistic is larger than 1.01 for some parameters. This indicates problems during sampling. See https://arxiv.org/abs/1903.08008 for details\n",
      "The effective sample size per chain is smaller than 100 for some parameters.  A higher number is needed for reliable rhat and ess computation. See https://arxiv.org/abs/1903.08008 for details\n",
      "There were 4000 divergences after tuning. Increase `target_accept` or reparameterize.\n",
      "Sampling: [x]\n"
     ]
    },
    {
     "data": {
      "text/html": [
       "\n",
       "    <div>\n",
       "        <style>\n",
       "            /* Turns off some styling */\n",
       "            progress {\n",
       "                /* gets rid of default border in Firefox and Opera. */\n",
       "                border: none;\n",
       "                /* Needs to be in here for Safari polyfill so background images work as expected. */\n",
       "                background-size: auto;\n",
       "            }\n",
       "            .progress-bar-interrupted, .progress-bar-interrupted::-webkit-progress-bar {\n",
       "                background: #F44336;\n",
       "            }\n",
       "        </style>\n",
       "      <progress value='4000' class='' max='4000' style='width:300px; height:20px; vertical-align: middle;'></progress>\n",
       "      100.00% [4000/4000 00:01<00:00]\n",
       "    </div>\n",
       "    "
      ],
      "text/plain": [
       "<IPython.core.display.HTML object>"
      ]
     },
     "metadata": {},
     "output_type": "display_data"
    },
    {
     "name": "stdout",
     "output_type": "stream",
     "text": [
      "Finished 31 / 38\n"
     ]
    },
    {
     "name": "stderr",
     "output_type": "stream",
     "text": [
      "C:\\Users\\benja\\AppData\\Local\\Temp\\ipykernel_16744\\3405997231.py:40: SettingWithCopyWarning: \n",
      "A value is trying to be set on a copy of a slice from a DataFrame.\n",
      "Try using .loc[row_indexer,col_indexer] = value instead\n",
      "\n",
      "See the caveats in the documentation: https://pandas.pydata.org/pandas-docs/stable/user_guide/indexing.html#returning-a-view-versus-a-copy\n",
      "  df_player_moving_teams_priors.sigma = (\n",
      "Auto-assigning NUTS sampler...\n",
      "Initializing NUTS using jitter+adapt_diag...\n",
      "Multiprocess sampling (4 chains in 4 jobs)\n",
      "NUTS: [γ, Δ, β_, P]\n"
     ]
    },
    {
     "data": {
      "text/html": [
       "\n",
       "    <div>\n",
       "        <style>\n",
       "            /* Turns off some styling */\n",
       "            progress {\n",
       "                /* gets rid of default border in Firefox and Opera. */\n",
       "                border: none;\n",
       "                /* Needs to be in here for Safari polyfill so background images work as expected. */\n",
       "                background-size: auto;\n",
       "            }\n",
       "            .progress-bar-interrupted, .progress-bar-interrupted::-webkit-progress-bar {\n",
       "                background: #F44336;\n",
       "            }\n",
       "        </style>\n",
       "      <progress value='8000' class='' max='8000' style='width:300px; height:20px; vertical-align: middle;'></progress>\n",
       "      100.00% [8000/8000 09:50<00:00 Sampling 4 chains, 4,000 divergences]\n",
       "    </div>\n",
       "    "
      ],
      "text/plain": [
       "<IPython.core.display.HTML object>"
      ]
     },
     "metadata": {},
     "output_type": "display_data"
    },
    {
     "name": "stderr",
     "output_type": "stream",
     "text": [
      "Sampling 4 chains for 1_000 tune and 1_000 draw iterations (4_000 + 4_000 draws total) took 609 seconds.\n",
      "The rhat statistic is larger than 1.01 for some parameters. This indicates problems during sampling. See https://arxiv.org/abs/1903.08008 for details\n",
      "The effective sample size per chain is smaller than 100 for some parameters.  A higher number is needed for reliable rhat and ess computation. See https://arxiv.org/abs/1903.08008 for details\n",
      "There were 4000 divergences after tuning. Increase `target_accept` or reparameterize.\n",
      "Sampling: [x]\n"
     ]
    },
    {
     "data": {
      "text/html": [
       "\n",
       "    <div>\n",
       "        <style>\n",
       "            /* Turns off some styling */\n",
       "            progress {\n",
       "                /* gets rid of default border in Firefox and Opera. */\n",
       "                border: none;\n",
       "                /* Needs to be in here for Safari polyfill so background images work as expected. */\n",
       "                background-size: auto;\n",
       "            }\n",
       "            .progress-bar-interrupted, .progress-bar-interrupted::-webkit-progress-bar {\n",
       "                background: #F44336;\n",
       "            }\n",
       "        </style>\n",
       "      <progress value='4000' class='' max='4000' style='width:300px; height:20px; vertical-align: middle;'></progress>\n",
       "      100.00% [4000/4000 00:00<00:00]\n",
       "    </div>\n",
       "    "
      ],
      "text/plain": [
       "<IPython.core.display.HTML object>"
      ]
     },
     "metadata": {},
     "output_type": "display_data"
    },
    {
     "name": "stdout",
     "output_type": "stream",
     "text": [
      "Finished 32 / 38\n"
     ]
    },
    {
     "name": "stderr",
     "output_type": "stream",
     "text": [
      "C:\\Users\\benja\\AppData\\Local\\Temp\\ipykernel_16744\\3405997231.py:40: SettingWithCopyWarning: \n",
      "A value is trying to be set on a copy of a slice from a DataFrame.\n",
      "Try using .loc[row_indexer,col_indexer] = value instead\n",
      "\n",
      "See the caveats in the documentation: https://pandas.pydata.org/pandas-docs/stable/user_guide/indexing.html#returning-a-view-versus-a-copy\n",
      "  df_player_moving_teams_priors.sigma = (\n",
      "Auto-assigning NUTS sampler...\n",
      "Initializing NUTS using jitter+adapt_diag...\n",
      "Multiprocess sampling (4 chains in 4 jobs)\n",
      "NUTS: [γ, Δ, β_, P]\n"
     ]
    },
    {
     "data": {
      "text/html": [
       "\n",
       "    <div>\n",
       "        <style>\n",
       "            /* Turns off some styling */\n",
       "            progress {\n",
       "                /* gets rid of default border in Firefox and Opera. */\n",
       "                border: none;\n",
       "                /* Needs to be in here for Safari polyfill so background images work as expected. */\n",
       "                background-size: auto;\n",
       "            }\n",
       "            .progress-bar-interrupted, .progress-bar-interrupted::-webkit-progress-bar {\n",
       "                background: #F44336;\n",
       "            }\n",
       "        </style>\n",
       "      <progress value='8000' class='' max='8000' style='width:300px; height:20px; vertical-align: middle;'></progress>\n",
       "      100.00% [8000/8000 10:21<00:00 Sampling 4 chains, 4,000 divergences]\n",
       "    </div>\n",
       "    "
      ],
      "text/plain": [
       "<IPython.core.display.HTML object>"
      ]
     },
     "metadata": {},
     "output_type": "display_data"
    },
    {
     "name": "stderr",
     "output_type": "stream",
     "text": [
      "Sampling 4 chains for 1_000 tune and 1_000 draw iterations (4_000 + 4_000 draws total) took 637 seconds.\n",
      "The rhat statistic is larger than 1.01 for some parameters. This indicates problems during sampling. See https://arxiv.org/abs/1903.08008 for details\n",
      "The effective sample size per chain is smaller than 100 for some parameters.  A higher number is needed for reliable rhat and ess computation. See https://arxiv.org/abs/1903.08008 for details\n",
      "There were 4000 divergences after tuning. Increase `target_accept` or reparameterize.\n",
      "Sampling: [x]\n"
     ]
    },
    {
     "data": {
      "text/html": [
       "\n",
       "    <div>\n",
       "        <style>\n",
       "            /* Turns off some styling */\n",
       "            progress {\n",
       "                /* gets rid of default border in Firefox and Opera. */\n",
       "                border: none;\n",
       "                /* Needs to be in here for Safari polyfill so background images work as expected. */\n",
       "                background-size: auto;\n",
       "            }\n",
       "            .progress-bar-interrupted, .progress-bar-interrupted::-webkit-progress-bar {\n",
       "                background: #F44336;\n",
       "            }\n",
       "        </style>\n",
       "      <progress value='4000' class='' max='4000' style='width:300px; height:20px; vertical-align: middle;'></progress>\n",
       "      100.00% [4000/4000 00:00<00:00]\n",
       "    </div>\n",
       "    "
      ],
      "text/plain": [
       "<IPython.core.display.HTML object>"
      ]
     },
     "metadata": {},
     "output_type": "display_data"
    },
    {
     "name": "stdout",
     "output_type": "stream",
     "text": [
      "Finished 33 / 38\n"
     ]
    },
    {
     "name": "stderr",
     "output_type": "stream",
     "text": [
      "C:\\Users\\benja\\AppData\\Local\\Temp\\ipykernel_16744\\3405997231.py:40: SettingWithCopyWarning: \n",
      "A value is trying to be set on a copy of a slice from a DataFrame.\n",
      "Try using .loc[row_indexer,col_indexer] = value instead\n",
      "\n",
      "See the caveats in the documentation: https://pandas.pydata.org/pandas-docs/stable/user_guide/indexing.html#returning-a-view-versus-a-copy\n",
      "  df_player_moving_teams_priors.sigma = (\n",
      "Auto-assigning NUTS sampler...\n",
      "Initializing NUTS using jitter+adapt_diag...\n",
      "Multiprocess sampling (4 chains in 4 jobs)\n",
      "NUTS: [γ, Δ, β_, P]\n"
     ]
    },
    {
     "data": {
      "text/html": [
       "\n",
       "    <div>\n",
       "        <style>\n",
       "            /* Turns off some styling */\n",
       "            progress {\n",
       "                /* gets rid of default border in Firefox and Opera. */\n",
       "                border: none;\n",
       "                /* Needs to be in here for Safari polyfill so background images work as expected. */\n",
       "                background-size: auto;\n",
       "            }\n",
       "            .progress-bar-interrupted, .progress-bar-interrupted::-webkit-progress-bar {\n",
       "                background: #F44336;\n",
       "            }\n",
       "        </style>\n",
       "      <progress value='8000' class='' max='8000' style='width:300px; height:20px; vertical-align: middle;'></progress>\n",
       "      100.00% [8000/8000 09:55<00:00 Sampling 4 chains, 4,000 divergences]\n",
       "    </div>\n",
       "    "
      ],
      "text/plain": [
       "<IPython.core.display.HTML object>"
      ]
     },
     "metadata": {},
     "output_type": "display_data"
    },
    {
     "name": "stderr",
     "output_type": "stream",
     "text": [
      "Sampling 4 chains for 1_000 tune and 1_000 draw iterations (4_000 + 4_000 draws total) took 614 seconds.\n",
      "The rhat statistic is larger than 1.01 for some parameters. This indicates problems during sampling. See https://arxiv.org/abs/1903.08008 for details\n",
      "The effective sample size per chain is smaller than 100 for some parameters.  A higher number is needed for reliable rhat and ess computation. See https://arxiv.org/abs/1903.08008 for details\n",
      "There were 4000 divergences after tuning. Increase `target_accept` or reparameterize.\n",
      "Sampling: [x]\n"
     ]
    },
    {
     "data": {
      "text/html": [
       "\n",
       "    <div>\n",
       "        <style>\n",
       "            /* Turns off some styling */\n",
       "            progress {\n",
       "                /* gets rid of default border in Firefox and Opera. */\n",
       "                border: none;\n",
       "                /* Needs to be in here for Safari polyfill so background images work as expected. */\n",
       "                background-size: auto;\n",
       "            }\n",
       "            .progress-bar-interrupted, .progress-bar-interrupted::-webkit-progress-bar {\n",
       "                background: #F44336;\n",
       "            }\n",
       "        </style>\n",
       "      <progress value='4000' class='' max='4000' style='width:300px; height:20px; vertical-align: middle;'></progress>\n",
       "      100.00% [4000/4000 00:00<00:00]\n",
       "    </div>\n",
       "    "
      ],
      "text/plain": [
       "<IPython.core.display.HTML object>"
      ]
     },
     "metadata": {},
     "output_type": "display_data"
    },
    {
     "name": "stdout",
     "output_type": "stream",
     "text": [
      "Finished 34 / 38\n"
     ]
    },
    {
     "name": "stderr",
     "output_type": "stream",
     "text": [
      "C:\\Users\\benja\\AppData\\Local\\Temp\\ipykernel_16744\\3405997231.py:40: SettingWithCopyWarning: \n",
      "A value is trying to be set on a copy of a slice from a DataFrame.\n",
      "Try using .loc[row_indexer,col_indexer] = value instead\n",
      "\n",
      "See the caveats in the documentation: https://pandas.pydata.org/pandas-docs/stable/user_guide/indexing.html#returning-a-view-versus-a-copy\n",
      "  df_player_moving_teams_priors.sigma = (\n",
      "Auto-assigning NUTS sampler...\n",
      "Initializing NUTS using jitter+adapt_diag...\n",
      "Multiprocess sampling (4 chains in 4 jobs)\n",
      "NUTS: [γ, Δ, β_, P]\n"
     ]
    },
    {
     "data": {
      "text/html": [
       "\n",
       "    <div>\n",
       "        <style>\n",
       "            /* Turns off some styling */\n",
       "            progress {\n",
       "                /* gets rid of default border in Firefox and Opera. */\n",
       "                border: none;\n",
       "                /* Needs to be in here for Safari polyfill so background images work as expected. */\n",
       "                background-size: auto;\n",
       "            }\n",
       "            .progress-bar-interrupted, .progress-bar-interrupted::-webkit-progress-bar {\n",
       "                background: #F44336;\n",
       "            }\n",
       "        </style>\n",
       "      <progress value='8000' class='' max='8000' style='width:300px; height:20px; vertical-align: middle;'></progress>\n",
       "      100.00% [8000/8000 10:00<00:00 Sampling 4 chains, 4,000 divergences]\n",
       "    </div>\n",
       "    "
      ],
      "text/plain": [
       "<IPython.core.display.HTML object>"
      ]
     },
     "metadata": {},
     "output_type": "display_data"
    },
    {
     "name": "stderr",
     "output_type": "stream",
     "text": [
      "Sampling 4 chains for 1_000 tune and 1_000 draw iterations (4_000 + 4_000 draws total) took 617 seconds.\n",
      "The rhat statistic is larger than 1.01 for some parameters. This indicates problems during sampling. See https://arxiv.org/abs/1903.08008 for details\n",
      "The effective sample size per chain is smaller than 100 for some parameters.  A higher number is needed for reliable rhat and ess computation. See https://arxiv.org/abs/1903.08008 for details\n",
      "There were 4000 divergences after tuning. Increase `target_accept` or reparameterize.\n",
      "Sampling: [x]\n"
     ]
    },
    {
     "data": {
      "text/html": [
       "\n",
       "    <div>\n",
       "        <style>\n",
       "            /* Turns off some styling */\n",
       "            progress {\n",
       "                /* gets rid of default border in Firefox and Opera. */\n",
       "                border: none;\n",
       "                /* Needs to be in here for Safari polyfill so background images work as expected. */\n",
       "                background-size: auto;\n",
       "            }\n",
       "            .progress-bar-interrupted, .progress-bar-interrupted::-webkit-progress-bar {\n",
       "                background: #F44336;\n",
       "            }\n",
       "        </style>\n",
       "      <progress value='4000' class='' max='4000' style='width:300px; height:20px; vertical-align: middle;'></progress>\n",
       "      100.00% [4000/4000 00:01<00:00]\n",
       "    </div>\n",
       "    "
      ],
      "text/plain": [
       "<IPython.core.display.HTML object>"
      ]
     },
     "metadata": {},
     "output_type": "display_data"
    },
    {
     "name": "stdout",
     "output_type": "stream",
     "text": [
      "Finished 35 / 38\n"
     ]
    },
    {
     "name": "stderr",
     "output_type": "stream",
     "text": [
      "C:\\Users\\benja\\AppData\\Local\\Temp\\ipykernel_16744\\3405997231.py:40: SettingWithCopyWarning: \n",
      "A value is trying to be set on a copy of a slice from a DataFrame.\n",
      "Try using .loc[row_indexer,col_indexer] = value instead\n",
      "\n",
      "See the caveats in the documentation: https://pandas.pydata.org/pandas-docs/stable/user_guide/indexing.html#returning-a-view-versus-a-copy\n",
      "  df_player_moving_teams_priors.sigma = (\n",
      "Auto-assigning NUTS sampler...\n",
      "Initializing NUTS using jitter+adapt_diag...\n",
      "Multiprocess sampling (4 chains in 4 jobs)\n",
      "NUTS: [γ, Δ, β_, P]\n"
     ]
    },
    {
     "data": {
      "text/html": [
       "\n",
       "    <div>\n",
       "        <style>\n",
       "            /* Turns off some styling */\n",
       "            progress {\n",
       "                /* gets rid of default border in Firefox and Opera. */\n",
       "                border: none;\n",
       "                /* Needs to be in here for Safari polyfill so background images work as expected. */\n",
       "                background-size: auto;\n",
       "            }\n",
       "            .progress-bar-interrupted, .progress-bar-interrupted::-webkit-progress-bar {\n",
       "                background: #F44336;\n",
       "            }\n",
       "        </style>\n",
       "      <progress value='8000' class='' max='8000' style='width:300px; height:20px; vertical-align: middle;'></progress>\n",
       "      100.00% [8000/8000 10:51<00:00 Sampling 4 chains, 4,000 divergences]\n",
       "    </div>\n",
       "    "
      ],
      "text/plain": [
       "<IPython.core.display.HTML object>"
      ]
     },
     "metadata": {},
     "output_type": "display_data"
    },
    {
     "name": "stderr",
     "output_type": "stream",
     "text": [
      "Sampling 4 chains for 1_000 tune and 1_000 draw iterations (4_000 + 4_000 draws total) took 670 seconds.\n",
      "The rhat statistic is larger than 1.01 for some parameters. This indicates problems during sampling. See https://arxiv.org/abs/1903.08008 for details\n",
      "The effective sample size per chain is smaller than 100 for some parameters.  A higher number is needed for reliable rhat and ess computation. See https://arxiv.org/abs/1903.08008 for details\n",
      "There were 4000 divergences after tuning. Increase `target_accept` or reparameterize.\n",
      "Sampling: [x]\n"
     ]
    },
    {
     "data": {
      "text/html": [
       "\n",
       "    <div>\n",
       "        <style>\n",
       "            /* Turns off some styling */\n",
       "            progress {\n",
       "                /* gets rid of default border in Firefox and Opera. */\n",
       "                border: none;\n",
       "                /* Needs to be in here for Safari polyfill so background images work as expected. */\n",
       "                background-size: auto;\n",
       "            }\n",
       "            .progress-bar-interrupted, .progress-bar-interrupted::-webkit-progress-bar {\n",
       "                background: #F44336;\n",
       "            }\n",
       "        </style>\n",
       "      <progress value='4000' class='' max='4000' style='width:300px; height:20px; vertical-align: middle;'></progress>\n",
       "      100.00% [4000/4000 00:00<00:00]\n",
       "    </div>\n",
       "    "
      ],
      "text/plain": [
       "<IPython.core.display.HTML object>"
      ]
     },
     "metadata": {},
     "output_type": "display_data"
    },
    {
     "name": "stdout",
     "output_type": "stream",
     "text": [
      "Finished 36 / 38\n"
     ]
    },
    {
     "name": "stderr",
     "output_type": "stream",
     "text": [
      "C:\\Users\\benja\\AppData\\Local\\Temp\\ipykernel_16744\\3405997231.py:40: SettingWithCopyWarning: \n",
      "A value is trying to be set on a copy of a slice from a DataFrame.\n",
      "Try using .loc[row_indexer,col_indexer] = value instead\n",
      "\n",
      "See the caveats in the documentation: https://pandas.pydata.org/pandas-docs/stable/user_guide/indexing.html#returning-a-view-versus-a-copy\n",
      "  df_player_moving_teams_priors.sigma = (\n",
      "Auto-assigning NUTS sampler...\n",
      "Initializing NUTS using jitter+adapt_diag...\n",
      "Multiprocess sampling (4 chains in 4 jobs)\n",
      "NUTS: [γ, Δ, β_, P]\n"
     ]
    },
    {
     "data": {
      "text/html": [
       "\n",
       "    <div>\n",
       "        <style>\n",
       "            /* Turns off some styling */\n",
       "            progress {\n",
       "                /* gets rid of default border in Firefox and Opera. */\n",
       "                border: none;\n",
       "                /* Needs to be in here for Safari polyfill so background images work as expected. */\n",
       "                background-size: auto;\n",
       "            }\n",
       "            .progress-bar-interrupted, .progress-bar-interrupted::-webkit-progress-bar {\n",
       "                background: #F44336;\n",
       "            }\n",
       "        </style>\n",
       "      <progress value='8000' class='' max='8000' style='width:300px; height:20px; vertical-align: middle;'></progress>\n",
       "      100.00% [8000/8000 11:07<00:00 Sampling 4 chains, 4,000 divergences]\n",
       "    </div>\n",
       "    "
      ],
      "text/plain": [
       "<IPython.core.display.HTML object>"
      ]
     },
     "metadata": {},
     "output_type": "display_data"
    },
    {
     "name": "stderr",
     "output_type": "stream",
     "text": [
      "Sampling 4 chains for 1_000 tune and 1_000 draw iterations (4_000 + 4_000 draws total) took 685 seconds.\n",
      "The rhat statistic is larger than 1.01 for some parameters. This indicates problems during sampling. See https://arxiv.org/abs/1903.08008 for details\n",
      "The effective sample size per chain is smaller than 100 for some parameters.  A higher number is needed for reliable rhat and ess computation. See https://arxiv.org/abs/1903.08008 for details\n",
      "There were 4000 divergences after tuning. Increase `target_accept` or reparameterize.\n",
      "Sampling: [x]\n"
     ]
    },
    {
     "data": {
      "text/html": [
       "\n",
       "    <div>\n",
       "        <style>\n",
       "            /* Turns off some styling */\n",
       "            progress {\n",
       "                /* gets rid of default border in Firefox and Opera. */\n",
       "                border: none;\n",
       "                /* Needs to be in here for Safari polyfill so background images work as expected. */\n",
       "                background-size: auto;\n",
       "            }\n",
       "            .progress-bar-interrupted, .progress-bar-interrupted::-webkit-progress-bar {\n",
       "                background: #F44336;\n",
       "            }\n",
       "        </style>\n",
       "      <progress value='4000' class='' max='4000' style='width:300px; height:20px; vertical-align: middle;'></progress>\n",
       "      100.00% [4000/4000 00:01<00:00]\n",
       "    </div>\n",
       "    "
      ],
      "text/plain": [
       "<IPython.core.display.HTML object>"
      ]
     },
     "metadata": {},
     "output_type": "display_data"
    },
    {
     "name": "stdout",
     "output_type": "stream",
     "text": [
      "Finished 37 / 38\n"
     ]
    },
    {
     "name": "stderr",
     "output_type": "stream",
     "text": [
      "C:\\Users\\benja\\AppData\\Local\\Temp\\ipykernel_16744\\3405997231.py:40: SettingWithCopyWarning: \n",
      "A value is trying to be set on a copy of a slice from a DataFrame.\n",
      "Try using .loc[row_indexer,col_indexer] = value instead\n",
      "\n",
      "See the caveats in the documentation: https://pandas.pydata.org/pandas-docs/stable/user_guide/indexing.html#returning-a-view-versus-a-copy\n",
      "  df_player_moving_teams_priors.sigma = (\n",
      "Auto-assigning NUTS sampler...\n",
      "Initializing NUTS using jitter+adapt_diag...\n",
      "Multiprocess sampling (4 chains in 4 jobs)\n",
      "NUTS: [γ, Δ, β_, P]\n"
     ]
    },
    {
     "data": {
      "text/html": [
       "\n",
       "    <div>\n",
       "        <style>\n",
       "            /* Turns off some styling */\n",
       "            progress {\n",
       "                /* gets rid of default border in Firefox and Opera. */\n",
       "                border: none;\n",
       "                /* Needs to be in here for Safari polyfill so background images work as expected. */\n",
       "                background-size: auto;\n",
       "            }\n",
       "            .progress-bar-interrupted, .progress-bar-interrupted::-webkit-progress-bar {\n",
       "                background: #F44336;\n",
       "            }\n",
       "        </style>\n",
       "      <progress value='8000' class='' max='8000' style='width:300px; height:20px; vertical-align: middle;'></progress>\n",
       "      100.00% [8000/8000 10:23<00:00 Sampling 4 chains, 4,000 divergences]\n",
       "    </div>\n",
       "    "
      ],
      "text/plain": [
       "<IPython.core.display.HTML object>"
      ]
     },
     "metadata": {},
     "output_type": "display_data"
    },
    {
     "name": "stderr",
     "output_type": "stream",
     "text": [
      "Sampling 4 chains for 1_000 tune and 1_000 draw iterations (4_000 + 4_000 draws total) took 641 seconds.\n",
      "The rhat statistic is larger than 1.01 for some parameters. This indicates problems during sampling. See https://arxiv.org/abs/1903.08008 for details\n",
      "The effective sample size per chain is smaller than 100 for some parameters.  A higher number is needed for reliable rhat and ess computation. See https://arxiv.org/abs/1903.08008 for details\n",
      "There were 4000 divergences after tuning. Increase `target_accept` or reparameterize.\n",
      "Sampling: [x]\n"
     ]
    },
    {
     "data": {
      "text/html": [
       "\n",
       "    <div>\n",
       "        <style>\n",
       "            /* Turns off some styling */\n",
       "            progress {\n",
       "                /* gets rid of default border in Firefox and Opera. */\n",
       "                border: none;\n",
       "                /* Needs to be in here for Safari polyfill so background images work as expected. */\n",
       "                background-size: auto;\n",
       "            }\n",
       "            .progress-bar-interrupted, .progress-bar-interrupted::-webkit-progress-bar {\n",
       "                background: #F44336;\n",
       "            }\n",
       "        </style>\n",
       "      <progress value='4000' class='' max='4000' style='width:300px; height:20px; vertical-align: middle;'></progress>\n",
       "      100.00% [4000/4000 00:01<00:00]\n",
       "    </div>\n",
       "    "
      ],
      "text/plain": [
       "<IPython.core.display.HTML object>"
      ]
     },
     "metadata": {},
     "output_type": "display_data"
    },
    {
     "name": "stdout",
     "output_type": "stream",
     "text": [
      "Finished 38 / 38\n"
     ]
    }
   ],
   "source": [
    "if not CACHED_VAL:\n",
    "    df_test_preds = []\n",
    "    # for season in val_seasons:\n",
    "    df = load_season([season], val_comp_ids)\n",
    "    df = clean_df(df)\n",
    "\n",
    "    ts = np.sort(df.t.unique())\n",
    "    ts = ts[1:]\n",
    "    counter = 2\n",
    "    for t in ts:\n",
    "        # Train / Test\n",
    "        df_train, df_test = df.query(\"t < @t\").reset_index(drop=True), df.query(\"t == @t\").reset_index(drop=True)\n",
    "        df_model_train, df_model_test = df_to_model_df(df_train), df_to_model_df(df_test)\n",
    "        df_model = pd.concat([df_model_train, df_model_test], ignore_index=True)\n",
    "\n",
    "        # Model data\n",
    "        player_id_codes, player_ids = pd.factorize(df_model.loc[:, \"player_id\"], sort=True)\n",
    "        team_codes, teams = pd.factorize(df_model.loc[:, \"opposition_team\"], sort=True)\n",
    "        position_codes, positions = pd.factorize(df_model.loc[:, \"position\"], sort=True)\n",
    "        league_codes, leagues = pd.factorize(df_model.loc[:, \"league\"], sort=True)\n",
    "\n",
    "        player_id_codes_train, player_id_codes_test = player_id_codes[: len(df_model_train)], player_id_codes[len(df_model_train): ]\n",
    "        team_codes_train, team_codes_test = team_codes[: len(df_model_train)], team_codes[len(df_model_train): ]\n",
    "        position_codes_train, position_codes_test = position_codes[: len(df_model_train)], position_codes[len(df_model_train): ]\n",
    "\n",
    "        # Prior specification\n",
    "        df_player_priors = get_new_season_player_priors(df_post_player_priors, df_posterior, df, player_ids)\n",
    "        df_team_priors = get_new_season_team_priors(df_post_team_priors, df, teams)\n",
    "        df_home_priors = get_new_season_home_priors(df_post_home_priors)\n",
    "        df_player_position_priors = get_new_season_position_priors(df_post_position_priors, player_ids, positions)\n",
    "\n",
    "        priors = (df_player_priors, df_team_priors, df_home_priors, df_player_position_priors)\n",
    "\n",
    "        # Train model\n",
    "        coords = {\"player_ids\": player_ids, \"teams\": teams, \"positions\": positions, \"leagues\": leagues}\n",
    "        model = create_model(df_model, df_model, priors, player_id_codes, team_codes, position_codes, coords)\n",
    "\n",
    "        with model:\n",
    "            idata = pm.sample()\n",
    "\n",
    "        # Test predictions\n",
    "        idata =  oos_predictions(model, idata, df_model_test, player_id_codes_test, team_codes_test, position_codes_test)\n",
    "        df_test_pred = add_predictions_to_df(df_test, idata)\n",
    "        df_test_preds.append(df_test_pred)\n",
    "\n",
    "        print(\"Finished\", counter, \"/\", len(ts) + 1)\n",
    "        counter += 1\n",
    "        \n",
    "    # Test DataFrame\n",
    "    df_test = pd.concat(df_test_preds, ignore_index=True)\n",
    "    df_test = add_to_df_test(df_test)\n",
    "    df_test.to_pickle(r\"cache\\df_test.pickle\")\n",
    "\n",
    "else:\n",
    "    df_test = pd.read_pickle(r\"cache\\df_test.pickle\")"
   ]
  },
  {
   "cell_type": "code",
   "execution_count": 39,
   "id": "26880d35-21a5-4fe6-9414-438126204701",
   "metadata": {},
   "outputs": [],
   "source": [
    "df_test = add_to_df_test(df_test)"
   ]
  },
  {
   "cell_type": "markdown",
   "id": "d1f0cb37-a096-4490-98e7-fa92dedb17d4",
   "metadata": {},
   "source": [
    "  "
   ]
  },
  {
   "cell_type": "markdown",
   "id": "55d9e937-03bc-4371-934f-9bb8da67edfc",
   "metadata": {},
   "source": [
    "# Model Evaluation"
   ]
  },
  {
   "cell_type": "code",
   "execution_count": 40,
   "id": "a55bf2ac-866f-4a8c-8a51-0986a07cc188",
   "metadata": {},
   "outputs": [],
   "source": [
    "df_test_set = df_test.query(\"start\").reset_index(drop=True)"
   ]
  },
  {
   "cell_type": "code",
   "execution_count": 41,
   "id": "c9955f5c-8f00-4c75-b955-afbc3ac00827",
   "metadata": {},
   "outputs": [
    {
     "name": "stdout",
     "output_type": "stream",
     "text": [
      "Number of predictions = 28078\n",
      "Log likelihood =  78,777.33\n",
      "MSE =  0.02822\n"
     ]
    }
   ],
   "source": [
    "print(f\"Number of predictions = {len(df_test_set)}\")\n",
    "print(f\"Log likelihood = {df_test_set['log_likelihood'].sum(): ,.2f}\")\n",
    "print(f\"MSE = {df_test_set['mse'].mean(): .5f}\")"
   ]
  },
  {
   "cell_type": "code",
   "execution_count": 42,
   "id": "942c6ad8-633c-4705-88d2-d62222b5ef42",
   "metadata": {},
   "outputs": [
    {
     "name": "stdout",
     "output_type": "stream",
     "text": [
      "Number of predictions = 4059\n",
      "Log likelihood =  1,744.97\n",
      "MSE =  0.09220\n"
     ]
    }
   ],
   "source": [
    "position = \"FW\"\n",
    "df_position = df_test_set.query(\"position == @position\").reset_index(drop=True)\n",
    "print(f\"Number of predictions = {len(df_position)}\")\n",
    "print(f\"Log likelihood = {df_position['log_likelihood'].sum(): ,.2f}\")\n",
    "print(f\"MSE = {df_position['mse'].mean(): .5f}\")"
   ]
  },
  {
   "cell_type": "code",
   "execution_count": 43,
   "id": "8c3a375f-a422-42a3-9ce1-6380e92a7195",
   "metadata": {},
   "outputs": [
    {
     "name": "stdout",
     "output_type": "stream",
     "text": [
      "Number of predictions = 2\n",
      "Log likelihood =  7.03\n",
      "MSE =  0.00197\n"
     ]
    }
   ],
   "source": [
    "player_id = \"87935cf3\"\n",
    "df_player = df_test_set.query(\"player_id == @player_id\").reset_index(drop=True)\n",
    "print(f\"Number of predictions = {len(df_player)}\")\n",
    "print(f\"Log likelihood = {df_player['log_likelihood'].sum(): ,.2f}\")\n",
    "print(f\"MSE = {df_player['mse'].mean(): .5f}\")"
   ]
  },
  {
   "cell_type": "code",
   "execution_count": 44,
   "id": "e65afd98-80ac-45f3-b1cb-9b0d5ebdbc6d",
   "metadata": {},
   "outputs": [
    {
     "name": "stdout",
     "output_type": "stream",
     "text": [
      "Number of predictions = 10\n",
      "Log likelihood =  14.15\n",
      "MSE =  0.02234\n"
     ]
    }
   ],
   "source": [
    "home_team = \"Manchester City\"\n",
    "away_team = \"Brighton & Hove Albion\"\n",
    "home = 1\n",
    "df_test_match = df_test_set.query(\"(home_team == @home_team) & (away_team == @away_team) & (home == @home)\").reset_index(drop=True)\n",
    "print(f\"Number of predictions = {len(df_test_match)}\")\n",
    "print(f\"Log likelihood = {df_test_match['log_likelihood'].sum(): ,.2f}\")\n",
    "print(f\"MSE = {df_test_match['mse'].mean(): .5f}\")"
   ]
  },
  {
   "cell_type": "code",
   "execution_count": 45,
   "id": "ca932994-743c-458e-a575-e76ce4d25e9c",
   "metadata": {},
   "outputs": [
    {
     "data": {
      "text/html": [
       "<div>\n",
       "<style scoped>\n",
       "    .dataframe tbody tr th:only-of-type {\n",
       "        vertical-align: middle;\n",
       "    }\n",
       "\n",
       "    .dataframe tbody tr th {\n",
       "        vertical-align: top;\n",
       "    }\n",
       "\n",
       "    .dataframe thead th {\n",
       "        text-align: right;\n",
       "    }\n",
       "</style>\n",
       "<table border=\"1\" class=\"dataframe\">\n",
       "  <thead>\n",
       "    <tr style=\"text-align: right;\">\n",
       "      <th></th>\n",
       "      <th>player_id</th>\n",
       "      <th>t</th>\n",
       "      <th>position</th>\n",
       "      <th>home_team</th>\n",
       "      <th>away_team</th>\n",
       "      <th>frac_90</th>\n",
       "      <th>pred_npxg</th>\n",
       "      <th>npxg</th>\n",
       "    </tr>\n",
       "  </thead>\n",
       "  <tbody>\n",
       "    <tr>\n",
       "      <th>0</th>\n",
       "      <td>6eaed4eb</td>\n",
       "      <td>2</td>\n",
       "      <td>CB</td>\n",
       "      <td>Granada</td>\n",
       "      <td>Alavés</td>\n",
       "      <td>1.000</td>\n",
       "      <td>0.026</td>\n",
       "      <td>0.000</td>\n",
       "    </tr>\n",
       "    <tr>\n",
       "      <th>1</th>\n",
       "      <td>fd47b4f2</td>\n",
       "      <td>2</td>\n",
       "      <td>CB</td>\n",
       "      <td>Granada</td>\n",
       "      <td>Alavés</td>\n",
       "      <td>0.500</td>\n",
       "      <td>0.026</td>\n",
       "      <td>0.000</td>\n",
       "    </tr>\n",
       "    <tr>\n",
       "      <th>2</th>\n",
       "      <td>b7c99b9b</td>\n",
       "      <td>2</td>\n",
       "      <td>CB</td>\n",
       "      <td>Granada</td>\n",
       "      <td>Alavés</td>\n",
       "      <td>1.000</td>\n",
       "      <td>0.093</td>\n",
       "      <td>0.000</td>\n",
       "    </tr>\n",
       "    <tr>\n",
       "      <th>3</th>\n",
       "      <td>29b61deb</td>\n",
       "      <td>2</td>\n",
       "      <td>CM</td>\n",
       "      <td>Granada</td>\n",
       "      <td>Alavés</td>\n",
       "      <td>1.000</td>\n",
       "      <td>0.011</td>\n",
       "      <td>0.000</td>\n",
       "    </tr>\n",
       "    <tr>\n",
       "      <th>4</th>\n",
       "      <td>d637fc22</td>\n",
       "      <td>2</td>\n",
       "      <td>CM</td>\n",
       "      <td>Granada</td>\n",
       "      <td>Alavés</td>\n",
       "      <td>1.000</td>\n",
       "      <td>0.056</td>\n",
       "      <td>0.000</td>\n",
       "    </tr>\n",
       "    <tr>\n",
       "      <th>...</th>\n",
       "      <td>...</td>\n",
       "      <td>...</td>\n",
       "      <td>...</td>\n",
       "      <td>...</td>\n",
       "      <td>...</td>\n",
       "      <td>...</td>\n",
       "      <td>...</td>\n",
       "      <td>...</td>\n",
       "    </tr>\n",
       "    <tr>\n",
       "      <th>28073</th>\n",
       "      <td>04e17fd5</td>\n",
       "      <td>38</td>\n",
       "      <td>FW</td>\n",
       "      <td>Sevilla</td>\n",
       "      <td>Alavés</td>\n",
       "      <td>1.000</td>\n",
       "      <td>0.614</td>\n",
       "      <td>0.200</td>\n",
       "    </tr>\n",
       "    <tr>\n",
       "      <th>28074</th>\n",
       "      <td>a08b974a</td>\n",
       "      <td>38</td>\n",
       "      <td>W</td>\n",
       "      <td>Sevilla</td>\n",
       "      <td>Alavés</td>\n",
       "      <td>0.611</td>\n",
       "      <td>0.214</td>\n",
       "      <td>0.000</td>\n",
       "    </tr>\n",
       "    <tr>\n",
       "      <th>28075</th>\n",
       "      <td>4e219ad2</td>\n",
       "      <td>38</td>\n",
       "      <td>W</td>\n",
       "      <td>Sevilla</td>\n",
       "      <td>Alavés</td>\n",
       "      <td>0.811</td>\n",
       "      <td>0.071</td>\n",
       "      <td>0.100</td>\n",
       "    </tr>\n",
       "    <tr>\n",
       "      <th>28076</th>\n",
       "      <td>467bae22</td>\n",
       "      <td>38</td>\n",
       "      <td>WM</td>\n",
       "      <td>Sevilla</td>\n",
       "      <td>Alavés</td>\n",
       "      <td>0.611</td>\n",
       "      <td>0.064</td>\n",
       "      <td>0.000</td>\n",
       "    </tr>\n",
       "    <tr>\n",
       "      <th>28077</th>\n",
       "      <td>2a0c8ba4</td>\n",
       "      <td>38</td>\n",
       "      <td>WM</td>\n",
       "      <td>Sevilla</td>\n",
       "      <td>Alavés</td>\n",
       "      <td>0.611</td>\n",
       "      <td>0.056</td>\n",
       "      <td>0.000</td>\n",
       "    </tr>\n",
       "  </tbody>\n",
       "</table>\n",
       "<p>28078 rows × 8 columns</p>\n",
       "</div>"
      ],
      "text/plain": [
       "      player_id   t position home_team away_team  frac_90  pred_npxg   npxg\n",
       "0      6eaed4eb   2       CB   Granada    Alavés    1.000      0.026  0.000\n",
       "1      fd47b4f2   2       CB   Granada    Alavés    0.500      0.026  0.000\n",
       "2      b7c99b9b   2       CB   Granada    Alavés    1.000      0.093  0.000\n",
       "3      29b61deb   2       CM   Granada    Alavés    1.000      0.011  0.000\n",
       "4      d637fc22   2       CM   Granada    Alavés    1.000      0.056  0.000\n",
       "...         ...  ..      ...       ...       ...      ...        ...    ...\n",
       "28073  04e17fd5  38       FW   Sevilla    Alavés    1.000      0.614  0.200\n",
       "28074  a08b974a  38        W   Sevilla    Alavés    0.611      0.214  0.000\n",
       "28075  4e219ad2  38        W   Sevilla    Alavés    0.811      0.071  0.100\n",
       "28076  467bae22  38       WM   Sevilla    Alavés    0.611      0.064  0.000\n",
       "28077  2a0c8ba4  38       WM   Sevilla    Alavés    0.611      0.056  0.000\n",
       "\n",
       "[28078 rows x 8 columns]"
      ]
     },
     "execution_count": 45,
     "metadata": {},
     "output_type": "execute_result"
    }
   ],
   "source": [
    "df_test_set[[\"player_id\", \"t\", \"position\", \"home_team\", \"away_team\", \"frac_90\", \"pred_npxg\", \"npxg\"]]"
   ]
  },
  {
   "cell_type": "markdown",
   "id": "b5806a03-d378-4a0b-82ce-7453f281c37b",
   "metadata": {},
   "source": [
    "  "
   ]
  }
 ],
 "metadata": {
  "kernelspec": {
   "display_name": "pymc_env_2",
   "language": "python",
   "name": "pymc_env_2"
  },
  "language_info": {
   "codemirror_mode": {
    "name": "ipython",
    "version": 3
   },
   "file_extension": ".py",
   "mimetype": "text/x-python",
   "name": "python",
   "nbconvert_exporter": "python",
   "pygments_lexer": "ipython3",
   "version": "3.11.4"
  }
 },
 "nbformat": 4,
 "nbformat_minor": 5
}
