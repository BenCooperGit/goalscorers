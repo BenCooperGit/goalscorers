{
 "cells": [
  {
   "cell_type": "code",
   "execution_count": 1,
   "id": "5b214c75-cf05-4fd8-9659-cfb0d59898bd",
   "metadata": {},
   "outputs": [
    {
     "name": "stdout",
     "output_type": "stream",
     "text": [
      "Running on PyMC v5.6.1\n",
      "Running on Az v0.16.0\n"
     ]
    }
   ],
   "source": [
    "package_paths = [r\"C:\\Users\\benja\\Documents\\projects\\goalscorers\"]\n",
    "import sys\n",
    "for path in package_paths:\n",
    "    sys.path.append(path)\n",
    "from goalscorer_package.constants import *\n",
    "import goalscorer_package.data_cleaning as dc\n",
    "import goalscorer_package.modelling as m\n",
    "import datetime as dt\n",
    "import pandas as pd\n",
    "import numpy as np\n",
    "import pymc as pm\n",
    "print(f\"Running on PyMC v{pm.__version__}\")\n",
    "import arviz as az\n",
    "print(f\"Running on Az v{az.__version__}\")\n",
    "import pytensor.tensor as pt\n",
    "import matplotlib.pyplot as plt\n",
    "import seaborn as sns\n",
    "import scipy\n",
    "import glob\n",
    "from statistics import mode\n",
    "import pickle\n",
    "pd.set_option(\"display.max_columns\", None)\n",
    "pd.set_option(\"display.max_rows\", 1000)\n",
    "pd.set_option(\"display.max_colwidth\", 100)\n",
    "pd.options.display.float_format = \"{: ,.3f}\".format\n",
    "%matplotlib inline\n",
    "plt.rcParams[\"figure.figsize\"] = (10, 6)\n",
    "%config InlineBackend.figure_formats = [\"retina\"]"
   ]
  },
  {
   "cell_type": "markdown",
   "id": "c36c4903-c17e-424a-98f3-8ee9f9048aef",
   "metadata": {},
   "source": [
    "  "
   ]
  },
  {
   "cell_type": "markdown",
   "id": "822fcdeb-22b1-4d5b-b162-622a8469bf1f",
   "metadata": {},
   "source": [
    "# Data"
   ]
  },
  {
   "cell_type": "code",
   "execution_count": 2,
   "id": "2c2b04db-6878-4392-91fc-0877957d84ae",
   "metadata": {},
   "outputs": [],
   "source": [
    "seasons_leagues = [    \n",
    "    # xG season leagues\n",
    "    ## Top 5 and championship\n",
    "    SeasonLeague(SEASON_22_23, ENGLISH_PREMIER_LEAGUE, xg_league_bool=True),\n",
    "    SeasonLeague(SEASON_22_23, ENGLISH_CHAMPIONSHIP, xg_league_bool=True),\n",
    "    SeasonLeague(SEASON_22_23, ITALIAN_SERIE_A, xg_league_bool=True),\n",
    "    SeasonLeague(SEASON_22_23, SPANISH_LA_LIGA, xg_league_bool=True),\n",
    "    SeasonLeague(SEASON_22_23, FRENCH_LIGUE_1, xg_league_bool=True),\n",
    "    SeasonLeague(SEASON_22_23, GERMAN_BUNDESLIGA, xg_league_bool=True),\n",
    "    SeasonLeague(SEASON_21_22, ENGLISH_PREMIER_LEAGUE, xg_league_bool=True),\n",
    "    SeasonLeague(SEASON_21_22, ENGLISH_CHAMPIONSHIP, xg_league_bool=True),\n",
    "    SeasonLeague(SEASON_21_22, ITALIAN_SERIE_A, xg_league_bool=True),\n",
    "    SeasonLeague(SEASON_21_22, SPANISH_LA_LIGA, xg_league_bool=True),\n",
    "    SeasonLeague(SEASON_21_22, FRENCH_LIGUE_1, xg_league_bool=True),\n",
    "    SeasonLeague(SEASON_21_22, GERMAN_BUNDESLIGA, xg_league_bool=True),\n",
    "    SeasonLeague(SEASON_20_21, ENGLISH_PREMIER_LEAGUE, xg_league_bool=True),\n",
    "    SeasonLeague(SEASON_20_21, ENGLISH_CHAMPIONSHIP, xg_league_bool=True),\n",
    "    SeasonLeague(SEASON_20_21, ITALIAN_SERIE_A, xg_league_bool=True),\n",
    "    SeasonLeague(SEASON_20_21, SPANISH_LA_LIGA, xg_league_bool=True),\n",
    "    SeasonLeague(SEASON_20_21, FRENCH_LIGUE_1, xg_league_bool=True),\n",
    "    SeasonLeague(SEASON_20_21, GERMAN_BUNDESLIGA, xg_league_bool=True),\n",
    "    SeasonLeague(SEASON_19_20, ENGLISH_PREMIER_LEAGUE, xg_league_bool=True),\n",
    "    SeasonLeague(SEASON_19_20, ENGLISH_CHAMPIONSHIP, xg_league_bool=True),\n",
    "    SeasonLeague(SEASON_19_20, ITALIAN_SERIE_A, xg_league_bool=True),\n",
    "    SeasonLeague(SEASON_19_20, SPANISH_LA_LIGA, xg_league_bool=True),\n",
    "    SeasonLeague(SEASON_19_20, FRENCH_LIGUE_1, xg_league_bool=True),\n",
    "    SeasonLeague(SEASON_19_20, GERMAN_BUNDESLIGA, xg_league_bool=True),\n",
    "    SeasonLeague(SEASON_18_19, ENGLISH_PREMIER_LEAGUE, xg_league_bool=True),\n",
    "    SeasonLeague(SEASON_18_19, ENGLISH_CHAMPIONSHIP, xg_league_bool=True),\n",
    "    SeasonLeague(SEASON_18_19, ITALIAN_SERIE_A, xg_league_bool=True),\n",
    "    SeasonLeague(SEASON_18_19, SPANISH_LA_LIGA, xg_league_bool=True),\n",
    "    SeasonLeague(SEASON_18_19, FRENCH_LIGUE_1, xg_league_bool=True),\n",
    "    SeasonLeague(SEASON_18_19, GERMAN_BUNDESLIGA, xg_league_bool=True),\n",
    "    SeasonLeague(SEASON_17_18, ENGLISH_PREMIER_LEAGUE, xg_league_bool=True),\n",
    "    SeasonLeague(SEASON_17_18, ITALIAN_SERIE_A, xg_league_bool=True),\n",
    "    SeasonLeague(SEASON_17_18, SPANISH_LA_LIGA, xg_league_bool=True),\n",
    "    # SeasonLeague(SEASON_17_18, FRENCH_LIGUE_1, xg_league_bool=True),\n",
    "    SeasonLeague(SEASON_17_18, GERMAN_BUNDESLIGA, xg_league_bool=True),\n",
    "    ## Lesser leagues\n",
    "    SeasonLeague(SEASON_22_23, PORTUGUESE_PREMIERA_LIGA, xg_league_bool=True),\n",
    "    SeasonLeague(SEASON_22_23, DUTCH_ERIDIVISIE_LIGA, xg_league_bool=True),\n",
    "    SeasonLeague(SEASON_22_23, MEXICAN_LIGA_MX, xg_league_bool=True),\n",
    "    SeasonLeague(SEASON_21_22, PORTUGUESE_PREMIERA_LIGA, xg_league_bool=True),\n",
    "    SeasonLeague(SEASON_21_22, DUTCH_ERIDIVISIE_LIGA, xg_league_bool=True),\n",
    "    SeasonLeague(SEASON_21_22, MEXICAN_LIGA_MX, xg_league_bool=True),\n",
    "    SeasonLeague(SEASON_20_21, PORTUGUESE_PREMIERA_LIGA, xg_league_bool=True),\n",
    "    SeasonLeague(SEASON_20_21, DUTCH_ERIDIVISIE_LIGA, xg_league_bool=True),\n",
    "    SeasonLeague(SEASON_20_21, MEXICAN_LIGA_MX, xg_league_bool=True),\n",
    "    SeasonLeague(SEASON_19_20, PORTUGUESE_PREMIERA_LIGA, xg_league_bool=True),\n",
    "    SeasonLeague(SEASON_19_20, DUTCH_ERIDIVISIE_LIGA, xg_league_bool=True),\n",
    "    SeasonLeague(SEASON_19_20, MEXICAN_LIGA_MX, xg_league_bool=True),\n",
    "    SeasonLeague(SEASON_18_19, PORTUGUESE_PREMIERA_LIGA, xg_league_bool=True),\n",
    "    SeasonLeague(SEASON_18_19, DUTCH_ERIDIVISIE_LIGA, xg_league_bool=True),\n",
    "    SeasonLeague(SEASON_18_19, MEXICAN_LIGA_MX, xg_league_bool=True),\n",
    "]"
   ]
  },
  {
   "cell_type": "code",
   "execution_count": 3,
   "id": "27b93f3c-173d-47fc-9e61-22f16603f511",
   "metadata": {},
   "outputs": [],
   "source": [
    "def data(seasons_leagues: list[SeasonLeague]) -> pd.DataFrame:\n",
    "    df = dc.load_seasons_leagues_files(\"summary\", True, seasons_leagues)\n",
    "    df = dc.add_npg(df)\n",
    "    return df"
   ]
  },
  {
   "cell_type": "code",
   "execution_count": 5,
   "id": "54103519-6a6d-402f-af82-c9fca03d1f41",
   "metadata": {},
   "outputs": [],
   "source": [
    "df = data(seasons_leagues)"
   ]
  },
  {
   "cell_type": "markdown",
   "id": "032159ab-b5ba-4c90-82fd-0d9a766ddcdb",
   "metadata": {},
   "source": [
    "  "
   ]
  },
  {
   "cell_type": "markdown",
   "id": "c761253e-3cbb-43a4-a070-7f8601e81f6e",
   "metadata": {},
   "source": [
    "# Maths"
   ]
  },
  {
   "cell_type": "code",
   "execution_count": 29,
   "id": "3196a0ca-db93-461e-b4ac-176630cdf745",
   "metadata": {},
   "outputs": [],
   "source": [
    "goals = [0, 1, 2, 3, 4, 5]"
   ]
  },
  {
   "cell_type": "code",
   "execution_count": 33,
   "id": "c772074e-018b-4482-afee-d0c3721c521e",
   "metadata": {},
   "outputs": [],
   "source": [
    "# exp\n",
    "df_pred_npg = pd.DataFrame(\n",
    "    np.array([scipy.stats.poisson.pmf(goal, mu=df.npxg.values) for goal in goals]).T, \n",
    "    columns=goals\n",
    ")"
   ]
  },
  {
   "cell_type": "code",
   "execution_count": 35,
   "id": "0461fa6a-86c7-42d4-b282-a913d70ec413",
   "metadata": {},
   "outputs": [],
   "source": [
    "# obs\n",
    "df_npg = pd.get_dummies(df.npg)"
   ]
  },
  {
   "cell_type": "code",
   "execution_count": 60,
   "id": "3b7c5936-d582-4e50-8b54-13c5109e415f",
   "metadata": {},
   "outputs": [],
   "source": [
    "df_table = (\n",
    "    pd.DataFrame({\"goals\": goals, \"obs_mean\": df_npg.mean(), \"exp_mean\": df_pred_npg.mean(),\n",
    "                  \"obs\": df_npg.sum(), \"exp\": df_pred_npg.sum()})\n",
    "    .assign(\n",
    "        t_stat=lambda x: (x.obs - x.exp) ** 2 / x.exp,\n",
    "    )\n",
    ")\n",
    "df_table.iloc[3] = df_table.iloc[3] + df_table.iloc[4] + df_table.iloc[5]\n",
    "df_table.loc[3, \"goals\"] = 3\n",
    "df_table = df_table.iloc[:4]\n",
    "\n",
    "t_stat = df_table.t_stat.sum()\n",
    "p_val = 1 - scipy.stats.chi2.cdf(t_stat, len(df_table) - 1)"
   ]
  },
  {
   "cell_type": "code",
   "execution_count": 61,
   "id": "8b9c20a6-66e9-4114-a9d5-89bf877c111d",
   "metadata": {},
   "outputs": [
    {
     "name": "stdout",
     "output_type": "stream",
     "text": [
      " 0.00000\n"
     ]
    },
    {
     "data": {
      "text/html": [
       "<div>\n",
       "<style scoped>\n",
       "    .dataframe tbody tr th:only-of-type {\n",
       "        vertical-align: middle;\n",
       "    }\n",
       "\n",
       "    .dataframe tbody tr th {\n",
       "        vertical-align: top;\n",
       "    }\n",
       "\n",
       "    .dataframe thead th {\n",
       "        text-align: right;\n",
       "    }\n",
       "</style>\n",
       "<table border=\"1\" class=\"dataframe\">\n",
       "  <thead>\n",
       "    <tr style=\"text-align: right;\">\n",
       "      <th></th>\n",
       "      <th>goals</th>\n",
       "      <th>obs_mean</th>\n",
       "      <th>exp_mean</th>\n",
       "      <th>obs</th>\n",
       "      <th>exp</th>\n",
       "      <th>t_stat</th>\n",
       "    </tr>\n",
       "  </thead>\n",
       "  <tbody>\n",
       "    <tr>\n",
       "      <th>0</th>\n",
       "      <td>0</td>\n",
       "      <td>0.925</td>\n",
       "      <td>0.932</td>\n",
       "      <td>481551</td>\n",
       "      <td>484,398.975</td>\n",
       "      <td>16.744</td>\n",
       "    </tr>\n",
       "    <tr>\n",
       "      <th>1</th>\n",
       "      <td>1</td>\n",
       "      <td>0.069</td>\n",
       "      <td>0.055</td>\n",
       "      <td>35760</td>\n",
       "      <td>28,432.639</td>\n",
       "      <td>1,888.331</td>\n",
       "    </tr>\n",
       "    <tr>\n",
       "      <th>2</th>\n",
       "      <td>2</td>\n",
       "      <td>0.006</td>\n",
       "      <td>0.010</td>\n",
       "      <td>3081</td>\n",
       "      <td>5,389.053</td>\n",
       "      <td>988.506</td>\n",
       "    </tr>\n",
       "    <tr>\n",
       "      <th>3</th>\n",
       "      <td>3</td>\n",
       "      <td>0.001</td>\n",
       "      <td>0.003</td>\n",
       "      <td>314</td>\n",
       "      <td>1,418.043</td>\n",
       "      <td>866.921</td>\n",
       "    </tr>\n",
       "  </tbody>\n",
       "</table>\n",
       "</div>"
      ],
      "text/plain": [
       "   goals  obs_mean  exp_mean     obs          exp     t_stat\n",
       "0      0     0.925     0.932  481551  484,398.975     16.744\n",
       "1      1     0.069     0.055   35760   28,432.639  1,888.331\n",
       "2      2     0.006     0.010    3081    5,389.053    988.506\n",
       "3      3     0.001     0.003     314    1,418.043    866.921"
      ]
     },
     "execution_count": 61,
     "metadata": {},
     "output_type": "execute_result"
    }
   ],
   "source": [
    "print(f\"{p_val: .5f}\")\n",
    "df_table"
   ]
  },
  {
   "cell_type": "markdown",
   "id": "bdd03c50-07cd-417a-aff0-28e85bdd3116",
   "metadata": {},
   "source": [
    "  "
   ]
  }
 ],
 "metadata": {
  "kernelspec": {
   "display_name": "Python 3 (ipykernel)",
   "language": "python",
   "name": "python3"
  },
  "language_info": {
   "codemirror_mode": {
    "name": "ipython",
    "version": 3
   },
   "file_extension": ".py",
   "mimetype": "text/x-python",
   "name": "python",
   "nbconvert_exporter": "python",
   "pygments_lexer": "ipython3",
   "version": "3.11.4"
  }
 },
 "nbformat": 4,
 "nbformat_minor": 5
}
